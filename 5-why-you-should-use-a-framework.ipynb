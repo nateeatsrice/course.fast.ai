{
 "cells": [
  {
   "cell_type": "markdown",
   "id": "0fae4b9c",
   "metadata": {
    "papermill": {
     "duration": 0.038176,
     "end_time": "2024-02-05T04:14:19.022149",
     "exception": false,
     "start_time": "2024-02-05T04:14:18.983973",
     "status": "completed"
    },
    "tags": []
   },
   "source": [
    "## Introduction and set up"
   ]
  },
  {
   "cell_type": "markdown",
   "id": "5576c0f7",
   "metadata": {
    "papermill": {
     "duration": 0.036605,
     "end_time": "2024-02-05T04:14:19.097188",
     "exception": false,
     "start_time": "2024-02-05T04:14:19.060583",
     "status": "completed"
    },
    "tags": []
   },
   "source": [
    "If you've finished going through my [Linear model and neural net from scratch\n",
    "](https://www.kaggle.com/code/jhoward/linear-model-and-neural-net-from-scratch) notebook, then now is a good time to look at how to do the same thing using a library, instead of doing it from scratch. We'll use fastai and PyTorch. The benefits of using these libraries is:\n",
    "\n",
    "- Best practices are handled for you automatically -- fast.ai has done thousands of hours of experiments to figure out what the best settings are for you\n",
    "- Less time getting set up, which means more time to try out your new ideas\n",
    "- Each idea you try will be less work, because fastai and PyTorch will do the many of the menial bits for you\n",
    "- You can always drop down from fastai to PyTorch if you need to customise any part (or drop down from the fastai Application API to the fastai mid or low tier APIs), or even drop down from PyTorch to plain python for deep customisation.\n",
    "\n",
    "Let's see how that looks in practice. We'll start by doing the same library setup as in the \"from scratch\" notebook:"
   ]
  },
  {
   "cell_type": "code",
   "execution_count": 1,
   "id": "21382007",
   "metadata": {
    "_kg_hide-output": true,
    "execution": {
     "iopub.execute_input": "2024-02-05T04:14:19.172573Z",
     "iopub.status.busy": "2024-02-05T04:14:19.171782Z",
     "iopub.status.idle": "2024-02-05T04:14:42.150832Z",
     "shell.execute_reply": "2024-02-05T04:14:42.150041Z"
    },
    "papermill": {
     "duration": 23.019199,
     "end_time": "2024-02-05T04:14:42.153197",
     "exception": false,
     "start_time": "2024-02-05T04:14:19.133998",
     "status": "completed"
    },
    "tags": []
   },
   "outputs": [
    {
     "name": "stdout",
     "output_type": "stream",
     "text": [
      "\u001b[31mERROR: pip's dependency resolver does not currently take into account all the packages that are installed. This behaviour is the source of the following dependency conflicts.\r\n",
      "tensorflow-io 0.21.0 requires tensorflow-io-gcs-filesystem==0.21.0, which is not installed.\r\n",
      "tensorflow 2.6.3 requires absl-py~=0.10, but you have absl-py 1.0.0 which is incompatible.\r\n",
      "tensorflow 2.6.3 requires numpy~=1.19.2, but you have numpy 1.21.6 which is incompatible.\r\n",
      "tensorflow 2.6.3 requires six~=1.15.0, but you have six 1.16.0 which is incompatible.\r\n",
      "tensorflow 2.6.3 requires wrapt~=1.12.1, but you have wrapt 1.14.0 which is incompatible.\r\n",
      "tensorflow-transform 1.7.0 requires pyarrow<6,>=1, but you have pyarrow 7.0.0 which is incompatible.\r\n",
      "tensorflow-transform 1.7.0 requires tensorflow!=2.0.*,!=2.1.*,!=2.2.*,!=2.3.*,!=2.4.*,!=2.5.*,!=2.6.*,!=2.7.*,<2.9,>=1.15.5, but you have tensorflow 2.6.3 which is incompatible.\r\n",
      "tensorflow-serving-api 2.8.0 requires tensorflow<3,>=2.8.0, but you have tensorflow 2.6.3 which is incompatible.\r\n",
      "rich 12.4.1 requires typing-extensions<5.0,>=4.0.0; python_version < \"3.9\", but you have typing-extensions 3.10.0.2 which is incompatible.\r\n",
      "pytorch-lightning 1.6.3 requires typing-extensions>=4.0.0, but you have typing-extensions 3.10.0.2 which is incompatible.\r\n",
      "pytools 2022.1.7 requires typing-extensions>=4.0; python_version < \"3.11\", but you have typing-extensions 3.10.0.2 which is incompatible.\r\n",
      "flax 0.4.2 requires typing-extensions>=4.1.1, but you have typing-extensions 3.10.0.2 which is incompatible.\r\n",
      "flake8 4.0.1 requires importlib-metadata<4.3; python_version < \"3.8\", but you have importlib-metadata 4.11.3 which is incompatible.\r\n",
      "apache-beam 2.37.0 requires dill<0.3.2,>=0.3.1.1, but you have dill 0.3.4 which is incompatible.\r\n",
      "apache-beam 2.37.0 requires httplib2<0.20.0,>=0.8, but you have httplib2 0.20.4 which is incompatible.\r\n",
      "apache-beam 2.37.0 requires pyarrow<7.0.0,>=0.15.1, but you have pyarrow 7.0.0 which is incompatible.\r\n",
      "aioitertools 0.10.0 requires typing_extensions>=4.0; python_version < \"3.10\", but you have typing-extensions 3.10.0.2 which is incompatible.\r\n",
      "aiobotocore 2.2.0 requires botocore<1.24.22,>=1.24.21, but you have botocore 1.25.12 which is incompatible.\u001b[0m\u001b[31m\r\n",
      "\u001b[0m"
     ]
    }
   ],
   "source": [
    "from pathlib import Path\n",
    "import os\n",
    "\n",
    "iskaggle = os.environ.get('KAGGLE_KERNEL_RUN_TYPE', '')\n",
    "if iskaggle:\n",
    "    path = Path('../input/titanic')\n",
    "    !pip install -Uqq fastai\n",
    "else:\n",
    "    import zipfile,kaggle\n",
    "    path = Path('titanic')\n",
    "    if not path.exists():\n",
    "        kaggle.api.competition_download_cli(str(path))\n",
    "        zipfile.ZipFile(f'{path}.zip').extractall(path)"
   ]
  },
  {
   "cell_type": "markdown",
   "id": "23f30f48",
   "metadata": {
    "papermill": {
     "duration": 0.036522,
     "end_time": "2024-02-05T04:14:42.227617",
     "exception": false,
     "start_time": "2024-02-05T04:14:42.191095",
     "status": "completed"
    },
    "tags": []
   },
   "source": [
    "We'll import the fastai tabular library, set a random seed so the notebook is reproducible, and pick a reasonable number of significant figures to display in our tables:"
   ]
  },
  {
   "cell_type": "code",
   "execution_count": 2,
   "id": "371b4d16",
   "metadata": {
    "execution": {
     "iopub.execute_input": "2024-02-05T04:14:42.304011Z",
     "iopub.status.busy": "2024-02-05T04:14:42.303712Z",
     "iopub.status.idle": "2024-02-05T04:14:44.870825Z",
     "shell.execute_reply": "2024-02-05T04:14:44.870004Z"
    },
    "papermill": {
     "duration": 2.608357,
     "end_time": "2024-02-05T04:14:44.873108",
     "exception": false,
     "start_time": "2024-02-05T04:14:42.264751",
     "status": "completed"
    },
    "tags": []
   },
   "outputs": [],
   "source": [
    "from fastai.tabular.all import *\n",
    "\n",
    "pd.options.display.float_format = '{:.2f}'.format\n",
    "set_seed(42)"
   ]
  },
  {
   "cell_type": "markdown",
   "id": "9beef900",
   "metadata": {
    "papermill": {
     "duration": 0.036874,
     "end_time": "2024-02-05T04:14:44.947027",
     "exception": false,
     "start_time": "2024-02-05T04:14:44.910153",
     "status": "completed"
    },
    "tags": []
   },
   "source": [
    "## Prep the data"
   ]
  },
  {
   "cell_type": "markdown",
   "id": "c0b117ac",
   "metadata": {
    "papermill": {
     "duration": 0.036675,
     "end_time": "2024-02-05T04:14:45.020886",
     "exception": false,
     "start_time": "2024-02-05T04:14:44.984211",
     "status": "completed"
    },
    "tags": []
   },
   "source": [
    "We'll read the CSV file just like we did before:"
   ]
  },
  {
   "cell_type": "code",
   "execution_count": 3,
   "id": "d4d30e01",
   "metadata": {
    "execution": {
     "iopub.execute_input": "2024-02-05T04:14:45.097473Z",
     "iopub.status.busy": "2024-02-05T04:14:45.097162Z",
     "iopub.status.idle": "2024-02-05T04:14:45.115047Z",
     "shell.execute_reply": "2024-02-05T04:14:45.114324Z"
    },
    "papermill": {
     "duration": 0.059635,
     "end_time": "2024-02-05T04:14:45.117087",
     "exception": false,
     "start_time": "2024-02-05T04:14:45.057452",
     "status": "completed"
    },
    "tags": []
   },
   "outputs": [],
   "source": [
    "df = pd.read_csv(path/'train.csv')"
   ]
  },
  {
   "cell_type": "markdown",
   "id": "e5d853db",
   "metadata": {
    "papermill": {
     "duration": 0.03631,
     "end_time": "2024-02-05T04:14:45.190457",
     "exception": false,
     "start_time": "2024-02-05T04:14:45.154147",
     "status": "completed"
    },
    "tags": []
   },
   "source": [
    "When you do everything from scratch, every bit of feature engineering requires a whole lot of work, since you have to think about things like dummy variables, normalization, missing values, and so on. But with fastai that's all done for you. So let's go wild and create lots of new features! We'll use a bunch of the most interesting ones from this fantastic [Titanic feature engineering notebook](https://www.kaggle.com/code/gunesevitan/titanic-advanced-feature-engineering-tutorial/) (and be sure to click that link and upvote that notebook if you like it to thank the author for their hard work!)"
   ]
  },
  {
   "cell_type": "code",
   "execution_count": 4,
   "id": "45509c99",
   "metadata": {
    "execution": {
     "iopub.execute_input": "2024-02-05T04:14:45.265489Z",
     "iopub.status.busy": "2024-02-05T04:14:45.265174Z",
     "iopub.status.idle": "2024-02-05T04:14:45.294117Z",
     "shell.execute_reply": "2024-02-05T04:14:45.293536Z"
    },
    "papermill": {
     "duration": 0.068313,
     "end_time": "2024-02-05T04:14:45.295998",
     "exception": false,
     "start_time": "2024-02-05T04:14:45.227685",
     "status": "completed"
    },
    "tags": []
   },
   "outputs": [],
   "source": [
    "def add_features(df):\n",
    "    df['LogFare'] = np.log1p(df['Fare'])\n",
    "    df['Deck'] = df.Cabin.str[0].map(dict(A=\"ABC\", B=\"ABC\", C=\"ABC\", D=\"DE\", E=\"DE\", F=\"FG\", G=\"FG\"))\n",
    "    df['Family'] = df.SibSp+df.Parch\n",
    "    df['Alone'] = df.Family==0\n",
    "    df['TicketFreq'] = df.groupby('Ticket')['Ticket'].transform('count')\n",
    "    df['Title'] = df.Name.str.split(', ', expand=True)[1].str.split('.', expand=True)[0]\n",
    "    df['Title'] = df.Title.map(dict(Mr=\"Mr\",Miss=\"Miss\",Mrs=\"Mrs\",Master=\"Master\"))\n",
    "\n",
    "add_features(df)"
   ]
  },
  {
   "cell_type": "markdown",
   "id": "bea52cec",
   "metadata": {
    "papermill": {
     "duration": 0.036366,
     "end_time": "2024-02-05T04:14:45.369162",
     "exception": false,
     "start_time": "2024-02-05T04:14:45.332796",
     "status": "completed"
    },
    "tags": []
   },
   "source": [
    "As we discussed in the last notebook, we can use `RandomSplitter` to separate out the training and validation sets:"
   ]
  },
  {
   "cell_type": "code",
   "execution_count": 5,
   "id": "38e44cd4",
   "metadata": {
    "execution": {
     "iopub.execute_input": "2024-02-05T04:14:45.443710Z",
     "iopub.status.busy": "2024-02-05T04:14:45.443447Z",
     "iopub.status.idle": "2024-02-05T04:14:45.449604Z",
     "shell.execute_reply": "2024-02-05T04:14:45.449003Z"
    },
    "papermill": {
     "duration": 0.045903,
     "end_time": "2024-02-05T04:14:45.451533",
     "exception": false,
     "start_time": "2024-02-05T04:14:45.405630",
     "status": "completed"
    },
    "tags": []
   },
   "outputs": [],
   "source": [
    "splits = RandomSplitter(seed=42)(df)"
   ]
  },
  {
   "cell_type": "markdown",
   "id": "887b8729",
   "metadata": {
    "papermill": {
     "duration": 0.036164,
     "end_time": "2024-02-05T04:14:45.524295",
     "exception": false,
     "start_time": "2024-02-05T04:14:45.488131",
     "status": "completed"
    },
    "tags": []
   },
   "source": [
    "Now the entire process of getting the data ready for training requires just this one cell!:"
   ]
  },
  {
   "cell_type": "code",
   "execution_count": 6,
   "id": "3d15db9a",
   "metadata": {
    "execution": {
     "iopub.execute_input": "2024-02-05T04:14:45.599264Z",
     "iopub.status.busy": "2024-02-05T04:14:45.598988Z",
     "iopub.status.idle": "2024-02-05T04:14:45.828438Z",
     "shell.execute_reply": "2024-02-05T04:14:45.827818Z"
    },
    "papermill": {
     "duration": 0.269845,
     "end_time": "2024-02-05T04:14:45.830568",
     "exception": false,
     "start_time": "2024-02-05T04:14:45.560723",
     "status": "completed"
    },
    "tags": []
   },
   "outputs": [],
   "source": [
    "# Fast.ai dataloader\n",
    "dls = TabularPandas(\n",
    "    df,#train\n",
    "    splits=splits,#validation\n",
    "    procs = [Categorify, FillMissing, Normalize],# telling fast.ai to deal with dummy variables, missing values and normalize continous vars\n",
    "    cat_names=[\"Sex\",\"Pclass\",\"Embarked\",\"Deck\", \"Title\"],# categorical variables\n",
    "    cont_names=['Age', 'SibSp', 'Parch', 'LogFare', 'Alone', 'TicketFreq', 'Family'],#continuous variables\n",
    "    y_names=\"Survived\", # dependent variable\n",
    "    y_block = CategoryBlock(), # the dependent variable is categorical\n",
    ").dataloaders(path=\".\") # save model output in current directory"
   ]
  },
  {
   "cell_type": "markdown",
   "id": "31577dee",
   "metadata": {
    "papermill": {
     "duration": 0.03668,
     "end_time": "2024-02-05T04:14:45.904073",
     "exception": false,
     "start_time": "2024-02-05T04:14:45.867393",
     "status": "completed"
    },
    "tags": []
   },
   "source": [
    "Here's what each of the parameters means:\n",
    "\n",
    "- Use `splits` for indices of training and validation sets:\n",
    "\n",
    "      splits=splits,\n",
    "    \n",
    "- Turn strings into categories, fill missing values in numeric columns with the median, normalise all numeric columns:\n",
    "    \n",
    "      procs = [Categorify, FillMissing, Normalize],\n",
    "    \n",
    "- These are the categorical independent variables:\n",
    "    \n",
    "      cat_names=[\"Sex\",\"Pclass\",\"Embarked\",\"Deck\", \"Title\"],\n",
    "    \n",
    "- These are the continuous independent variables:\n",
    "    \n",
    "      cont_names=['Age', 'SibSp', 'Parch', 'LogFare', 'Alone', 'TicketFreq', 'Family'],\n",
    "    \n",
    "- This is the dependent variable:\n",
    "    \n",
    "      y_names=\"Survived\",\n",
    "\n",
    "- The dependent variable is categorical (so build a classification model, not a regression model):\n",
    "\n",
    "      y_block = CategoryBlock(),"
   ]
  },
  {
   "cell_type": "markdown",
   "id": "f698df71",
   "metadata": {
    "papermill": {
     "duration": 0.036342,
     "end_time": "2024-02-05T04:14:45.977634",
     "exception": false,
     "start_time": "2024-02-05T04:14:45.941292",
     "status": "completed"
    },
    "tags": []
   },
   "source": [
    "## Train the model"
   ]
  },
  {
   "cell_type": "markdown",
   "id": "42d35056",
   "metadata": {
    "papermill": {
     "duration": 0.042818,
     "end_time": "2024-02-05T04:14:46.057354",
     "exception": false,
     "start_time": "2024-02-05T04:14:46.014536",
     "status": "completed"
    },
    "tags": []
   },
   "source": [
    "The data and model together make up a `Learner`. To create one, we say what the data is (`dls`), and the size of each hidden layer (`[10,10]`), along with any metrics we want to print along the way:"
   ]
  },
  {
   "cell_type": "code",
   "execution_count": 7,
   "id": "93cb88d3",
   "metadata": {
    "execution": {
     "iopub.execute_input": "2024-02-05T04:14:46.146345Z",
     "iopub.status.busy": "2024-02-05T04:14:46.146040Z",
     "iopub.status.idle": "2024-02-05T04:14:46.158461Z",
     "shell.execute_reply": "2024-02-05T04:14:46.157767Z"
    },
    "papermill": {
     "duration": 0.054848,
     "end_time": "2024-02-05T04:14:46.160715",
     "exception": false,
     "start_time": "2024-02-05T04:14:46.105867",
     "status": "completed"
    },
    "tags": []
   },
   "outputs": [],
   "source": [
    "learn = tabular_learner(dls, metrics=accuracy, layers=[10,10])#create a learner (contains the model and data (dls), layers and nodes."
   ]
  },
  {
   "cell_type": "markdown",
   "id": "8fc25e3f",
   "metadata": {
    "papermill": {
     "duration": 0.036268,
     "end_time": "2024-02-05T04:14:46.235069",
     "exception": false,
     "start_time": "2024-02-05T04:14:46.198801",
     "status": "completed"
    },
    "tags": []
   },
   "source": [
    "You'll notice we didn't have to do any messing around to try to find a set of random coefficients that will train correctly -- that's all handled automatically.\n",
    "\n",
    "One handy feature that fastai can also tell us what learning rate to use:"
   ]
  },
  {
   "cell_type": "code",
   "execution_count": 8,
   "id": "159dd72e",
   "metadata": {
    "execution": {
     "iopub.execute_input": "2024-02-05T04:14:46.310032Z",
     "iopub.status.busy": "2024-02-05T04:14:46.309758Z",
     "iopub.status.idle": "2024-02-05T04:14:52.019421Z",
     "shell.execute_reply": "2024-02-05T04:14:52.018634Z"
    },
    "papermill": {
     "duration": 5.749454,
     "end_time": "2024-02-05T04:14:52.021444",
     "exception": false,
     "start_time": "2024-02-05T04:14:46.271990",
     "status": "completed"
    },
    "tags": []
   },
   "outputs": [
    {
     "data": {
      "text/html": [
       "\n",
       "<style>\n",
       "    /* Turns off some styling */\n",
       "    progress {\n",
       "        /* gets rid of default border in Firefox and Opera. */\n",
       "        border: none;\n",
       "        /* Needs to be in here for Safari polyfill so background images work as expected. */\n",
       "        background-size: auto;\n",
       "    }\n",
       "    .progress-bar-interrupted, .progress-bar-interrupted::-webkit-progress-bar {\n",
       "        background: #F44336;\n",
       "    }\n",
       "</style>\n"
      ],
      "text/plain": [
       "<IPython.core.display.HTML object>"
      ]
     },
     "metadata": {},
     "output_type": "display_data"
    },
    {
     "data": {
      "text/html": [],
      "text/plain": [
       "<IPython.core.display.HTML object>"
      ]
     },
     "metadata": {},
     "output_type": "display_data"
    },
    {
     "data": {
      "text/plain": [
       "SuggestedLRs(slide=0.05754399299621582, valley=0.013182567432522774)"
      ]
     },
     "execution_count": 8,
     "metadata": {},
     "output_type": "execute_result"
    },
    {
     "data": {
      "image/png": "[encoded data removed]",
      "text/plain": [
       "<Figure size 432x288 with 1 Axes>"
      ]
     },
     "metadata": {
      "needs_background": "light"
     },
     "output_type": "display_data"
    }
   ],
   "source": [
    "learn.lr_find(suggest_funcs=(slide, valley))# gernerally pick a learning rate between slide and valley"
   ]
  },
  {
   "cell_type": "markdown",
   "id": "db43e495",
   "metadata": {
    "papermill": {
     "duration": 0.041315,
     "end_time": "2024-02-05T04:14:52.102122",
     "exception": false,
     "start_time": "2024-02-05T04:14:52.060807",
     "status": "completed"
    },
    "tags": []
   },
   "source": [
    "The two colored points are both reasonable choices for a learning rate. I'll pick somewhere between the two (0.03) and train for a few epochs:"
   ]
  },
  {
   "cell_type": "code",
   "execution_count": 9,
   "id": "383b6cd2",
   "metadata": {
    "execution": {
     "iopub.execute_input": "2024-02-05T04:14:52.183368Z",
     "iopub.status.busy": "2024-02-05T04:14:52.183063Z",
     "iopub.status.idle": "2024-02-05T04:14:54.306760Z",
     "shell.execute_reply": "2024-02-05T04:14:54.306012Z"
    },
    "papermill": {
     "duration": 2.165925,
     "end_time": "2024-02-05T04:14:54.308540",
     "exception": false,
     "start_time": "2024-02-05T04:14:52.142615",
     "status": "completed"
    },
    "tags": []
   },
   "outputs": [
    {
     "data": {
      "text/html": [
       "\n",
       "<style>\n",
       "    /* Turns off some styling */\n",
       "    progress {\n",
       "        /* gets rid of default border in Firefox and Opera. */\n",
       "        border: none;\n",
       "        /* Needs to be in here for Safari polyfill so background images work as expected. */\n",
       "        background-size: auto;\n",
       "    }\n",
       "    .progress-bar-interrupted, .progress-bar-interrupted::-webkit-progress-bar {\n",
       "        background: #F44336;\n",
       "    }\n",
       "</style>\n"
      ],
      "text/plain": [
       "<IPython.core.display.HTML object>"
      ]
     },
     "metadata": {},
     "output_type": "display_data"
    },
    {
     "data": {
      "text/html": [
       "<table border=\"1\" class=\"dataframe\">\n",
       "  <thead>\n",
       "    <tr style=\"text-align: left;\">\n",
       "      <th>epoch</th>\n",
       "      <th>train_loss</th>\n",
       "      <th>valid_loss</th>\n",
       "      <th>accuracy</th>\n",
       "      <th>time</th>\n",
       "    </tr>\n",
       "  </thead>\n",
       "  <tbody>\n",
       "    <tr>\n",
       "      <td>0</td>\n",
       "      <td>0.577146</td>\n",
       "      <td>0.582949</td>\n",
       "      <td>0.606742</td>\n",
       "      <td>00:00</td>\n",
       "    </tr>\n",
       "    <tr>\n",
       "      <td>1</td>\n",
       "      <td>0.510818</td>\n",
       "      <td>0.498523</td>\n",
       "      <td>0.786517</td>\n",
       "      <td>00:00</td>\n",
       "    </tr>\n",
       "    <tr>\n",
       "      <td>2</td>\n",
       "      <td>0.467023</td>\n",
       "      <td>0.459841</td>\n",
       "      <td>0.797753</td>\n",
       "      <td>00:00</td>\n",
       "    </tr>\n",
       "    <tr>\n",
       "      <td>3</td>\n",
       "      <td>0.439957</td>\n",
       "      <td>0.468547</td>\n",
       "      <td>0.797753</td>\n",
       "      <td>00:00</td>\n",
       "    </tr>\n",
       "    <tr>\n",
       "      <td>4</td>\n",
       "      <td>0.427232</td>\n",
       "      <td>0.415261</td>\n",
       "      <td>0.825843</td>\n",
       "      <td>00:00</td>\n",
       "    </tr>\n",
       "    <tr>\n",
       "      <td>5</td>\n",
       "      <td>0.416340</td>\n",
       "      <td>0.437362</td>\n",
       "      <td>0.820225</td>\n",
       "      <td>00:00</td>\n",
       "    </tr>\n",
       "    <tr>\n",
       "      <td>6</td>\n",
       "      <td>0.408347</td>\n",
       "      <td>0.413253</td>\n",
       "      <td>0.848315</td>\n",
       "      <td>00:00</td>\n",
       "    </tr>\n",
       "    <tr>\n",
       "      <td>7</td>\n",
       "      <td>0.400442</td>\n",
       "      <td>0.406075</td>\n",
       "      <td>0.803371</td>\n",
       "      <td>00:00</td>\n",
       "    </tr>\n",
       "    <tr>\n",
       "      <td>8</td>\n",
       "      <td>0.397265</td>\n",
       "      <td>0.443730</td>\n",
       "      <td>0.820225</td>\n",
       "      <td>00:00</td>\n",
       "    </tr>\n",
       "    <tr>\n",
       "      <td>9</td>\n",
       "      <td>0.392389</td>\n",
       "      <td>0.432267</td>\n",
       "      <td>0.831461</td>\n",
       "      <td>00:00</td>\n",
       "    </tr>\n",
       "    <tr>\n",
       "      <td>10</td>\n",
       "      <td>0.389983</td>\n",
       "      <td>0.415383</td>\n",
       "      <td>0.831461</td>\n",
       "      <td>00:00</td>\n",
       "    </tr>\n",
       "    <tr>\n",
       "      <td>11</td>\n",
       "      <td>0.386057</td>\n",
       "      <td>0.425319</td>\n",
       "      <td>0.820225</td>\n",
       "      <td>00:00</td>\n",
       "    </tr>\n",
       "    <tr>\n",
       "      <td>12</td>\n",
       "      <td>0.382527</td>\n",
       "      <td>0.435054</td>\n",
       "      <td>0.831461</td>\n",
       "      <td>00:00</td>\n",
       "    </tr>\n",
       "    <tr>\n",
       "      <td>13</td>\n",
       "      <td>0.378309</td>\n",
       "      <td>0.429746</td>\n",
       "      <td>0.831461</td>\n",
       "      <td>00:00</td>\n",
       "    </tr>\n",
       "    <tr>\n",
       "      <td>14</td>\n",
       "      <td>0.374304</td>\n",
       "      <td>0.419489</td>\n",
       "      <td>0.825843</td>\n",
       "      <td>00:00</td>\n",
       "    </tr>\n",
       "    <tr>\n",
       "      <td>15</td>\n",
       "      <td>0.372190</td>\n",
       "      <td>0.425430</td>\n",
       "      <td>0.831461</td>\n",
       "      <td>00:00</td>\n",
       "    </tr>\n",
       "  </tbody>\n",
       "</table>"
      ],
      "text/plain": [
       "<IPython.core.display.HTML object>"
      ]
     },
     "metadata": {},
     "output_type": "display_data"
    }
   ],
   "source": [
    "learn.fit(16, lr=0.03)"
   ]
  },
  {
   "cell_type": "markdown",
   "id": "43479f01",
   "metadata": {
    "papermill": {
     "duration": 0.040513,
     "end_time": "2024-02-05T04:14:54.390299",
     "exception": false,
     "start_time": "2024-02-05T04:14:54.349786",
     "status": "completed"
    },
    "tags": []
   },
   "source": [
    "We've got a similar accuracy to our previous \"from scratch\" model -- which isn't too surprising, since as we discussed, this dataset is too small and simple to really see much difference. A simple linear model already does a pretty good job. But that's OK -- the goal here is to show you how to get started with deep learning and understand how it really works, and the best way to do that is on small and easy to understand datasets."
   ]
  },
  {
   "cell_type": "markdown",
   "id": "06b66b58",
   "metadata": {
    "papermill": {
     "duration": 0.040463,
     "end_time": "2024-02-05T04:14:54.471369",
     "exception": false,
     "start_time": "2024-02-05T04:14:54.430906",
     "status": "completed"
    },
    "tags": []
   },
   "source": [
    "## Submit to Kaggle"
   ]
  },
  {
   "cell_type": "markdown",
   "id": "61fc4a60",
   "metadata": {
    "papermill": {
     "duration": 0.040318,
     "end_time": "2024-02-05T04:14:54.552441",
     "exception": false,
     "start_time": "2024-02-05T04:14:54.512123",
     "status": "completed"
    },
    "tags": []
   },
   "source": [
    "One important feature of fastai is that all the information needed to apply the data transformations and the model to a new dataset are stored in the learner. You can call `export` to save it to a file to use it later in production, or you can use the trained model right away to get predictions on a test set.\n",
    "\n",
    "To submit to Kaggle, we'll need to read in the test set, and do the same feature engineering we did for the training set:"
   ]
  },
  {
   "cell_type": "code",
   "execution_count": 10,
   "id": "86b0facb",
   "metadata": {
    "execution": {
     "iopub.execute_input": "2024-02-05T04:14:54.634927Z",
     "iopub.status.busy": "2024-02-05T04:14:54.634666Z",
     "iopub.status.idle": "2024-02-05T04:14:54.657427Z",
     "shell.execute_reply": "2024-02-05T04:14:54.656624Z"
    },
    "papermill": {
     "duration": 0.06646,
     "end_time": "2024-02-05T04:14:54.659394",
     "exception": false,
     "start_time": "2024-02-05T04:14:54.592934",
     "status": "completed"
    },
    "tags": []
   },
   "outputs": [],
   "source": [
    "tst_df = pd.read_csv(path/'test.csv')\n",
    "tst_df['Fare'] = tst_df.Fare.fillna(0)\n",
    "add_features(tst_df)"
   ]
  },
  {
   "cell_type": "markdown",
   "id": "69f226a9",
   "metadata": {
    "papermill": {
     "duration": 0.040494,
     "end_time": "2024-02-05T04:14:54.740865",
     "exception": false,
     "start_time": "2024-02-05T04:14:54.700371",
     "status": "completed"
    },
    "tags": []
   },
   "source": [
    "But we don't need to manually specify any of the processing steps necessary to get the data ready for modeling, since that's all saved in the learner. To specify we want to apply the same steps to a new dataset, use the `test_dl()` method:"
   ]
  },
  {
   "cell_type": "code",
   "execution_count": 11,
   "id": "99696f00",
   "metadata": {
    "execution": {
     "iopub.execute_input": "2024-02-05T04:14:54.824234Z",
     "iopub.status.busy": "2024-02-05T04:14:54.823974Z",
     "iopub.status.idle": "2024-02-05T04:14:54.844061Z",
     "shell.execute_reply": "2024-02-05T04:14:54.843438Z"
    },
    "papermill": {
     "duration": 0.063898,
     "end_time": "2024-02-05T04:14:54.846108",
     "exception": false,
     "start_time": "2024-02-05T04:14:54.782210",
     "status": "completed"
    },
    "tags": []
   },
   "outputs": [],
   "source": [
    "tst_dl = learn.dls.test_dl(tst_df)# using test dl we dont have to do the preprocessing that we did earlier the the train and validation set "
   ]
  },
  {
   "cell_type": "markdown",
   "id": "c0af409e",
   "metadata": {
    "papermill": {
     "duration": 0.040419,
     "end_time": "2024-02-05T04:14:54.928346",
     "exception": false,
     "start_time": "2024-02-05T04:14:54.887927",
     "status": "completed"
    },
    "tags": []
   },
   "source": [
    "Now we can use `get_preds` to get the predictions for the test set:"
   ]
  },
  {
   "cell_type": "code",
   "execution_count": 12,
   "id": "8cc61627",
   "metadata": {
    "execution": {
     "iopub.execute_input": "2024-02-05T04:14:55.012759Z",
     "iopub.status.busy": "2024-02-05T04:14:55.012107Z",
     "iopub.status.idle": "2024-02-05T04:14:55.068690Z",
     "shell.execute_reply": "2024-02-05T04:14:55.068126Z"
    },
    "papermill": {
     "duration": 0.100746,
     "end_time": "2024-02-05T04:14:55.070856",
     "exception": false,
     "start_time": "2024-02-05T04:14:54.970110",
     "status": "completed"
    },
    "tags": []
   },
   "outputs": [
    {
     "data": {
      "text/html": [
       "\n",
       "<style>\n",
       "    /* Turns off some styling */\n",
       "    progress {\n",
       "        /* gets rid of default border in Firefox and Opera. */\n",
       "        border: none;\n",
       "        /* Needs to be in here for Safari polyfill so background images work as expected. */\n",
       "        background-size: auto;\n",
       "    }\n",
       "    .progress-bar-interrupted, .progress-bar-interrupted::-webkit-progress-bar {\n",
       "        background: #F44336;\n",
       "    }\n",
       "</style>\n"
      ],
      "text/plain": [
       "<IPython.core.display.HTML object>"
      ]
     },
     "metadata": {},
     "output_type": "display_data"
    },
    {
     "data": {
      "text/html": [],
      "text/plain": [
       "<IPython.core.display.HTML object>"
      ]
     },
     "metadata": {},
     "output_type": "display_data"
    }
   ],
   "source": [
    "preds,_ = learn.get_preds(dl=tst_dl)"
   ]
  },
  {
   "cell_type": "markdown",
   "id": "34f7e2ba",
   "metadata": {
    "papermill": {
     "duration": 0.042897,
     "end_time": "2024-02-05T04:14:55.158249",
     "exception": false,
     "start_time": "2024-02-05T04:14:55.115352",
     "status": "completed"
    },
    "tags": []
   },
   "source": [
    "Finally, let's create a submission CSV just like we did in the previous notebook..."
   ]
  },
  {
   "cell_type": "code",
   "execution_count": 13,
   "id": "8e1fa89d",
   "metadata": {
    "execution": {
     "iopub.execute_input": "2024-02-05T04:14:55.244261Z",
     "iopub.status.busy": "2024-02-05T04:14:55.243930Z",
     "iopub.status.idle": "2024-02-05T04:14:55.256244Z",
     "shell.execute_reply": "2024-02-05T04:14:55.255456Z"
    },
    "papermill": {
     "duration": 0.057672,
     "end_time": "2024-02-05T04:14:55.258338",
     "exception": false,
     "start_time": "2024-02-05T04:14:55.200666",
     "status": "completed"
    },
    "tags": []
   },
   "outputs": [],
   "source": [
    "tst_df['Survived'] = (preds[:,1]>0.5).int()\n",
    "sub_df = tst_df[['PassengerId','Survived']]\n",
    "sub_df.to_csv('sub.csv', index=False)"
   ]
  },
  {
   "cell_type": "markdown",
   "id": "08b8bcf8",
   "metadata": {
    "papermill": {
     "duration": 0.046823,
     "end_time": "2024-02-05T04:14:55.352573",
     "exception": false,
     "start_time": "2024-02-05T04:14:55.305750",
     "status": "completed"
    },
    "tags": []
   },
   "source": [
    "...and check that it looks reasonable:"
   ]
  },
  {
   "cell_type": "code",
   "execution_count": 14,
   "id": "4d789d6c",
   "metadata": {
    "execution": {
     "iopub.execute_input": "2024-02-05T04:14:55.453125Z",
     "iopub.status.busy": "2024-02-05T04:14:55.452233Z",
     "iopub.status.idle": "2024-02-05T04:14:56.483125Z",
     "shell.execute_reply": "2024-02-05T04:14:56.482335Z"
    },
    "papermill": {
     "duration": 1.08565,
     "end_time": "2024-02-05T04:14:56.485672",
     "exception": false,
     "start_time": "2024-02-05T04:14:55.400022",
     "status": "completed"
    },
    "tags": []
   },
   "outputs": [
    {
     "name": "stdout",
     "output_type": "stream",
     "text": [
      "PassengerId,Survived\r\n",
      "892,0\r\n",
      "893,0\r\n",
      "894,0\r\n",
      "895,0\r\n",
      "896,1\r\n",
      "897,0\r\n",
      "898,1\r\n",
      "899,0\r\n",
      "900,1\r\n"
     ]
    }
   ],
   "source": [
    "!head sub.csv"
   ]
  },
  {
   "cell_type": "markdown",
   "id": "60c0e3fb",
   "metadata": {
    "papermill": {
     "duration": 0.042911,
     "end_time": "2024-02-05T04:14:56.571539",
     "exception": false,
     "start_time": "2024-02-05T04:14:56.528628",
     "status": "completed"
    },
    "tags": []
   },
   "source": [
    "## Ensembling"
   ]
  },
  {
   "cell_type": "markdown",
   "id": "f50c7b40",
   "metadata": {
    "papermill": {
     "duration": 0.043115,
     "end_time": "2024-02-05T04:14:56.658324",
     "exception": false,
     "start_time": "2024-02-05T04:14:56.615209",
     "status": "completed"
    },
    "tags": []
   },
   "source": [
    "Since it's so easy to create a model now, it's easier to play with more advanced modeling approaches. For instance, we can create five separate models, each trained from different random starting points, and average them. This is the simplest approach of [ensembling](https://machinelearningmastery.com/tour-of-ensemble-learning-algorithms/) models, which combines multiple models to generate predictions that are better than any of the single models in the ensemble.\n",
    "\n",
    "To create our ensemble, first we copy the three steps we used above to create and train a model, and apply it to the test set:"
   ]
  },
  {
   "cell_type": "code",
   "execution_count": 15,
   "id": "bfa4898b",
   "metadata": {
    "execution": {
     "iopub.execute_input": "2024-02-05T04:14:56.746057Z",
     "iopub.status.busy": "2024-02-05T04:14:56.745201Z",
     "iopub.status.idle": "2024-02-05T04:14:56.751058Z",
     "shell.execute_reply": "2024-02-05T04:14:56.750329Z"
    },
    "papermill": {
     "duration": 0.051877,
     "end_time": "2024-02-05T04:14:56.752936",
     "exception": false,
     "start_time": "2024-02-05T04:14:56.701059",
     "status": "completed"
    },
    "tags": []
   },
   "outputs": [],
   "source": [
    "def ensemble():\n",
    "    learn = tabular_learner(dls, metrics=accuracy, layers=[10,10])\n",
    "    with learn.no_bar(),learn.no_logging(): learn.fit(16, lr=0.03)\n",
    "    return learn.get_preds(dl=tst_dl)[0]"
   ]
  },
  {
   "cell_type": "markdown",
   "id": "64f8b3ed",
   "metadata": {
    "papermill": {
     "duration": 0.042338,
     "end_time": "2024-02-05T04:14:56.838364",
     "exception": false,
     "start_time": "2024-02-05T04:14:56.796026",
     "status": "completed"
    },
    "tags": []
   },
   "source": [
    "Now we run this five times, and collect the results into a list:"
   ]
  },
  {
   "cell_type": "code",
   "execution_count": 16,
   "id": "c02e1f6f",
   "metadata": {
    "execution": {
     "iopub.execute_input": "2024-02-05T04:14:56.927845Z",
     "iopub.status.busy": "2024-02-05T04:14:56.927320Z",
     "iopub.status.idle": "2024-02-05T04:15:05.760486Z",
     "shell.execute_reply": "2024-02-05T04:15:05.759848Z"
    },
    "papermill": {
     "duration": 8.881475,
     "end_time": "2024-02-05T04:15:05.762256",
     "exception": false,
     "start_time": "2024-02-05T04:14:56.880781",
     "status": "completed"
    },
    "tags": []
   },
   "outputs": [
    {
     "data": {
      "text/html": [
       "\n",
       "<style>\n",
       "    /* Turns off some styling */\n",
       "    progress {\n",
       "        /* gets rid of default border in Firefox and Opera. */\n",
       "        border: none;\n",
       "        /* Needs to be in here for Safari polyfill so background images work as expected. */\n",
       "        background-size: auto;\n",
       "    }\n",
       "    .progress-bar-interrupted, .progress-bar-interrupted::-webkit-progress-bar {\n",
       "        background: #F44336;\n",
       "    }\n",
       "</style>\n"
      ],
      "text/plain": [
       "<IPython.core.display.HTML object>"
      ]
     },
     "metadata": {},
     "output_type": "display_data"
    },
    {
     "data": {
      "text/html": [],
      "text/plain": [
       "<IPython.core.display.HTML object>"
      ]
     },
     "metadata": {},
     "output_type": "display_data"
    },
    {
     "data": {
      "text/html": [
       "\n",
       "<style>\n",
       "    /* Turns off some styling */\n",
       "    progress {\n",
       "        /* gets rid of default border in Firefox and Opera. */\n",
       "        border: none;\n",
       "        /* Needs to be in here for Safari polyfill so background images work as expected. */\n",
       "        background-size: auto;\n",
       "    }\n",
       "    .progress-bar-interrupted, .progress-bar-interrupted::-webkit-progress-bar {\n",
       "        background: #F44336;\n",
       "    }\n",
       "</style>\n"
      ],
      "text/plain": [
       "<IPython.core.display.HTML object>"
      ]
     },
     "metadata": {},
     "output_type": "display_data"
    },
    {
     "data": {
      "text/html": [],
      "text/plain": [
       "<IPython.core.display.HTML object>"
      ]
     },
     "metadata": {},
     "output_type": "display_data"
    },
    {
     "data": {
      "text/html": [
       "\n",
       "<style>\n",
       "    /* Turns off some styling */\n",
       "    progress {\n",
       "        /* gets rid of default border in Firefox and Opera. */\n",
       "        border: none;\n",
       "        /* Needs to be in here for Safari polyfill so background images work as expected. */\n",
       "        background-size: auto;\n",
       "    }\n",
       "    .progress-bar-interrupted, .progress-bar-interrupted::-webkit-progress-bar {\n",
       "        background: #F44336;\n",
       "    }\n",
       "</style>\n"
      ],
      "text/plain": [
       "<IPython.core.display.HTML object>"
      ]
     },
     "metadata": {},
     "output_type": "display_data"
    },
    {
     "data": {
      "text/html": [],
      "text/plain": [
       "<IPython.core.display.HTML object>"
      ]
     },
     "metadata": {},
     "output_type": "display_data"
    },
    {
     "data": {
      "text/html": [
       "\n",
       "<style>\n",
       "    /* Turns off some styling */\n",
       "    progress {\n",
       "        /* gets rid of default border in Firefox and Opera. */\n",
       "        border: none;\n",
       "        /* Needs to be in here for Safari polyfill so background images work as expected. */\n",
       "        background-size: auto;\n",
       "    }\n",
       "    .progress-bar-interrupted, .progress-bar-interrupted::-webkit-progress-bar {\n",
       "        background: #F44336;\n",
       "    }\n",
       "</style>\n"
      ],
      "text/plain": [
       "<IPython.core.display.HTML object>"
      ]
     },
     "metadata": {},
     "output_type": "display_data"
    },
    {
     "data": {
      "text/html": [],
      "text/plain": [
       "<IPython.core.display.HTML object>"
      ]
     },
     "metadata": {},
     "output_type": "display_data"
    },
    {
     "data": {
      "text/html": [
       "\n",
       "<style>\n",
       "    /* Turns off some styling */\n",
       "    progress {\n",
       "        /* gets rid of default border in Firefox and Opera. */\n",
       "        border: none;\n",
       "        /* Needs to be in here for Safari polyfill so background images work as expected. */\n",
       "        background-size: auto;\n",
       "    }\n",
       "    .progress-bar-interrupted, .progress-bar-interrupted::-webkit-progress-bar {\n",
       "        background: #F44336;\n",
       "    }\n",
       "</style>\n"
      ],
      "text/plain": [
       "<IPython.core.display.HTML object>"
      ]
     },
     "metadata": {},
     "output_type": "display_data"
    },
    {
     "data": {
      "text/html": [],
      "text/plain": [
       "<IPython.core.display.HTML object>"
      ]
     },
     "metadata": {},
     "output_type": "display_data"
    }
   ],
   "source": [
    "learns = [ensemble() for _ in range(5)]"
   ]
  },
  {
   "cell_type": "markdown",
   "id": "dd512473",
   "metadata": {
    "papermill": {
     "duration": 0.048848,
     "end_time": "2024-02-05T04:15:05.860298",
     "exception": false,
     "start_time": "2024-02-05T04:15:05.811450",
     "status": "completed"
    },
    "tags": []
   },
   "source": [
    "We stack this predictions together and take their average predictions:"
   ]
  },
  {
   "cell_type": "code",
   "execution_count": 17,
   "id": "3bbe1258",
   "metadata": {
    "execution": {
     "iopub.execute_input": "2024-02-05T04:15:05.959499Z",
     "iopub.status.busy": "2024-02-05T04:15:05.959198Z",
     "iopub.status.idle": "2024-02-05T04:15:05.964604Z",
     "shell.execute_reply": "2024-02-05T04:15:05.963863Z"
    },
    "papermill": {
     "duration": 0.057463,
     "end_time": "2024-02-05T04:15:05.966524",
     "exception": false,
     "start_time": "2024-02-05T04:15:05.909061",
     "status": "completed"
    },
    "tags": []
   },
   "outputs": [],
   "source": [
    "ens_preds = torch.stack(learns).mean(0) # use torch stack to stack the predictions"
   ]
  },
  {
   "cell_type": "markdown",
   "id": "008c2e4e",
   "metadata": {
    "papermill": {
     "duration": 0.048998,
     "end_time": "2024-02-05T04:15:06.065474",
     "exception": false,
     "start_time": "2024-02-05T04:15:06.016476",
     "status": "completed"
    },
    "tags": []
   },
   "source": [
    "Finally, use the same code as before to generate a submission file, which we can submit to Kaggle after the notebook is saved and run:"
   ]
  },
  {
   "cell_type": "code",
   "execution_count": 18,
   "id": "dc5c7326",
   "metadata": {
    "execution": {
     "iopub.execute_input": "2024-02-05T04:15:06.169040Z",
     "iopub.status.busy": "2024-02-05T04:15:06.168309Z",
     "iopub.status.idle": "2024-02-05T04:15:06.176317Z",
     "shell.execute_reply": "2024-02-05T04:15:06.175599Z"
    },
    "papermill": {
     "duration": 0.063241,
     "end_time": "2024-02-05T04:15:06.178269",
     "exception": false,
     "start_time": "2024-02-05T04:15:06.115028",
     "status": "completed"
    },
    "tags": []
   },
   "outputs": [],
   "source": [
    "tst_df['Survived'] = (ens_preds[:,1]>0.5).int()\n",
    "sub_df = tst_df[['PassengerId','Survived']]\n",
    "sub_df.to_csv('ens_sub.csv', index=False)"
   ]
  },
  {
   "cell_type": "markdown",
   "id": "ab5d9af9",
   "metadata": {
    "papermill": {
     "duration": 0.048568,
     "end_time": "2024-02-05T04:15:06.275506",
     "exception": false,
     "start_time": "2024-02-05T04:15:06.226938",
     "status": "completed"
    },
    "tags": []
   },
   "source": [
    "At the time of writing, this submission is well within the top 25% of entries to the competition.\n",
    "\n",
    "(A lot of submissions to this competition use additional external data, but we have restricted ourselves to just using the data provided. We'd probably do a lot better if we used external data too. Feel free to give that a try, and see how you go. Note that you'll never be able to get to the top of the leaderboard, since a lot of folks in this competition have cheated, by downloading the answers from the internet and uploading them as their submission. In a real competition that's not possible, because the answers aren't public, but there's nothing stopping people from cheating in a tutorial/practice competition like this one. So if you're ready for a real challenge, take a look at the [competitions page](https://www.kaggle.com/competitions/) and start working on a real competition!)"
   ]
  },
  {
   "cell_type": "markdown",
   "id": "696c5058",
   "metadata": {
    "papermill": {
     "duration": 0.048305,
     "end_time": "2024-02-05T04:15:06.372304",
     "exception": false,
     "start_time": "2024-02-05T04:15:06.323999",
     "status": "completed"
    },
    "tags": []
   },
   "source": [
    "## Final thoughts"
   ]
  },
  {
   "cell_type": "markdown",
   "id": "0065bb7f",
   "metadata": {
    "papermill": {
     "duration": 0.048396,
     "end_time": "2024-02-05T04:15:06.469224",
     "exception": false,
     "start_time": "2024-02-05T04:15:06.420828",
     "status": "completed"
    },
    "tags": []
   },
   "source": [
    "As you can see, using fastai and PyTorch made things much easier than doing it from scratch, but it also hid away a lot of the details. So if you only ever use a framework, you're not going to as fully understand what's going on under the hood. That understanding can be really helpful when it comes to debugging and improving your models. But do use fastai when you're creating models on Kaggle or in \"real life\", because otherwise you're not taking advantage of all the research that's gone into optimising the models for you, and you'll end up spending more time debugging and implementing menial boiler-plate than actually solving the real problem!\n",
    "\n",
    "If you found this notebook useful, please remember to click the little up-arrow at the top to upvote it, since I like to know when people have found my work useful, and it helps others find it too. (BTW, be sure you're looking at my [original notebook](https://www.kaggle.com/jhoward/why-you-should-use-a-framework) here when you do that, and are not on your own copy of it, otherwise your upvote won't get counted!) And if you have any questions or comments, please pop them below -- I read every comment I receive!"
   ]
  }
 ],
 "metadata": {
  "kaggle": {
   "accelerator": "gpu",
   "dataSources": [
    {
     "databundleVersionId": 26502,
     "sourceId": 3136,
     "sourceType": "competition"
    }
   ],
   "dockerImageVersionId": 30191,
   "isGpuEnabled": true,
   "isInternetEnabled": true,
   "language": "python",
   "sourceType": "notebook"
  },
  "kernelspec": {
   "display_name": "Python 3",
   "language": "python",
   "name": "python3"
  },
  "language_info": {
   "codemirror_mode": {
    "name": "ipython",
    "version": 3
   },
   "file_extension": ".py",
   "mimetype": "text/x-python",
   "name": "python",
   "nbconvert_exporter": "python",
   "pygments_lexer": "ipython3",
   "version": "3.7.12"
  },
  "papermill": {
   "default_parameters": {},
   "duration": 58.201275,
   "end_time": "2024-02-05T04:15:07.840588",
   "environment_variables": {},
   "exception": null,
   "input_path": "__notebook__.ipynb",
   "output_path": "__notebook__.ipynb",
   "parameters": {},
   "start_time": "2024-02-05T04:14:09.639313",
   "version": "2.3.4"
  }
 },
 "nbformat": 4,
 "nbformat_minor": 5
}
