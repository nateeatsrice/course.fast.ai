{
 "cells": [
  {
   "cell_type": "markdown",
   "id": "fcfb0a87",
   "metadata": {
    "papermill": {
     "duration": 0.13197,
     "end_time": "2024-01-20T07:40:09.678594",
     "exception": false,
     "start_time": "2024-01-20T07:40:09.546624",
     "status": "completed"
    },
    "tags": []
   },
   "source": [
    "## Introduction"
   ]
  },
  {
   "cell_type": "markdown",
   "id": "fb2ceca8",
   "metadata": {
    "papermill": {
     "duration": 0.127642,
     "end_time": "2024-01-20T07:40:09.934587",
     "exception": false,
     "start_time": "2024-01-20T07:40:09.806945",
     "status": "completed"
    },
    "tags": []
   },
   "source": [
    "In this notebook we're going to build and train a deep learning model \"from scratch\" -- by which I mean that we're not going to use any pre-built architecture, or optimizers, or data loading frameworks, etc.\n",
    "\n",
    "We'll be assuming you already know the basics of how a neural network works. If you don't, read this notebook first: [How does a neural net really work?\n",
    "](https://www.kaggle.com/code/jhoward/how-does-a-neural-net-really-work). We'll be using Kaggle's [Titanic](https://www.kaggle.com/competitions/titanic/) competition in this notebook, because it's very small and simple, but also has displays many of the tricky real-life issues that we need to handle in most practical projects. (Note, however, that this competition is a small \"learner\" competition on Kaggle, so don't expect to actually see much benefits from using a neural net just yet; that will come once we try our some real competitions!)\n",
    "\n",
    "It's great to be able to run the same notebook on your own machine or Colab, as well as Kaggle. To allow for this, we use this code to download the data as needed when not on Kaggle (see [this notebook](https://www.kaggle.com/code/jhoward/getting-started-with-nlp-for-absolute-beginners/) for details about this technique):"
   ]
  },
  {
   "cell_type": "code",
   "execution_count": 1,
   "id": "0400a968",
   "metadata": {
    "execution": {
     "iopub.execute_input": "2024-01-20T07:40:10.192220Z",
     "iopub.status.busy": "2024-01-20T07:40:10.191347Z",
     "iopub.status.idle": "2024-01-20T07:40:10.203941Z",
     "shell.execute_reply": "2024-01-20T07:40:10.203371Z"
    },
    "papermill": {
     "duration": 0.143601,
     "end_time": "2024-01-20T07:40:10.205785",
     "exception": false,
     "start_time": "2024-01-20T07:40:10.062184",
     "status": "completed"
    },
    "tags": []
   },
   "outputs": [],
   "source": [
    "import os\n",
    "from pathlib import Path\n",
    "\n",
    "iskaggle = os.environ.get('KAGGLE_KERNEL_RUN_TYPE', '')\n",
    "if iskaggle: path = Path('../input/titanic')\n",
    "else:\n",
    "    path = Path('titanic')\n",
    "    if not path.exists():\n",
    "        import zipfile,kaggle\n",
    "        kaggle.api.competition_download_cli(str(path))\n",
    "        zipfile.ZipFile(f'{path}.zip').extractall(path)"
   ]
  },
  {
   "cell_type": "markdown",
   "id": "bfb86a06",
   "metadata": {
    "hidden": true,
    "papermill": {
     "duration": 0.141387,
     "end_time": "2024-01-20T07:40:10.474886",
     "exception": false,
     "start_time": "2024-01-20T07:40:10.333499",
     "status": "completed"
    },
    "tags": []
   },
   "source": [
    "Note that the data for Kaggle comps always lives in the `../input` folder. The easiest way to get the path is to click the \"K\" button in the top-right of the Kaggle notebook, click on the folder shown there, and click the copy button.\n",
    "\n",
    "We'll be using *numpy* and *pytorch* for array calculations in this notebook, and *pandas* for working with tabular data, so we'll import them and set them to display using a bit more space than they default to."
   ]
  },
  {
   "cell_type": "code",
   "execution_count": 2,
   "id": "4fbf75de",
   "metadata": {
    "execution": {
     "iopub.execute_input": "2024-01-20T07:40:10.748842Z",
     "iopub.status.busy": "2024-01-20T07:40:10.748079Z",
     "iopub.status.idle": "2024-01-20T07:40:12.229828Z",
     "shell.execute_reply": "2024-01-20T07:40:12.229006Z"
    },
    "papermill": {
     "duration": 1.613072,
     "end_time": "2024-01-20T07:40:12.232110",
     "exception": false,
     "start_time": "2024-01-20T07:40:10.619038",
     "status": "completed"
    },
    "tags": []
   },
   "outputs": [],
   "source": [
    "import torch\n",
    "import numpy as np\n",
    "import pandas as pd\n",
    "np.set_printoptions(linewidth=140)\n",
    "torch.set_printoptions(linewidth=140, sci_mode=False, edgeitems=7)\n",
    "pd.set_option('display.width', 140)"
   ]
  },
  {
   "cell_type": "markdown",
   "id": "4c05957d",
   "metadata": {
    "heading_collapsed": true,
    "papermill": {
     "duration": 0.129491,
     "end_time": "2024-01-20T07:40:12.490157",
     "exception": false,
     "start_time": "2024-01-20T07:40:12.360666",
     "status": "completed"
    },
    "tags": []
   },
   "source": [
    "## Cleaning the data"
   ]
  },
  {
   "cell_type": "markdown",
   "id": "84102b23",
   "metadata": {
    "hidden": true,
    "papermill": {
     "duration": 0.128466,
     "end_time": "2024-01-20T07:40:12.747875",
     "exception": false,
     "start_time": "2024-01-20T07:40:12.619409",
     "status": "completed"
    },
    "tags": []
   },
   "source": [
    "This is a *tabular data* competition -- the data is in the form of a table. It's provided as a Comma Separated Values (CSV) file. We can open it using the *pandas* library, which will create a `DataFrame`."
   ]
  },
  {
   "cell_type": "code",
   "execution_count": 3,
   "id": "941dc25b",
   "metadata": {
    "execution": {
     "iopub.execute_input": "2024-01-20T07:40:13.008912Z",
     "iopub.status.busy": "2024-01-20T07:40:13.008625Z",
     "iopub.status.idle": "2024-01-20T07:40:13.053223Z",
     "shell.execute_reply": "2024-01-20T07:40:13.052565Z"
    },
    "hidden": true,
    "papermill": {
     "duration": 0.179009,
     "end_time": "2024-01-20T07:40:13.055800",
     "exception": false,
     "start_time": "2024-01-20T07:40:12.876791",
     "status": "completed"
    },
    "scrolled": true,
    "tags": []
   },
   "outputs": [
    {
     "data": {
      "text/html": [
       "<div>\n",
       "<style scoped>\n",
       "    .dataframe tbody tr th:only-of-type {\n",
       "        vertical-align: middle;\n",
       "    }\n",
       "\n",
       "    .dataframe tbody tr th {\n",
       "        vertical-align: top;\n",
       "    }\n",
       "\n",
       "    .dataframe thead th {\n",
       "        text-align: right;\n",
       "    }\n",
       "</style>\n",
       "<table border=\"1\" class=\"dataframe\">\n",
       "  <thead>\n",
       "    <tr style=\"text-align: right;\">\n",
       "      <th></th>\n",
       "      <th>PassengerId</th>\n",
       "      <th>Survived</th>\n",
       "      <th>Pclass</th>\n",
       "      <th>Name</th>\n",
       "      <th>Sex</th>\n",
       "      <th>Age</th>\n",
       "      <th>SibSp</th>\n",
       "      <th>Parch</th>\n",
       "      <th>Ticket</th>\n",
       "      <th>Fare</th>\n",
       "      <th>Cabin</th>\n",
       "      <th>Embarked</th>\n",
       "    </tr>\n",
       "  </thead>\n",
       "  <tbody>\n",
       "    <tr>\n",
       "      <th>0</th>\n",
       "      <td>1</td>\n",
       "      <td>0</td>\n",
       "      <td>3</td>\n",
       "      <td>Braund, Mr. Owen Harris</td>\n",
       "      <td>male</td>\n",
       "      <td>22.0</td>\n",
       "      <td>1</td>\n",
       "      <td>0</td>\n",
       "      <td>A/5 21171</td>\n",
       "      <td>7.2500</td>\n",
       "      <td>NaN</td>\n",
       "      <td>S</td>\n",
       "    </tr>\n",
       "    <tr>\n",
       "      <th>1</th>\n",
       "      <td>2</td>\n",
       "      <td>1</td>\n",
       "      <td>1</td>\n",
       "      <td>Cumings, Mrs. John Bradley (Florence Briggs Th...</td>\n",
       "      <td>female</td>\n",
       "      <td>38.0</td>\n",
       "      <td>1</td>\n",
       "      <td>0</td>\n",
       "      <td>PC 17599</td>\n",
       "      <td>71.2833</td>\n",
       "      <td>C85</td>\n",
       "      <td>C</td>\n",
       "    </tr>\n",
       "    <tr>\n",
       "      <th>2</th>\n",
       "      <td>3</td>\n",
       "      <td>1</td>\n",
       "      <td>3</td>\n",
       "      <td>Heikkinen, Miss. Laina</td>\n",
       "      <td>female</td>\n",
       "      <td>26.0</td>\n",
       "      <td>0</td>\n",
       "      <td>0</td>\n",
       "      <td>STON/O2. 3101282</td>\n",
       "      <td>7.9250</td>\n",
       "      <td>NaN</td>\n",
       "      <td>S</td>\n",
       "    </tr>\n",
       "    <tr>\n",
       "      <th>3</th>\n",
       "      <td>4</td>\n",
       "      <td>1</td>\n",
       "      <td>1</td>\n",
       "      <td>Futrelle, Mrs. Jacques Heath (Lily May Peel)</td>\n",
       "      <td>female</td>\n",
       "      <td>35.0</td>\n",
       "      <td>1</td>\n",
       "      <td>0</td>\n",
       "      <td>113803</td>\n",
       "      <td>53.1000</td>\n",
       "      <td>C123</td>\n",
       "      <td>S</td>\n",
       "    </tr>\n",
       "    <tr>\n",
       "      <th>4</th>\n",
       "      <td>5</td>\n",
       "      <td>0</td>\n",
       "      <td>3</td>\n",
       "      <td>Allen, Mr. William Henry</td>\n",
       "      <td>male</td>\n",
       "      <td>35.0</td>\n",
       "      <td>0</td>\n",
       "      <td>0</td>\n",
       "      <td>373450</td>\n",
       "      <td>8.0500</td>\n",
       "      <td>NaN</td>\n",
       "      <td>S</td>\n",
       "    </tr>\n",
       "    <tr>\n",
       "      <th>...</th>\n",
       "      <td>...</td>\n",
       "      <td>...</td>\n",
       "      <td>...</td>\n",
       "      <td>...</td>\n",
       "      <td>...</td>\n",
       "      <td>...</td>\n",
       "      <td>...</td>\n",
       "      <td>...</td>\n",
       "      <td>...</td>\n",
       "      <td>...</td>\n",
       "      <td>...</td>\n",
       "      <td>...</td>\n",
       "    </tr>\n",
       "    <tr>\n",
       "      <th>886</th>\n",
       "      <td>887</td>\n",
       "      <td>0</td>\n",
       "      <td>2</td>\n",
       "      <td>Montvila, Rev. Juozas</td>\n",
       "      <td>male</td>\n",
       "      <td>27.0</td>\n",
       "      <td>0</td>\n",
       "      <td>0</td>\n",
       "      <td>211536</td>\n",
       "      <td>13.0000</td>\n",
       "      <td>NaN</td>\n",
       "      <td>S</td>\n",
       "    </tr>\n",
       "    <tr>\n",
       "      <th>887</th>\n",
       "      <td>888</td>\n",
       "      <td>1</td>\n",
       "      <td>1</td>\n",
       "      <td>Graham, Miss. Margaret Edith</td>\n",
       "      <td>female</td>\n",
       "      <td>19.0</td>\n",
       "      <td>0</td>\n",
       "      <td>0</td>\n",
       "      <td>112053</td>\n",
       "      <td>30.0000</td>\n",
       "      <td>B42</td>\n",
       "      <td>S</td>\n",
       "    </tr>\n",
       "    <tr>\n",
       "      <th>888</th>\n",
       "      <td>889</td>\n",
       "      <td>0</td>\n",
       "      <td>3</td>\n",
       "      <td>Johnston, Miss. Catherine Helen \"Carrie\"</td>\n",
       "      <td>female</td>\n",
       "      <td>NaN</td>\n",
       "      <td>1</td>\n",
       "      <td>2</td>\n",
       "      <td>W./C. 6607</td>\n",
       "      <td>23.4500</td>\n",
       "      <td>NaN</td>\n",
       "      <td>S</td>\n",
       "    </tr>\n",
       "    <tr>\n",
       "      <th>889</th>\n",
       "      <td>890</td>\n",
       "      <td>1</td>\n",
       "      <td>1</td>\n",
       "      <td>Behr, Mr. Karl Howell</td>\n",
       "      <td>male</td>\n",
       "      <td>26.0</td>\n",
       "      <td>0</td>\n",
       "      <td>0</td>\n",
       "      <td>111369</td>\n",
       "      <td>30.0000</td>\n",
       "      <td>C148</td>\n",
       "      <td>C</td>\n",
       "    </tr>\n",
       "    <tr>\n",
       "      <th>890</th>\n",
       "      <td>891</td>\n",
       "      <td>0</td>\n",
       "      <td>3</td>\n",
       "      <td>Dooley, Mr. Patrick</td>\n",
       "      <td>male</td>\n",
       "      <td>32.0</td>\n",
       "      <td>0</td>\n",
       "      <td>0</td>\n",
       "      <td>370376</td>\n",
       "      <td>7.7500</td>\n",
       "      <td>NaN</td>\n",
       "      <td>Q</td>\n",
       "    </tr>\n",
       "  </tbody>\n",
       "</table>\n",
       "<p>891 rows × 12 columns</p>\n",
       "</div>"
      ],
      "text/plain": [
       "     PassengerId  Survived  Pclass                                               Name     Sex   Age  SibSp  Parch            Ticket  \\\n",
       "0              1         0       3                            Braund, Mr. Owen Harris    male  22.0      1      0         A/5 21171   \n",
       "1              2         1       1  Cumings, Mrs. John Bradley (Florence Briggs Th...  female  38.0      1      0          PC 17599   \n",
       "2              3         1       3                             Heikkinen, Miss. Laina  female  26.0      0      0  STON/O2. 3101282   \n",
       "3              4         1       1       Futrelle, Mrs. Jacques Heath (Lily May Peel)  female  35.0      1      0            113803   \n",
       "4              5         0       3                           Allen, Mr. William Henry    male  35.0      0      0            373450   \n",
       "..           ...       ...     ...                                                ...     ...   ...    ...    ...               ...   \n",
       "886          887         0       2                              Montvila, Rev. Juozas    male  27.0      0      0            211536   \n",
       "887          888         1       1                       Graham, Miss. Margaret Edith  female  19.0      0      0            112053   \n",
       "888          889         0       3           Johnston, Miss. Catherine Helen \"Carrie\"  female   NaN      1      2        W./C. 6607   \n",
       "889          890         1       1                              Behr, Mr. Karl Howell    male  26.0      0      0            111369   \n",
       "890          891         0       3                                Dooley, Mr. Patrick    male  32.0      0      0            370376   \n",
       "\n",
       "        Fare Cabin Embarked  \n",
       "0     7.2500   NaN        S  \n",
       "1    71.2833   C85        C  \n",
       "2     7.9250   NaN        S  \n",
       "3    53.1000  C123        S  \n",
       "4     8.0500   NaN        S  \n",
       "..       ...   ...      ...  \n",
       "886  13.0000   NaN        S  \n",
       "887  30.0000   B42        S  \n",
       "888  23.4500   NaN        S  \n",
       "889  30.0000  C148        C  \n",
       "890   7.7500   NaN        Q  \n",
       "\n",
       "[891 rows x 12 columns]"
      ]
     },
     "execution_count": 3,
     "metadata": {},
     "output_type": "execute_result"
    }
   ],
   "source": [
    "df = pd.read_csv(path/'train.csv')\n",
    "df"
   ]
  },
  {
   "cell_type": "markdown",
   "id": "368b88b4",
   "metadata": {
    "hidden": true,
    "papermill": {
     "duration": 0.129242,
     "end_time": "2024-01-20T07:40:13.319597",
     "exception": false,
     "start_time": "2024-01-20T07:40:13.190355",
     "status": "completed"
    },
    "tags": []
   },
   "source": [
    "As we learned in the *How does a neural net really work* notebook, we going to want to multiply each column by some coefficients. But we can see in the `Cabin` column that there are `NaN` values, which is how Pandas refers to missing values. We can't multiply something by a missing value!\n",
    "\n",
    "Let's check which columns contain `NaN` values. Pandas' `isna()` function returns `True` (which is treated as `1` when used as a number) for `NaN` values, so we can just add them up for each column:"
   ]
  },
  {
   "cell_type": "code",
   "execution_count": 4,
   "id": "374f620e",
   "metadata": {
    "execution": {
     "iopub.execute_input": "2024-01-20T07:40:13.582163Z",
     "iopub.status.busy": "2024-01-20T07:40:13.581581Z",
     "iopub.status.idle": "2024-01-20T07:40:13.590569Z",
     "shell.execute_reply": "2024-01-20T07:40:13.589673Z"
    },
    "hidden": true,
    "papermill": {
     "duration": 0.142839,
     "end_time": "2024-01-20T07:40:13.592415",
     "exception": false,
     "start_time": "2024-01-20T07:40:13.449576",
     "status": "completed"
    },
    "tags": []
   },
   "outputs": [
    {
     "data": {
      "text/plain": [
       "PassengerId      0\n",
       "Survived         0\n",
       "Pclass           0\n",
       "Name             0\n",
       "Sex              0\n",
       "Age            177\n",
       "SibSp            0\n",
       "Parch            0\n",
       "Ticket           0\n",
       "Fare             0\n",
       "Cabin          687\n",
       "Embarked         2\n",
       "dtype: int64"
      ]
     },
     "execution_count": 4,
     "metadata": {},
     "output_type": "execute_result"
    }
   ],
   "source": [
    "df.isna().sum()"
   ]
  },
  {
   "cell_type": "markdown",
   "id": "0a72f838",
   "metadata": {
    "hidden": true,
    "papermill": {
     "duration": 0.12999,
     "end_time": "2024-01-20T07:40:13.853314",
     "exception": false,
     "start_time": "2024-01-20T07:40:13.723324",
     "status": "completed"
    },
    "tags": []
   },
   "source": [
    "Notice that by default Pandas sums over columns.\n",
    "\n",
    "We'll need to replace the missing values with something. It doesn't generally matter too much what we choose. We'll use the most common value (the \"*mode*\"). We can use the `mode` function for that. One wrinkle is that it returns more than one row in the case of ties, so we just grab the first row with `iloc[0]`:"
   ]
  },
  {
   "cell_type": "code",
   "execution_count": 5,
   "id": "8f008dfd",
   "metadata": {
    "execution": {
     "iopub.execute_input": "2024-01-20T07:40:14.117890Z",
     "iopub.status.busy": "2024-01-20T07:40:14.117186Z",
     "iopub.status.idle": "2024-01-20T07:40:14.137652Z",
     "shell.execute_reply": "2024-01-20T07:40:14.136856Z"
    },
    "hidden": true,
    "papermill": {
     "duration": 0.154964,
     "end_time": "2024-01-20T07:40:14.139592",
     "exception": false,
     "start_time": "2024-01-20T07:40:13.984628",
     "status": "completed"
    },
    "tags": []
   },
   "outputs": [
    {
     "data": {
      "text/plain": [
       "PassengerId                      1\n",
       "Survived                       0.0\n",
       "Pclass                         3.0\n",
       "Name           Abbing, Mr. Anthony\n",
       "Sex                           male\n",
       "Age                           24.0\n",
       "SibSp                          0.0\n",
       "Parch                          0.0\n",
       "Ticket                        1601\n",
       "Fare                          8.05\n",
       "Cabin                      B96 B98\n",
       "Embarked                         S\n",
       "Name: 0, dtype: object"
      ]
     },
     "execution_count": 5,
     "metadata": {},
     "output_type": "execute_result"
    }
   ],
   "source": [
    "modes = df.mode().iloc[0]\n",
    "modes"
   ]
  },
  {
   "cell_type": "markdown",
   "id": "5226a243",
   "metadata": {
    "hidden": true,
    "papermill": {
     "duration": 0.129293,
     "end_time": "2024-01-20T07:40:14.399996",
     "exception": false,
     "start_time": "2024-01-20T07:40:14.270703",
     "status": "completed"
    },
    "tags": []
   },
   "source": [
    "BTW, it's never a good idea to use functions without understanding them. So be sure to google for anything you're not familiar with. E.g if you want to learn about `iloc` (which is a very important function indeed!) then Google will give you a link to a [great tutorial](https://www.shanelynn.ie/pandas-iloc-loc-select-rows-and-columns-dataframe/).\n",
    "\n",
    "Now that we've got the mode of each column, we can use `fillna` to replace the missing values with the mode of each column. We'll do it \"in place\" -- meaning that we'll change the dataframe itself, rather than returning a new one."
   ]
  },
  {
   "cell_type": "code",
   "execution_count": 6,
   "id": "91a202c2",
   "metadata": {
    "execution": {
     "iopub.execute_input": "2024-01-20T07:40:14.662496Z",
     "iopub.status.busy": "2024-01-20T07:40:14.662183Z",
     "iopub.status.idle": "2024-01-20T07:40:14.673506Z",
     "shell.execute_reply": "2024-01-20T07:40:14.672783Z"
    },
    "hidden": true,
    "papermill": {
     "duration": 0.144,
     "end_time": "2024-01-20T07:40:14.675245",
     "exception": false,
     "start_time": "2024-01-20T07:40:14.531245",
     "status": "completed"
    },
    "tags": []
   },
   "outputs": [],
   "source": [
    "df.fillna(modes, inplace=True)"
   ]
  },
  {
   "cell_type": "markdown",
   "id": "372660b5",
   "metadata": {
    "hidden": true,
    "papermill": {
     "duration": 0.130939,
     "end_time": "2024-01-20T07:40:14.936495",
     "exception": false,
     "start_time": "2024-01-20T07:40:14.805556",
     "status": "completed"
    },
    "tags": []
   },
   "source": [
    "We can now check there's no missing values left:"
   ]
  },
  {
   "cell_type": "code",
   "execution_count": 7,
   "id": "9da1dccd",
   "metadata": {
    "execution": {
     "iopub.execute_input": "2024-01-20T07:40:15.197925Z",
     "iopub.status.busy": "2024-01-20T07:40:15.197681Z",
     "iopub.status.idle": "2024-01-20T07:40:15.206156Z",
     "shell.execute_reply": "2024-01-20T07:40:15.205483Z"
    },
    "hidden": true,
    "papermill": {
     "duration": 0.141619,
     "end_time": "2024-01-20T07:40:15.207892",
     "exception": false,
     "start_time": "2024-01-20T07:40:15.066273",
     "status": "completed"
    },
    "tags": []
   },
   "outputs": [
    {
     "data": {
      "text/plain": [
       "PassengerId    0\n",
       "Survived       0\n",
       "Pclass         0\n",
       "Name           0\n",
       "Sex            0\n",
       "Age            0\n",
       "SibSp          0\n",
       "Parch          0\n",
       "Ticket         0\n",
       "Fare           0\n",
       "Cabin          0\n",
       "Embarked       0\n",
       "dtype: int64"
      ]
     },
     "execution_count": 7,
     "metadata": {},
     "output_type": "execute_result"
    }
   ],
   "source": [
    "df.isna().sum()"
   ]
  },
  {
   "cell_type": "markdown",
   "id": "f3733aaa",
   "metadata": {
    "hidden": true,
    "papermill": {
     "duration": 0.13148,
     "end_time": "2024-01-20T07:40:15.469946",
     "exception": false,
     "start_time": "2024-01-20T07:40:15.338466",
     "status": "completed"
    },
    "tags": []
   },
   "source": [
    "Here's how we get a quick summary of all the numeric columns in the dataset:"
   ]
  },
  {
   "cell_type": "code",
   "execution_count": 8,
   "id": "d3f25768",
   "metadata": {
    "execution": {
     "iopub.execute_input": "2024-01-20T07:40:15.732627Z",
     "iopub.status.busy": "2024-01-20T07:40:15.732355Z",
     "iopub.status.idle": "2024-01-20T07:40:15.763368Z",
     "shell.execute_reply": "2024-01-20T07:40:15.762666Z"
    },
    "hidden": true,
    "papermill": {
     "duration": 0.164352,
     "end_time": "2024-01-20T07:40:15.765052",
     "exception": false,
     "start_time": "2024-01-20T07:40:15.600700",
     "status": "completed"
    },
    "tags": []
   },
   "outputs": [
    {
     "data": {
      "text/html": [
       "<div>\n",
       "<style scoped>\n",
       "    .dataframe tbody tr th:only-of-type {\n",
       "        vertical-align: middle;\n",
       "    }\n",
       "\n",
       "    .dataframe tbody tr th {\n",
       "        vertical-align: top;\n",
       "    }\n",
       "\n",
       "    .dataframe thead th {\n",
       "        text-align: right;\n",
       "    }\n",
       "</style>\n",
       "<table border=\"1\" class=\"dataframe\">\n",
       "  <thead>\n",
       "    <tr style=\"text-align: right;\">\n",
       "      <th></th>\n",
       "      <th>PassengerId</th>\n",
       "      <th>Survived</th>\n",
       "      <th>Pclass</th>\n",
       "      <th>Age</th>\n",
       "      <th>SibSp</th>\n",
       "      <th>Parch</th>\n",
       "      <th>Fare</th>\n",
       "    </tr>\n",
       "  </thead>\n",
       "  <tbody>\n",
       "    <tr>\n",
       "      <th>count</th>\n",
       "      <td>891.000000</td>\n",
       "      <td>891.000000</td>\n",
       "      <td>891.000000</td>\n",
       "      <td>891.000000</td>\n",
       "      <td>891.000000</td>\n",
       "      <td>891.000000</td>\n",
       "      <td>891.000000</td>\n",
       "    </tr>\n",
       "    <tr>\n",
       "      <th>mean</th>\n",
       "      <td>446.000000</td>\n",
       "      <td>0.383838</td>\n",
       "      <td>2.308642</td>\n",
       "      <td>28.566970</td>\n",
       "      <td>0.523008</td>\n",
       "      <td>0.381594</td>\n",
       "      <td>32.204208</td>\n",
       "    </tr>\n",
       "    <tr>\n",
       "      <th>std</th>\n",
       "      <td>257.353842</td>\n",
       "      <td>0.486592</td>\n",
       "      <td>0.836071</td>\n",
       "      <td>13.199572</td>\n",
       "      <td>1.102743</td>\n",
       "      <td>0.806057</td>\n",
       "      <td>49.693429</td>\n",
       "    </tr>\n",
       "    <tr>\n",
       "      <th>min</th>\n",
       "      <td>1.000000</td>\n",
       "      <td>0.000000</td>\n",
       "      <td>1.000000</td>\n",
       "      <td>0.420000</td>\n",
       "      <td>0.000000</td>\n",
       "      <td>0.000000</td>\n",
       "      <td>0.000000</td>\n",
       "    </tr>\n",
       "    <tr>\n",
       "      <th>25%</th>\n",
       "      <td>223.500000</td>\n",
       "      <td>0.000000</td>\n",
       "      <td>2.000000</td>\n",
       "      <td>22.000000</td>\n",
       "      <td>0.000000</td>\n",
       "      <td>0.000000</td>\n",
       "      <td>7.910400</td>\n",
       "    </tr>\n",
       "    <tr>\n",
       "      <th>50%</th>\n",
       "      <td>446.000000</td>\n",
       "      <td>0.000000</td>\n",
       "      <td>3.000000</td>\n",
       "      <td>24.000000</td>\n",
       "      <td>0.000000</td>\n",
       "      <td>0.000000</td>\n",
       "      <td>14.454200</td>\n",
       "    </tr>\n",
       "    <tr>\n",
       "      <th>75%</th>\n",
       "      <td>668.500000</td>\n",
       "      <td>1.000000</td>\n",
       "      <td>3.000000</td>\n",
       "      <td>35.000000</td>\n",
       "      <td>1.000000</td>\n",
       "      <td>0.000000</td>\n",
       "      <td>31.000000</td>\n",
       "    </tr>\n",
       "    <tr>\n",
       "      <th>max</th>\n",
       "      <td>891.000000</td>\n",
       "      <td>1.000000</td>\n",
       "      <td>3.000000</td>\n",
       "      <td>80.000000</td>\n",
       "      <td>8.000000</td>\n",
       "      <td>6.000000</td>\n",
       "      <td>512.329200</td>\n",
       "    </tr>\n",
       "  </tbody>\n",
       "</table>\n",
       "</div>"
      ],
      "text/plain": [
       "       PassengerId    Survived      Pclass         Age       SibSp       Parch        Fare\n",
       "count   891.000000  891.000000  891.000000  891.000000  891.000000  891.000000  891.000000\n",
       "mean    446.000000    0.383838    2.308642   28.566970    0.523008    0.381594   32.204208\n",
       "std     257.353842    0.486592    0.836071   13.199572    1.102743    0.806057   49.693429\n",
       "min       1.000000    0.000000    1.000000    0.420000    0.000000    0.000000    0.000000\n",
       "25%     223.500000    0.000000    2.000000   22.000000    0.000000    0.000000    7.910400\n",
       "50%     446.000000    0.000000    3.000000   24.000000    0.000000    0.000000   14.454200\n",
       "75%     668.500000    1.000000    3.000000   35.000000    1.000000    0.000000   31.000000\n",
       "max     891.000000    1.000000    3.000000   80.000000    8.000000    6.000000  512.329200"
      ]
     },
     "execution_count": 8,
     "metadata": {},
     "output_type": "execute_result"
    }
   ],
   "source": [
    "import numpy as np\n",
    "\n",
    "df.describe(include=(np.number))"
   ]
  },
  {
   "cell_type": "markdown",
   "id": "22421161",
   "metadata": {
    "execution": {
     "iopub.execute_input": "2022-05-13T11:02:34.328433Z",
     "iopub.status.busy": "2022-05-13T11:02:34.327999Z",
     "iopub.status.idle": "2022-05-13T11:02:34.336993Z",
     "shell.execute_reply": "2022-05-13T11:02:34.335466Z",
     "shell.execute_reply.started": "2022-05-13T11:02:34.32838Z"
    },
    "hidden": true,
    "papermill": {
     "duration": 0.130503,
     "end_time": "2024-01-20T07:40:16.027440",
     "exception": false,
     "start_time": "2024-01-20T07:40:15.896937",
     "status": "completed"
    },
    "tags": []
   },
   "source": [
    "We can see that `Fare` contains mainly values of around `0` to `30`, but there's a few really big ones. This is very common with fields contain monetary values, and it can cause problems for our model, because once that column is multiplied by a coefficient later, the few rows with really big values will dominate the result.\n",
    "\n",
    "You can see the issue most clearly visually by looking at a histogram, which shows a long tail to the right (and don't forget: if you're not entirely sure what a histogram is, Google \"[histogram tutorial](https://www.google.com/search?q=histogram+tutorial&oq=histogram+tutorial)\" and do a bit of reading before continuing on):"
   ]
  },
  {
   "cell_type": "code",
   "execution_count": 9,
   "id": "6d236ad0",
   "metadata": {
    "execution": {
     "iopub.execute_input": "2024-01-20T07:40:16.290966Z",
     "iopub.status.busy": "2024-01-20T07:40:16.290709Z",
     "iopub.status.idle": "2024-01-20T07:40:16.547908Z",
     "shell.execute_reply": "2024-01-20T07:40:16.547201Z"
    },
    "hidden": true,
    "papermill": {
     "duration": 0.390792,
     "end_time": "2024-01-20T07:40:16.549877",
     "exception": false,
     "start_time": "2024-01-20T07:40:16.159085",
     "status": "completed"
    },
    "tags": []
   },
   "outputs": [
    {
     "data": {
      "image/png": "[encoded data removed]",
      "text/plain": [
       "<Figure size 432x288 with 1 Axes>"
      ]
     },
     "metadata": {
      "needs_background": "light"
     },
     "output_type": "display_data"
    }
   ],
   "source": [
    "df['Fare'].hist();"
   ]
  },
  {
   "cell_type": "markdown",
   "id": "2992a884",
   "metadata": {
    "execution": {
     "iopub.execute_input": "2022-05-13T11:02:34.328433Z",
     "iopub.status.busy": "2022-05-13T11:02:34.327999Z",
     "iopub.status.idle": "2022-05-13T11:02:34.336993Z",
     "shell.execute_reply": "2022-05-13T11:02:34.335466Z",
     "shell.execute_reply.started": "2022-05-13T11:02:34.32838Z"
    },
    "hidden": true,
    "papermill": {
     "duration": 0.131732,
     "end_time": "2024-01-20T07:40:16.819123",
     "exception": false,
     "start_time": "2024-01-20T07:40:16.687391",
     "status": "completed"
    },
    "tags": []
   },
   "source": [
    "To fix this, the most common approach is to take the logarithm, which squishes the big numbers and makes the distribution more reasonable. Note, however, that there are zeros in the `Fare` column, and `log(0)` is infinite -- to fix this, we'll simply add `1` to all values first:"
   ]
  },
  {
   "cell_type": "code",
   "execution_count": 10,
   "id": "f4e66f7b",
   "metadata": {
    "execution": {
     "iopub.execute_input": "2024-01-20T07:40:17.084747Z",
     "iopub.status.busy": "2024-01-20T07:40:17.084475Z",
     "iopub.status.idle": "2024-01-20T07:40:17.089625Z",
     "shell.execute_reply": "2024-01-20T07:40:17.088874Z"
    },
    "hidden": true,
    "papermill": {
     "duration": 0.140376,
     "end_time": "2024-01-20T07:40:17.091480",
     "exception": false,
     "start_time": "2024-01-20T07:40:16.951104",
     "status": "completed"
    },
    "tags": []
   },
   "outputs": [],
   "source": [
    "df['LogFare'] = np.log(df['Fare']+1)"
   ]
  },
  {
   "cell_type": "markdown",
   "id": "1ec84384",
   "metadata": {
    "hidden": true,
    "papermill": {
     "duration": 0.131663,
     "end_time": "2024-01-20T07:40:17.355857",
     "exception": false,
     "start_time": "2024-01-20T07:40:17.224194",
     "status": "completed"
    },
    "tags": []
   },
   "source": [
    "The histogram now shows a more even distribution of values without the long tail:"
   ]
  },
  {
   "cell_type": "code",
   "execution_count": 11,
   "id": "e0db18c5",
   "metadata": {
    "execution": {
     "iopub.execute_input": "2024-01-20T07:40:17.623236Z",
     "iopub.status.busy": "2024-01-20T07:40:17.622744Z",
     "iopub.status.idle": "2024-01-20T07:40:17.847715Z",
     "shell.execute_reply": "2024-01-20T07:40:17.847025Z"
    },
    "hidden": true,
    "papermill": {
     "duration": 0.360807,
     "end_time": "2024-01-20T07:40:17.849608",
     "exception": false,
     "start_time": "2024-01-20T07:40:17.488801",
     "status": "completed"
    },
    "tags": []
   },
   "outputs": [
    {
     "data": {
      "image/png": "[encoded data removed]",
      "text/plain": [
       "<Figure size 432x288 with 1 Axes>"
      ]
     },
     "metadata": {
      "needs_background": "light"
     },
     "output_type": "display_data"
    }
   ],
   "source": [
    "df['LogFare'].hist();"
   ]
  },
  {
   "cell_type": "markdown",
   "id": "7b5c00ff",
   "metadata": {
    "hidden": true,
    "papermill": {
     "duration": 0.132182,
     "end_time": "2024-01-20T07:40:18.115062",
     "exception": false,
     "start_time": "2024-01-20T07:40:17.982880",
     "status": "completed"
    },
    "tags": []
   },
   "source": [
    "It looks from the `describe()` output like `Pclass` contains just 3 values, which we can confirm by looking at the [Data Dictionary](https://www.kaggle.com/competitions/titanic/data) (which you should always study carefully for any project!) -- "
   ]
  },
  {
   "cell_type": "code",
   "execution_count": 12,
   "id": "1f7b2d6f",
   "metadata": {
    "execution": {
     "iopub.execute_input": "2024-01-20T07:40:18.381501Z",
     "iopub.status.busy": "2024-01-20T07:40:18.381270Z",
     "iopub.status.idle": "2024-01-20T07:40:18.387029Z",
     "shell.execute_reply": "2024-01-20T07:40:18.386327Z"
    },
    "hidden": true,
    "papermill": {
     "duration": 0.140783,
     "end_time": "2024-01-20T07:40:18.388877",
     "exception": false,
     "start_time": "2024-01-20T07:40:18.248094",
     "status": "completed"
    },
    "tags": []
   },
   "outputs": [
    {
     "data": {
      "text/plain": [
       "[1, 2, 3]"
      ]
     },
     "execution_count": 12,
     "metadata": {},
     "output_type": "execute_result"
    }
   ],
   "source": [
    "pclasses = sorted(df.Pclass.unique())\n",
    "pclasses"
   ]
  },
  {
   "cell_type": "markdown",
   "id": "8f0889e0",
   "metadata": {
    "hidden": true,
    "papermill": {
     "duration": 0.132246,
     "end_time": "2024-01-20T07:40:18.656104",
     "exception": false,
     "start_time": "2024-01-20T07:40:18.523858",
     "status": "completed"
    },
    "tags": []
   },
   "source": [
    "Here's how we get a quick summary of all the non-numeric columns in the dataset:"
   ]
  },
  {
   "cell_type": "code",
   "execution_count": 13,
   "id": "c4d980fd",
   "metadata": {
    "execution": {
     "iopub.execute_input": "2024-01-20T07:40:18.922817Z",
     "iopub.status.busy": "2024-01-20T07:40:18.922562Z",
     "iopub.status.idle": "2024-01-20T07:40:18.942521Z",
     "shell.execute_reply": "2024-01-20T07:40:18.941829Z"
    },
    "hidden": true,
    "papermill": {
     "duration": 0.155633,
     "end_time": "2024-01-20T07:40:18.944294",
     "exception": false,
     "start_time": "2024-01-20T07:40:18.788661",
     "status": "completed"
    },
    "tags": []
   },
   "outputs": [
    {
     "data": {
      "text/html": [
       "<div>\n",
       "<style scoped>\n",
       "    .dataframe tbody tr th:only-of-type {\n",
       "        vertical-align: middle;\n",
       "    }\n",
       "\n",
       "    .dataframe tbody tr th {\n",
       "        vertical-align: top;\n",
       "    }\n",
       "\n",
       "    .dataframe thead th {\n",
       "        text-align: right;\n",
       "    }\n",
       "</style>\n",
       "<table border=\"1\" class=\"dataframe\">\n",
       "  <thead>\n",
       "    <tr style=\"text-align: right;\">\n",
       "      <th></th>\n",
       "      <th>Name</th>\n",
       "      <th>Sex</th>\n",
       "      <th>Ticket</th>\n",
       "      <th>Cabin</th>\n",
       "      <th>Embarked</th>\n",
       "    </tr>\n",
       "  </thead>\n",
       "  <tbody>\n",
       "    <tr>\n",
       "      <th>count</th>\n",
       "      <td>891</td>\n",
       "      <td>891</td>\n",
       "      <td>891</td>\n",
       "      <td>891</td>\n",
       "      <td>891</td>\n",
       "    </tr>\n",
       "    <tr>\n",
       "      <th>unique</th>\n",
       "      <td>891</td>\n",
       "      <td>2</td>\n",
       "      <td>681</td>\n",
       "      <td>147</td>\n",
       "      <td>3</td>\n",
       "    </tr>\n",
       "    <tr>\n",
       "      <th>top</th>\n",
       "      <td>Braund, Mr. Owen Harris</td>\n",
       "      <td>male</td>\n",
       "      <td>347082</td>\n",
       "      <td>B96 B98</td>\n",
       "      <td>S</td>\n",
       "    </tr>\n",
       "    <tr>\n",
       "      <th>freq</th>\n",
       "      <td>1</td>\n",
       "      <td>577</td>\n",
       "      <td>7</td>\n",
       "      <td>691</td>\n",
       "      <td>646</td>\n",
       "    </tr>\n",
       "  </tbody>\n",
       "</table>\n",
       "</div>"
      ],
      "text/plain": [
       "                           Name   Sex  Ticket    Cabin Embarked\n",
       "count                       891   891     891      891      891\n",
       "unique                      891     2     681      147        3\n",
       "top     Braund, Mr. Owen Harris  male  347082  B96 B98        S\n",
       "freq                          1   577       7      691      646"
      ]
     },
     "execution_count": 13,
     "metadata": {},
     "output_type": "execute_result"
    }
   ],
   "source": [
    "df.describe(include=[object])"
   ]
  },
  {
   "cell_type": "markdown",
   "id": "f80446c9",
   "metadata": {
    "hidden": true,
    "papermill": {
     "duration": 0.133234,
     "end_time": "2024-01-20T07:40:19.211047",
     "exception": false,
     "start_time": "2024-01-20T07:40:19.077813",
     "status": "completed"
    },
    "tags": []
   },
   "source": [
    "Clearly we can't multiply strings like `male` or `S` by coefficients, so we need to replace those with numbers.\n",
    "\n",
    "We do that by creating new columns containing *dummy variables*. A dummy variable is a column that contains a `1` where a particular column contains a particular value, or a `0` otherwise. For instance, we could create a dummy variable for `Sex='male'`, which would be a new column containing `1` for rows where `Sex` is `'male'`, and 0 for rows where it isn't.\n",
    "\n",
    "Pandas can create these automatically using `get_dummies`, which also remove the original columns. We'll create dummy variables for `Pclass`, even although it's numeric, since the numbers `1`, `2`, and `3` correspond to first, second, and third class cabins - not to counts or measures that make sense to multiply by. We'll also create dummies for `Sex` and `Embarked` since we'll want to use those as predictors in our model. On the other hand, `Cabin`, `Name`, and `Ticket` have too many unique values for it to make sense creating dummy variables for them."
   ]
  },
  {
   "cell_type": "code",
   "execution_count": 14,
   "id": "f0eed25f",
   "metadata": {
    "execution": {
     "iopub.execute_input": "2024-01-20T07:40:19.481199Z",
     "iopub.status.busy": "2024-01-20T07:40:19.480526Z",
     "iopub.status.idle": "2024-01-20T07:40:19.492474Z",
     "shell.execute_reply": "2024-01-20T07:40:19.491698Z"
    },
    "hidden": true,
    "papermill": {
     "duration": 0.149361,
     "end_time": "2024-01-20T07:40:19.494208",
     "exception": false,
     "start_time": "2024-01-20T07:40:19.344847",
     "status": "completed"
    },
    "tags": []
   },
   "outputs": [
    {
     "data": {
      "text/plain": [
       "Index(['PassengerId', 'Survived', 'Name', 'Age', 'SibSp', 'Parch', 'Ticket', 'Fare', 'Cabin', 'LogFare', 'Sex_female', 'Sex_male',\n",
       "       'Pclass_1', 'Pclass_2', 'Pclass_3', 'Embarked_C', 'Embarked_Q', 'Embarked_S'],\n",
       "      dtype='object')"
      ]
     },
     "execution_count": 14,
     "metadata": {},
     "output_type": "execute_result"
    }
   ],
   "source": [
    "df = pd.get_dummies(df, columns=[\"Sex\",\"Pclass\",\"Embarked\"])\n",
    "df.columns"
   ]
  },
  {
   "cell_type": "markdown",
   "id": "1f0dce58",
   "metadata": {
    "hidden": true,
    "papermill": {
     "duration": 0.13361,
     "end_time": "2024-01-20T07:40:19.763439",
     "exception": false,
     "start_time": "2024-01-20T07:40:19.629829",
     "status": "completed"
    },
    "tags": []
   },
   "source": [
    "We can see that 5 columns have been added to the end -- one for each of the possible values of each of the three columns we requested, and that those three requested columns have been removed.\n",
    "\n",
    "Here's what the first few rows of those newly added columns look like:"
   ]
  },
  {
   "cell_type": "code",
   "execution_count": 15,
   "id": "f6a65088",
   "metadata": {
    "execution": {
     "iopub.execute_input": "2024-01-20T07:40:20.033174Z",
     "iopub.status.busy": "2024-01-20T07:40:20.032878Z",
     "iopub.status.idle": "2024-01-20T07:40:20.045474Z",
     "shell.execute_reply": "2024-01-20T07:40:20.044761Z"
    },
    "hidden": true,
    "papermill": {
     "duration": 0.149313,
     "end_time": "2024-01-20T07:40:20.047432",
     "exception": false,
     "start_time": "2024-01-20T07:40:19.898119",
     "status": "completed"
    },
    "tags": []
   },
   "outputs": [
    {
     "data": {
      "text/html": [
       "<div>\n",
       "<style scoped>\n",
       "    .dataframe tbody tr th:only-of-type {\n",
       "        vertical-align: middle;\n",
       "    }\n",
       "\n",
       "    .dataframe tbody tr th {\n",
       "        vertical-align: top;\n",
       "    }\n",
       "\n",
       "    .dataframe thead th {\n",
       "        text-align: right;\n",
       "    }\n",
       "</style>\n",
       "<table border=\"1\" class=\"dataframe\">\n",
       "  <thead>\n",
       "    <tr style=\"text-align: right;\">\n",
       "      <th></th>\n",
       "      <th>Sex_male</th>\n",
       "      <th>Sex_female</th>\n",
       "      <th>Pclass_1</th>\n",
       "      <th>Pclass_2</th>\n",
       "      <th>Pclass_3</th>\n",
       "      <th>Embarked_C</th>\n",
       "      <th>Embarked_Q</th>\n",
       "      <th>Embarked_S</th>\n",
       "    </tr>\n",
       "  </thead>\n",
       "  <tbody>\n",
       "    <tr>\n",
       "      <th>0</th>\n",
       "      <td>1</td>\n",
       "      <td>0</td>\n",
       "      <td>0</td>\n",
       "      <td>0</td>\n",
       "      <td>1</td>\n",
       "      <td>0</td>\n",
       "      <td>0</td>\n",
       "      <td>1</td>\n",
       "    </tr>\n",
       "    <tr>\n",
       "      <th>1</th>\n",
       "      <td>0</td>\n",
       "      <td>1</td>\n",
       "      <td>1</td>\n",
       "      <td>0</td>\n",
       "      <td>0</td>\n",
       "      <td>1</td>\n",
       "      <td>0</td>\n",
       "      <td>0</td>\n",
       "    </tr>\n",
       "    <tr>\n",
       "      <th>2</th>\n",
       "      <td>0</td>\n",
       "      <td>1</td>\n",
       "      <td>0</td>\n",
       "      <td>0</td>\n",
       "      <td>1</td>\n",
       "      <td>0</td>\n",
       "      <td>0</td>\n",
       "      <td>1</td>\n",
       "    </tr>\n",
       "    <tr>\n",
       "      <th>3</th>\n",
       "      <td>0</td>\n",
       "      <td>1</td>\n",
       "      <td>1</td>\n",
       "      <td>0</td>\n",
       "      <td>0</td>\n",
       "      <td>0</td>\n",
       "      <td>0</td>\n",
       "      <td>1</td>\n",
       "    </tr>\n",
       "    <tr>\n",
       "      <th>4</th>\n",
       "      <td>1</td>\n",
       "      <td>0</td>\n",
       "      <td>0</td>\n",
       "      <td>0</td>\n",
       "      <td>1</td>\n",
       "      <td>0</td>\n",
       "      <td>0</td>\n",
       "      <td>1</td>\n",
       "    </tr>\n",
       "  </tbody>\n",
       "</table>\n",
       "</div>"
      ],
      "text/plain": [
       "   Sex_male  Sex_female  Pclass_1  Pclass_2  Pclass_3  Embarked_C  Embarked_Q  Embarked_S\n",
       "0         1           0         0         0         1           0           0           1\n",
       "1         0           1         1         0         0           1           0           0\n",
       "2         0           1         0         0         1           0           0           1\n",
       "3         0           1         1         0         0           0           0           1\n",
       "4         1           0         0         0         1           0           0           1"
      ]
     },
     "execution_count": 15,
     "metadata": {},
     "output_type": "execute_result"
    }
   ],
   "source": [
    "added_cols = ['Sex_male', 'Sex_female', 'Pclass_1', 'Pclass_2', 'Pclass_3', 'Embarked_C', 'Embarked_Q', 'Embarked_S']\n",
    "df[added_cols].head()"
   ]
  },
  {
   "cell_type": "markdown",
   "id": "7cbedb4c",
   "metadata": {
    "hidden": true,
    "papermill": {
     "duration": 0.133724,
     "end_time": "2024-01-20T07:40:20.315706",
     "exception": false,
     "start_time": "2024-01-20T07:40:20.181982",
     "status": "completed"
    },
    "tags": []
   },
   "source": [
    "Now we can create our independent (predictors) and dependent (target) variables. They both need to be PyTorch tensors. Our dependent variable is `Survived`:"
   ]
  },
  {
   "cell_type": "code",
   "execution_count": 16,
   "id": "f41e2d37",
   "metadata": {
    "execution": {
     "iopub.execute_input": "2024-01-20T07:40:20.631842Z",
     "iopub.status.busy": "2024-01-20T07:40:20.631121Z",
     "iopub.status.idle": "2024-01-20T07:40:20.646861Z",
     "shell.execute_reply": "2024-01-20T07:40:20.646300Z"
    },
    "hidden": true,
    "papermill": {
     "duration": 0.195652,
     "end_time": "2024-01-20T07:40:20.648679",
     "exception": false,
     "start_time": "2024-01-20T07:40:20.453027",
     "status": "completed"
    },
    "tags": []
   },
   "outputs": [],
   "source": [
    "from torch import tensor\n",
    "\n",
    "t_dep = tensor(df.Survived)"
   ]
  },
  {
   "cell_type": "markdown",
   "id": "c952c1ca",
   "metadata": {
    "hidden": true,
    "papermill": {
     "duration": 0.135156,
     "end_time": "2024-01-20T07:40:20.918097",
     "exception": false,
     "start_time": "2024-01-20T07:40:20.782941",
     "status": "completed"
    },
    "tags": []
   },
   "source": [
    "Our independent variables are all the continuous variables of interest plus all the dummy variables we just created:"
   ]
  },
  {
   "cell_type": "code",
   "execution_count": 17,
   "id": "de6052bd",
   "metadata": {
    "execution": {
     "iopub.execute_input": "2024-01-20T07:40:21.190662Z",
     "iopub.status.busy": "2024-01-20T07:40:21.189930Z",
     "iopub.status.idle": "2024-01-20T07:40:21.253993Z",
     "shell.execute_reply": "2024-01-20T07:40:21.253280Z"
    },
    "hidden": true,
    "papermill": {
     "duration": 0.202975,
     "end_time": "2024-01-20T07:40:21.255804",
     "exception": false,
     "start_time": "2024-01-20T07:40:21.052829",
     "status": "completed"
    },
    "tags": []
   },
   "outputs": [
    {
     "data": {
      "text/plain": [
       "tensor([[22.0000,  1.0000,  0.0000,  2.1102,  1.0000,  0.0000,  0.0000,  0.0000,  1.0000,  0.0000,  0.0000,  1.0000],\n",
       "        [38.0000,  1.0000,  0.0000,  4.2806,  0.0000,  1.0000,  1.0000,  0.0000,  0.0000,  1.0000,  0.0000,  0.0000],\n",
       "        [26.0000,  0.0000,  0.0000,  2.1889,  0.0000,  1.0000,  0.0000,  0.0000,  1.0000,  0.0000,  0.0000,  1.0000],\n",
       "        [35.0000,  1.0000,  0.0000,  3.9908,  0.0000,  1.0000,  1.0000,  0.0000,  0.0000,  0.0000,  0.0000,  1.0000],\n",
       "        [35.0000,  0.0000,  0.0000,  2.2028,  1.0000,  0.0000,  0.0000,  0.0000,  1.0000,  0.0000,  0.0000,  1.0000],\n",
       "        [24.0000,  0.0000,  0.0000,  2.2469,  1.0000,  0.0000,  0.0000,  0.0000,  1.0000,  0.0000,  1.0000,  0.0000],\n",
       "        [54.0000,  0.0000,  0.0000,  3.9677,  1.0000,  0.0000,  1.0000,  0.0000,  0.0000,  0.0000,  0.0000,  1.0000],\n",
       "        ...,\n",
       "        [25.0000,  0.0000,  0.0000,  2.0857,  1.0000,  0.0000,  0.0000,  0.0000,  1.0000,  0.0000,  0.0000,  1.0000],\n",
       "        [39.0000,  0.0000,  5.0000,  3.4054,  0.0000,  1.0000,  0.0000,  0.0000,  1.0000,  0.0000,  1.0000,  0.0000],\n",
       "        [27.0000,  0.0000,  0.0000,  2.6391,  1.0000,  0.0000,  0.0000,  1.0000,  0.0000,  0.0000,  0.0000,  1.0000],\n",
       "        [19.0000,  0.0000,  0.0000,  3.4340,  0.0000,  1.0000,  1.0000,  0.0000,  0.0000,  0.0000,  0.0000,  1.0000],\n",
       "        [24.0000,  1.0000,  2.0000,  3.1966,  0.0000,  1.0000,  0.0000,  0.0000,  1.0000,  0.0000,  0.0000,  1.0000],\n",
       "        [26.0000,  0.0000,  0.0000,  3.4340,  1.0000,  0.0000,  1.0000,  0.0000,  0.0000,  1.0000,  0.0000,  0.0000],\n",
       "        [32.0000,  0.0000,  0.0000,  2.1691,  1.0000,  0.0000,  0.0000,  0.0000,  1.0000,  0.0000,  1.0000,  0.0000]])"
      ]
     },
     "execution_count": 17,
     "metadata": {},
     "output_type": "execute_result"
    }
   ],
   "source": [
    "indep_cols = ['Age', 'SibSp', 'Parch', 'LogFare'] + added_cols\n",
    "\n",
    "t_indep = tensor(df[indep_cols].values, dtype=torch.float)\n",
    "t_indep"
   ]
  },
  {
   "cell_type": "markdown",
   "id": "436cd702",
   "metadata": {
    "hidden": true,
    "papermill": {
     "duration": 0.137351,
     "end_time": "2024-01-20T07:40:21.530111",
     "exception": false,
     "start_time": "2024-01-20T07:40:21.392760",
     "status": "completed"
    },
    "tags": []
   },
   "source": [
    "Here's the number of rows and columns we have for our independent variables:"
   ]
  },
  {
   "cell_type": "code",
   "execution_count": 18,
   "id": "bfe3805a",
   "metadata": {
    "execution": {
     "iopub.execute_input": "2024-01-20T07:40:21.801887Z",
     "iopub.status.busy": "2024-01-20T07:40:21.801658Z",
     "iopub.status.idle": "2024-01-20T07:40:21.807000Z",
     "shell.execute_reply": "2024-01-20T07:40:21.806287Z"
    },
    "hidden": true,
    "papermill": {
     "duration": 0.143025,
     "end_time": "2024-01-20T07:40:21.808866",
     "exception": false,
     "start_time": "2024-01-20T07:40:21.665841",
     "status": "completed"
    },
    "tags": []
   },
   "outputs": [
    {
     "data": {
      "text/plain": [
       "torch.Size([891, 12])"
      ]
     },
     "execution_count": 18,
     "metadata": {},
     "output_type": "execute_result"
    }
   ],
   "source": [
    "t_indep.shape"
   ]
  },
  {
   "cell_type": "markdown",
   "id": "9d67ff0e",
   "metadata": {
    "papermill": {
     "duration": 0.134498,
     "end_time": "2024-01-20T07:40:22.078672",
     "exception": false,
     "start_time": "2024-01-20T07:40:21.944174",
     "status": "completed"
    },
    "tags": []
   },
   "source": [
    "## Setting up a linear model"
   ]
  },
  {
   "cell_type": "markdown",
   "id": "bb56ec97",
   "metadata": {
    "papermill": {
     "duration": 0.134432,
     "end_time": "2024-01-20T07:40:22.348078",
     "exception": false,
     "start_time": "2024-01-20T07:40:22.213646",
     "status": "completed"
    },
    "tags": []
   },
   "source": [
    "Now that we've got a matrix of independent variables and a dependent variable vector, we can work on calculating our predictions and our loss. In this section, we're going to manually do a single step of calculating predictions and loss for every row of our data.\n",
    "\n",
    "Our first model will be a simple linear model. We'll need a coefficient for each column in `t_indep`. We'll pick random numbers in the range `(-0.5,0.5)`, and set our manual seed so that my explanations in the prose in this notebook will be consistent with what you see when you run it."
   ]
  },
  {
   "cell_type": "code",
   "execution_count": 19,
   "id": "80e9dfdc",
   "metadata": {
    "execution": {
     "iopub.execute_input": "2024-01-20T07:40:22.628742Z",
     "iopub.status.busy": "2024-01-20T07:40:22.628000Z",
     "iopub.status.idle": "2024-01-20T07:40:22.641886Z",
     "shell.execute_reply": "2024-01-20T07:40:22.641202Z"
    },
    "papermill": {
     "duration": 0.157029,
     "end_time": "2024-01-20T07:40:22.644082",
     "exception": false,
     "start_time": "2024-01-20T07:40:22.487053",
     "status": "completed"
    },
    "tags": []
   },
   "outputs": [
    {
     "data": {
      "text/plain": [
       "tensor([-0.4629,  0.1386,  0.2409, -0.2262, -0.2632, -0.3147,  0.4876,  0.3136,  0.2799, -0.4392,  0.2103,  0.3625])"
      ]
     },
     "execution_count": 19,
     "metadata": {},
     "output_type": "execute_result"
    }
   ],
   "source": [
    "torch.manual_seed(442)\n",
    "\n",
    "n_coeff = t_indep.shape[1]\n",
    "coeffs = torch.rand(n_coeff)-0.5\n",
    "coeffs"
   ]
  },
  {
   "cell_type": "markdown",
   "id": "348afb8c",
   "metadata": {
    "papermill": {
     "duration": 0.151101,
     "end_time": "2024-01-20T07:40:22.951025",
     "exception": false,
     "start_time": "2024-01-20T07:40:22.799924",
     "status": "completed"
    },
    "tags": []
   },
   "source": [
    "Our predictions will be calculated by multiplying each row by the coefficients, and adding them up. One interesting point here is that we don't need a separate constant term (also known as a \"bias\" or \"intercept\" term), or a column of all `1`s to give the same effect has having a constant term. That's because our dummy variables already cover the entire dataset -- e.g. there's a column for \"male\" and a column for \"female\", and everyone in the dataset is in exactly one of these; therefore, we don't need a separate intercept term to cover rows that aren't otherwise part of a column.\n",
    "\n",
    "Here's what the multiplication looks like:"
   ]
  },
  {
   "cell_type": "code",
   "execution_count": 20,
   "id": "06f20d01",
   "metadata": {
    "execution": {
     "iopub.execute_input": "2024-01-20T07:40:23.246194Z",
     "iopub.status.busy": "2024-01-20T07:40:23.245880Z",
     "iopub.status.idle": "2024-01-20T07:40:23.253024Z",
     "shell.execute_reply": "2024-01-20T07:40:23.252214Z"
    },
    "papermill": {
     "duration": 0.154583,
     "end_time": "2024-01-20T07:40:23.254922",
     "exception": false,
     "start_time": "2024-01-20T07:40:23.100339",
     "status": "completed"
    },
    "tags": []
   },
   "outputs": [
    {
     "data": {
      "text/plain": [
       "tensor([[-10.1838,   0.1386,   0.0000,  -0.4772,  -0.2632,  -0.0000,   0.0000,   0.0000,   0.2799,  -0.0000,   0.0000,   0.3625],\n",
       "        [-17.5902,   0.1386,   0.0000,  -0.9681,  -0.0000,  -0.3147,   0.4876,   0.0000,   0.0000,  -0.4392,   0.0000,   0.0000],\n",
       "        [-12.0354,   0.0000,   0.0000,  -0.4950,  -0.0000,  -0.3147,   0.0000,   0.0000,   0.2799,  -0.0000,   0.0000,   0.3625],\n",
       "        [-16.2015,   0.1386,   0.0000,  -0.9025,  -0.0000,  -0.3147,   0.4876,   0.0000,   0.0000,  -0.0000,   0.0000,   0.3625],\n",
       "        [-16.2015,   0.0000,   0.0000,  -0.4982,  -0.2632,  -0.0000,   0.0000,   0.0000,   0.2799,  -0.0000,   0.0000,   0.3625],\n",
       "        [-11.1096,   0.0000,   0.0000,  -0.5081,  -0.2632,  -0.0000,   0.0000,   0.0000,   0.2799,  -0.0000,   0.2103,   0.0000],\n",
       "        [-24.9966,   0.0000,   0.0000,  -0.8973,  -0.2632,  -0.0000,   0.4876,   0.0000,   0.0000,  -0.0000,   0.0000,   0.3625],\n",
       "        ...,\n",
       "        [-11.5725,   0.0000,   0.0000,  -0.4717,  -0.2632,  -0.0000,   0.0000,   0.0000,   0.2799,  -0.0000,   0.0000,   0.3625],\n",
       "        [-18.0531,   0.0000,   1.2045,  -0.7701,  -0.0000,  -0.3147,   0.0000,   0.0000,   0.2799,  -0.0000,   0.2103,   0.0000],\n",
       "        [-12.4983,   0.0000,   0.0000,  -0.5968,  -0.2632,  -0.0000,   0.0000,   0.3136,   0.0000,  -0.0000,   0.0000,   0.3625],\n",
       "        [ -8.7951,   0.0000,   0.0000,  -0.7766,  -0.0000,  -0.3147,   0.4876,   0.0000,   0.0000,  -0.0000,   0.0000,   0.3625],\n",
       "        [-11.1096,   0.1386,   0.4818,  -0.7229,  -0.0000,  -0.3147,   0.0000,   0.0000,   0.2799,  -0.0000,   0.0000,   0.3625],\n",
       "        [-12.0354,   0.0000,   0.0000,  -0.7766,  -0.2632,  -0.0000,   0.4876,   0.0000,   0.0000,  -0.4392,   0.0000,   0.0000],\n",
       "        [-14.8128,   0.0000,   0.0000,  -0.4905,  -0.2632,  -0.0000,   0.0000,   0.0000,   0.2799,  -0.0000,   0.2103,   0.0000]])"
      ]
     },
     "execution_count": 20,
     "metadata": {},
     "output_type": "execute_result"
    }
   ],
   "source": [
    "t_indep*coeffs"
   ]
  },
  {
   "cell_type": "markdown",
   "id": "a80d1ed6",
   "metadata": {
    "papermill": {
     "duration": 0.145287,
     "end_time": "2024-01-20T07:40:23.543054",
     "exception": false,
     "start_time": "2024-01-20T07:40:23.397767",
     "status": "completed"
    },
    "tags": []
   },
   "source": [
    "We can see we've got a problem here. The sums of each row will be dominated by the first column, which is `Age`, since that's bigger on average than all the others.\n",
    "\n",
    "Let's make all the columns contain numbers from `0` to `1`, by dividing each column by its `max()`:"
   ]
  },
  {
   "cell_type": "code",
   "execution_count": 21,
   "id": "f0dcc614",
   "metadata": {
    "execution": {
     "iopub.execute_input": "2024-01-20T07:40:23.825056Z",
     "iopub.status.busy": "2024-01-20T07:40:23.824711Z",
     "iopub.status.idle": "2024-01-20T07:40:23.830586Z",
     "shell.execute_reply": "2024-01-20T07:40:23.829892Z"
    },
    "papermill": {
     "duration": 0.147702,
     "end_time": "2024-01-20T07:40:23.832466",
     "exception": false,
     "start_time": "2024-01-20T07:40:23.684764",
     "status": "completed"
    },
    "tags": []
   },
   "outputs": [],
   "source": [
    "vals,indices = t_indep.max(dim=0)\n",
    "t_indep = t_indep / vals"
   ]
  },
  {
   "cell_type": "markdown",
   "id": "aea77f4a",
   "metadata": {
    "papermill": {
     "duration": 0.136992,
     "end_time": "2024-01-20T07:40:24.107567",
     "exception": false,
     "start_time": "2024-01-20T07:40:23.970575",
     "status": "completed"
    },
    "tags": []
   },
   "source": [
    "As we see, that removes the problem of one column dominating all the others:"
   ]
  },
  {
   "cell_type": "code",
   "execution_count": 22,
   "id": "0482c98b",
   "metadata": {
    "execution": {
     "iopub.execute_input": "2024-01-20T07:40:24.386398Z",
     "iopub.status.busy": "2024-01-20T07:40:24.385693Z",
     "iopub.status.idle": "2024-01-20T07:40:24.393335Z",
     "shell.execute_reply": "2024-01-20T07:40:24.392701Z"
    },
    "papermill": {
     "duration": 0.148898,
     "end_time": "2024-01-20T07:40:24.395039",
     "exception": false,
     "start_time": "2024-01-20T07:40:24.246141",
     "status": "completed"
    },
    "tags": []
   },
   "outputs": [
    {
     "data": {
      "text/plain": [
       "tensor([[-0.1273,  0.0173,  0.0000, -0.0765, -0.2632, -0.0000,  0.0000,  0.0000,  0.2799, -0.0000,  0.0000,  0.3625],\n",
       "        [-0.2199,  0.0173,  0.0000, -0.1551, -0.0000, -0.3147,  0.4876,  0.0000,  0.0000, -0.4392,  0.0000,  0.0000],\n",
       "        [-0.1504,  0.0000,  0.0000, -0.0793, -0.0000, -0.3147,  0.0000,  0.0000,  0.2799, -0.0000,  0.0000,  0.3625],\n",
       "        [-0.2025,  0.0173,  0.0000, -0.1446, -0.0000, -0.3147,  0.4876,  0.0000,  0.0000, -0.0000,  0.0000,  0.3625],\n",
       "        [-0.2025,  0.0000,  0.0000, -0.0798, -0.2632, -0.0000,  0.0000,  0.0000,  0.2799, -0.0000,  0.0000,  0.3625],\n",
       "        [-0.1389,  0.0000,  0.0000, -0.0814, -0.2632, -0.0000,  0.0000,  0.0000,  0.2799, -0.0000,  0.2103,  0.0000],\n",
       "        [-0.3125,  0.0000,  0.0000, -0.1438, -0.2632, -0.0000,  0.4876,  0.0000,  0.0000, -0.0000,  0.0000,  0.3625],\n",
       "        ...,\n",
       "        [-0.1447,  0.0000,  0.0000, -0.0756, -0.2632, -0.0000,  0.0000,  0.0000,  0.2799, -0.0000,  0.0000,  0.3625],\n",
       "        [-0.2257,  0.0000,  0.2008, -0.1234, -0.0000, -0.3147,  0.0000,  0.0000,  0.2799, -0.0000,  0.2103,  0.0000],\n",
       "        [-0.1562,  0.0000,  0.0000, -0.0956, -0.2632, -0.0000,  0.0000,  0.3136,  0.0000, -0.0000,  0.0000,  0.3625],\n",
       "        [-0.1099,  0.0000,  0.0000, -0.1244, -0.0000, -0.3147,  0.4876,  0.0000,  0.0000, -0.0000,  0.0000,  0.3625],\n",
       "        [-0.1389,  0.0173,  0.0803, -0.1158, -0.0000, -0.3147,  0.0000,  0.0000,  0.2799, -0.0000,  0.0000,  0.3625],\n",
       "        [-0.1504,  0.0000,  0.0000, -0.1244, -0.2632, -0.0000,  0.4876,  0.0000,  0.0000, -0.4392,  0.0000,  0.0000],\n",
       "        [-0.1852,  0.0000,  0.0000, -0.0786, -0.2632, -0.0000,  0.0000,  0.0000,  0.2799, -0.0000,  0.2103,  0.0000]])"
      ]
     },
     "execution_count": 22,
     "metadata": {},
     "output_type": "execute_result"
    }
   ],
   "source": [
    "t_indep*coeffs"
   ]
  },
  {
   "cell_type": "markdown",
   "id": "ee52ce83",
   "metadata": {
    "papermill": {
     "duration": 0.135969,
     "end_time": "2024-01-20T07:40:24.671107",
     "exception": false,
     "start_time": "2024-01-20T07:40:24.535138",
     "status": "completed"
    },
    "tags": []
   },
   "source": [
    "One thing you hopefully noticed is how amazingly cool this line of code is:\n",
    "\n",
    "    t_indep = t_indep / vals\n",
    "\n",
    "That is dividing a matrix by a vector -- what on earth does that mean?!? The trick here is that we're taking advantage of a technique in numpy and PyTorch (and many other languages, going all the way back to APL) called [broadcasting](https://numpy.org/doc/stable/user/basics.broadcasting.html). In short, this acts as if there's a separate copy of the vector for every row of the matrix, so it divides each row of the matrix by the vector. In practice, it doesn't actually make any copies, and does the whole thing in a highly optimized way, taking full advantage of modern CPUs (or, indeed, GPUs, if we're using them). Broadcasting is one of the most important techniques for making your code concise, maintainable, and fast, so it's well worth studying and practicing.\n",
    "\n",
    "We can now create predictions from our linear model, by adding up the rows of the product:"
   ]
  },
  {
   "cell_type": "code",
   "execution_count": 23,
   "id": "8dd5e8fc",
   "metadata": {
    "execution": {
     "iopub.execute_input": "2024-01-20T07:40:24.947757Z",
     "iopub.status.busy": "2024-01-20T07:40:24.946875Z",
     "iopub.status.idle": "2024-01-20T07:40:24.954418Z",
     "shell.execute_reply": "2024-01-20T07:40:24.953649Z"
    },
    "papermill": {
     "duration": 0.148971,
     "end_time": "2024-01-20T07:40:24.956461",
     "exception": false,
     "start_time": "2024-01-20T07:40:24.807490",
     "status": "completed"
    },
    "tags": []
   },
   "outputs": [],
   "source": [
    "preds = (t_indep*coeffs).sum(axis=1)"
   ]
  },
  {
   "cell_type": "markdown",
   "id": "a58f95d6",
   "metadata": {
    "papermill": {
     "duration": 0.13669,
     "end_time": "2024-01-20T07:40:25.232167",
     "exception": false,
     "start_time": "2024-01-20T07:40:25.095477",
     "status": "completed"
    },
    "tags": []
   },
   "source": [
    "Let's take a look at the first few:"
   ]
  },
  {
   "cell_type": "code",
   "execution_count": 24,
   "id": "420bafc5",
   "metadata": {
    "execution": {
     "iopub.execute_input": "2024-01-20T07:40:25.510900Z",
     "iopub.status.busy": "2024-01-20T07:40:25.510582Z",
     "iopub.status.idle": "2024-01-20T07:40:25.518063Z",
     "shell.execute_reply": "2024-01-20T07:40:25.517422Z"
    },
    "papermill": {
     "duration": 0.1491,
     "end_time": "2024-01-20T07:40:25.519812",
     "exception": false,
     "start_time": "2024-01-20T07:40:25.370712",
     "status": "completed"
    },
    "tags": []
   },
   "outputs": [
    {
     "data": {
      "text/plain": [
       "tensor([ 0.1927, -0.6239,  0.0979,  0.2056,  0.0968,  0.0066,  0.1306,  0.3476,  0.1613, -0.6285])"
      ]
     },
     "execution_count": 24,
     "metadata": {},
     "output_type": "execute_result"
    }
   ],
   "source": [
    "preds[:10]"
   ]
  },
  {
   "cell_type": "markdown",
   "id": "4d757991",
   "metadata": {
    "papermill": {
     "duration": 0.136422,
     "end_time": "2024-01-20T07:40:25.793614",
     "exception": false,
     "start_time": "2024-01-20T07:40:25.657192",
     "status": "completed"
    },
    "tags": []
   },
   "source": [
    "Of course, these predictions aren't going to be any use, since our coefficients are random -- they're just a starting point for our gradient descent process.\n",
    "\n",
    "To do gradient descent, we need a loss function. Taking the average error of the rows (i.e. the absolute value of the difference between the prediction and the dependent) is generally a reasonable approach:"
   ]
  },
  {
   "cell_type": "code",
   "execution_count": 25,
   "id": "ad69b13a",
   "metadata": {
    "execution": {
     "iopub.execute_input": "2024-01-20T07:40:26.068318Z",
     "iopub.status.busy": "2024-01-20T07:40:26.067904Z",
     "iopub.status.idle": "2024-01-20T07:40:26.078476Z",
     "shell.execute_reply": "2024-01-20T07:40:26.077770Z"
    },
    "papermill": {
     "duration": 0.149982,
     "end_time": "2024-01-20T07:40:26.080336",
     "exception": false,
     "start_time": "2024-01-20T07:40:25.930354",
     "status": "completed"
    },
    "tags": []
   },
   "outputs": [
    {
     "data": {
      "text/plain": [
       "tensor(0.5382)"
      ]
     },
     "execution_count": 25,
     "metadata": {},
     "output_type": "execute_result"
    }
   ],
   "source": [
    "loss = torch.abs(preds-t_dep).mean()\n",
    "loss"
   ]
  },
  {
   "cell_type": "markdown",
   "id": "65ce280c",
   "metadata": {
    "papermill": {
     "duration": 0.137343,
     "end_time": "2024-01-20T07:40:26.354646",
     "exception": false,
     "start_time": "2024-01-20T07:40:26.217303",
     "status": "completed"
    },
    "tags": []
   },
   "source": [
    "Now that we've tested out a way of calculating predictions, and loss, let's pop them into functions to make life easier:"
   ]
  },
  {
   "cell_type": "code",
   "execution_count": 26,
   "id": "faccdb7d",
   "metadata": {
    "execution": {
     "iopub.execute_input": "2024-01-20T07:40:26.632397Z",
     "iopub.status.busy": "2024-01-20T07:40:26.631692Z",
     "iopub.status.idle": "2024-01-20T07:40:26.636844Z",
     "shell.execute_reply": "2024-01-20T07:40:26.636132Z"
    },
    "papermill": {
     "duration": 0.146395,
     "end_time": "2024-01-20T07:40:26.638610",
     "exception": false,
     "start_time": "2024-01-20T07:40:26.492215",
     "status": "completed"
    },
    "tags": []
   },
   "outputs": [],
   "source": [
    "def calc_preds(coeffs, indeps): return (indeps*coeffs).sum(axis=1)\n",
    "def calc_loss(coeffs, indeps, deps): return torch.abs(calc_preds(coeffs, indeps)-deps).mean()"
   ]
  },
  {
   "cell_type": "markdown",
   "id": "0733e43c",
   "metadata": {
    "papermill": {
     "duration": 0.13721,
     "end_time": "2024-01-20T07:40:26.912797",
     "exception": false,
     "start_time": "2024-01-20T07:40:26.775587",
     "status": "completed"
    },
    "tags": []
   },
   "source": [
    "## Doing a gradient descent step"
   ]
  },
  {
   "cell_type": "markdown",
   "id": "bc34fc65",
   "metadata": {
    "papermill": {
     "duration": 0.136213,
     "end_time": "2024-01-20T07:40:27.185513",
     "exception": false,
     "start_time": "2024-01-20T07:40:27.049300",
     "status": "completed"
    },
    "tags": []
   },
   "source": [
    "In this section, we're going to do a single \"epoch\" of gradient descent manually. The only thing we're going to automate is calculating gradients, because let's face it that's pretty tedious and entirely pointless to do by hand! To get PyTorch to calculate gradients, we'll need to call `requires_grad_()` on our `coeffs` (if you're not sure why, review the previous notebook, [How does a neural net really work?](https://www.kaggle.com/code/jhoward/how-does-a-neural-net-really-work), before continuing):"
   ]
  },
  {
   "cell_type": "code",
   "execution_count": 27,
   "id": "aaf6aa2a",
   "metadata": {
    "execution": {
     "iopub.execute_input": "2024-01-20T07:40:27.462549Z",
     "iopub.status.busy": "2024-01-20T07:40:27.461821Z",
     "iopub.status.idle": "2024-01-20T07:40:27.467698Z",
     "shell.execute_reply": "2024-01-20T07:40:27.467032Z"
    },
    "papermill": {
     "duration": 0.146638,
     "end_time": "2024-01-20T07:40:27.469468",
     "exception": false,
     "start_time": "2024-01-20T07:40:27.322830",
     "status": "completed"
    },
    "tags": []
   },
   "outputs": [
    {
     "data": {
      "text/plain": [
       "tensor([-0.4629,  0.1386,  0.2409, -0.2262, -0.2632, -0.3147,  0.4876,  0.3136,  0.2799, -0.4392,  0.2103,  0.3625], requires_grad=True)"
      ]
     },
     "execution_count": 27,
     "metadata": {},
     "output_type": "execute_result"
    }
   ],
   "source": [
    "coeffs.requires_grad_()"
   ]
  },
  {
   "cell_type": "markdown",
   "id": "f47c744d",
   "metadata": {
    "papermill": {
     "duration": 0.137376,
     "end_time": "2024-01-20T07:40:27.745795",
     "exception": false,
     "start_time": "2024-01-20T07:40:27.608419",
     "status": "completed"
    },
    "tags": []
   },
   "source": [
    "Now when we calculate our loss, PyTorch will keep track of all the steps, so we'll be able to get the gradients afterwards:"
   ]
  },
  {
   "cell_type": "code",
   "execution_count": 28,
   "id": "cca11c98",
   "metadata": {
    "execution": {
     "iopub.execute_input": "2024-01-20T07:40:28.022908Z",
     "iopub.status.busy": "2024-01-20T07:40:28.022258Z",
     "iopub.status.idle": "2024-01-20T07:40:28.030175Z",
     "shell.execute_reply": "2024-01-20T07:40:28.029460Z"
    },
    "papermill": {
     "duration": 0.147888,
     "end_time": "2024-01-20T07:40:28.032073",
     "exception": false,
     "start_time": "2024-01-20T07:40:27.884185",
     "status": "completed"
    },
    "tags": []
   },
   "outputs": [
    {
     "data": {
      "text/plain": [
       "tensor(0.5382, grad_fn=<MeanBackward0>)"
      ]
     },
     "execution_count": 28,
     "metadata": {},
     "output_type": "execute_result"
    }
   ],
   "source": [
    "loss = calc_loss(coeffs, t_indep, t_dep)\n",
    "loss"
   ]
  },
  {
   "cell_type": "markdown",
   "id": "8e9ca3c5",
   "metadata": {
    "papermill": {
     "duration": 0.137877,
     "end_time": "2024-01-20T07:40:28.308097",
     "exception": false,
     "start_time": "2024-01-20T07:40:28.170220",
     "status": "completed"
    },
    "tags": []
   },
   "source": [
    "Use `backward()` to ask PyTorch to calculate gradients now:"
   ]
  },
  {
   "cell_type": "code",
   "execution_count": 29,
   "id": "f0e1ba2e",
   "metadata": {
    "execution": {
     "iopub.execute_input": "2024-01-20T07:40:28.587921Z",
     "iopub.status.busy": "2024-01-20T07:40:28.587226Z",
     "iopub.status.idle": "2024-01-20T07:40:28.630677Z",
     "shell.execute_reply": "2024-01-20T07:40:28.630100Z"
    },
    "papermill": {
     "duration": 0.186144,
     "end_time": "2024-01-20T07:40:28.632580",
     "exception": false,
     "start_time": "2024-01-20T07:40:28.446436",
     "status": "completed"
    },
    "tags": []
   },
   "outputs": [],
   "source": [
    "loss.backward()"
   ]
  },
  {
   "cell_type": "markdown",
   "id": "21827ca9",
   "metadata": {
    "papermill": {
     "duration": 0.138053,
     "end_time": "2024-01-20T07:40:28.908757",
     "exception": false,
     "start_time": "2024-01-20T07:40:28.770704",
     "status": "completed"
    },
    "tags": []
   },
   "source": [
    "Let's see what they look like:"
   ]
  },
  {
   "cell_type": "code",
   "execution_count": 30,
   "id": "4b966a56",
   "metadata": {
    "execution": {
     "iopub.execute_input": "2024-01-20T07:40:29.187519Z",
     "iopub.status.busy": "2024-01-20T07:40:29.187261Z",
     "iopub.status.idle": "2024-01-20T07:40:29.193579Z",
     "shell.execute_reply": "2024-01-20T07:40:29.192900Z"
    },
    "papermill": {
     "duration": 0.1474,
     "end_time": "2024-01-20T07:40:29.195259",
     "exception": false,
     "start_time": "2024-01-20T07:40:29.047859",
     "status": "completed"
    },
    "tags": []
   },
   "outputs": [
    {
     "data": {
      "text/plain": [
       "tensor([-0.0106,  0.0129, -0.0041, -0.0484,  0.2099, -0.2132, -0.1212, -0.0247,  0.1425, -0.1886, -0.0191,  0.2043])"
      ]
     },
     "execution_count": 30,
     "metadata": {},
     "output_type": "execute_result"
    }
   ],
   "source": [
    "coeffs.grad"
   ]
  },
  {
   "cell_type": "markdown",
   "id": "29b257cf",
   "metadata": {
    "papermill": {
     "duration": 0.138826,
     "end_time": "2024-01-20T07:40:29.473208",
     "exception": false,
     "start_time": "2024-01-20T07:40:29.334382",
     "status": "completed"
    },
    "tags": []
   },
   "source": [
    "Note that each time we call `backward`, the gradients are actually *added* to whatever is in the `.grad` attribute. Let's try running the above steps again:"
   ]
  },
  {
   "cell_type": "code",
   "execution_count": 31,
   "id": "37d57d52",
   "metadata": {
    "execution": {
     "iopub.execute_input": "2024-01-20T07:40:29.754207Z",
     "iopub.status.busy": "2024-01-20T07:40:29.753596Z",
     "iopub.status.idle": "2024-01-20T07:40:29.762074Z",
     "shell.execute_reply": "2024-01-20T07:40:29.761366Z"
    },
    "papermill": {
     "duration": 0.15044,
     "end_time": "2024-01-20T07:40:29.763898",
     "exception": false,
     "start_time": "2024-01-20T07:40:29.613458",
     "status": "completed"
    },
    "tags": []
   },
   "outputs": [
    {
     "data": {
      "text/plain": [
       "tensor([-0.0212,  0.0258, -0.0082, -0.0969,  0.4198, -0.4265, -0.2424, -0.0494,  0.2851, -0.3771, -0.0382,  0.4085])"
      ]
     },
     "execution_count": 31,
     "metadata": {},
     "output_type": "execute_result"
    }
   ],
   "source": [
    "loss = calc_loss(coeffs, t_indep, t_dep)\n",
    "loss.backward()\n",
    "coeffs.grad"
   ]
  },
  {
   "cell_type": "markdown",
   "id": "eebaeb41",
   "metadata": {
    "papermill": {
     "duration": 0.137955,
     "end_time": "2024-01-20T07:40:30.041174",
     "exception": false,
     "start_time": "2024-01-20T07:40:29.903219",
     "status": "completed"
    },
    "tags": []
   },
   "source": [
    "As you see, our `.grad` values are have doubled. That's because it added the gradients a second time. For this reason, after we use the gradients to do a gradient descent step, we need to set them back to zero.\n",
    "\n",
    "We can now do one gradient descent step, and check that our loss decreases:"
   ]
  },
  {
   "cell_type": "code",
   "execution_count": 32,
   "id": "88007a96",
   "metadata": {
    "execution": {
     "iopub.execute_input": "2024-01-20T07:40:30.319554Z",
     "iopub.status.busy": "2024-01-20T07:40:30.318777Z",
     "iopub.status.idle": "2024-01-20T07:40:30.332158Z",
     "shell.execute_reply": "2024-01-20T07:40:30.331379Z"
    },
    "papermill": {
     "duration": 0.154745,
     "end_time": "2024-01-20T07:40:30.333930",
     "exception": false,
     "start_time": "2024-01-20T07:40:30.179185",
     "status": "completed"
    },
    "tags": []
   },
   "outputs": [
    {
     "name": "stdout",
     "output_type": "stream",
     "text": [
      "tensor(0.4945)\n"
     ]
    }
   ],
   "source": [
    "loss = calc_loss(coeffs, t_indep, t_dep)\n",
    "loss.backward()\n",
    "with torch.no_grad():\n",
    "    coeffs.sub_(coeffs.grad * 0.1)\n",
    "    coeffs.grad.zero_()\n",
    "    print(calc_loss(coeffs, t_indep, t_dep))"
   ]
  },
  {
   "cell_type": "markdown",
   "id": "095b6dae",
   "metadata": {
    "papermill": {
     "duration": 0.154817,
     "end_time": "2024-01-20T07:40:30.634829",
     "exception": false,
     "start_time": "2024-01-20T07:40:30.480012",
     "status": "completed"
    },
    "tags": []
   },
   "source": [
    "Note that `a.sub_(b)` subtracts `b` from `a` in-place. In PyTorch, any method that ends in `_` changes its object in-place. Similarly, `a.zero_()` sets all elements of a tensor to zero."
   ]
  },
  {
   "cell_type": "markdown",
   "id": "99e83aea",
   "metadata": {
    "papermill": {
     "duration": 0.140621,
     "end_time": "2024-01-20T07:40:30.915446",
     "exception": false,
     "start_time": "2024-01-20T07:40:30.774825",
     "status": "completed"
    },
    "tags": []
   },
   "source": [
    "## Training the linear model"
   ]
  },
  {
   "cell_type": "markdown",
   "id": "ba1d5861",
   "metadata": {
    "papermill": {
     "duration": 0.138818,
     "end_time": "2024-01-20T07:40:31.193015",
     "exception": false,
     "start_time": "2024-01-20T07:40:31.054197",
     "status": "completed"
    },
    "tags": []
   },
   "source": [
    "Before we begin training our model, we'll need to ensure that we hold out a validation set for calculating our metrics (for details on this, see \"[Getting started with NLP for absolute beginners](https://www.kaggle.com/code/jhoward/getting-started-with-nlp-for-absolute-beginners#Test-and-validation-sets)\".\n",
    "\n",
    "There's lots of different ways we can do this. In the next notebook we'll be comparing our approach here to what the fastai library does, so we'll want to ensure we split the data in the same way. So let's use `RandomSplitter` to get indices that will split our data into training and validation sets:"
   ]
  },
  {
   "cell_type": "code",
   "execution_count": 33,
   "id": "b655f1d7",
   "metadata": {
    "execution": {
     "iopub.execute_input": "2024-01-20T07:40:31.473477Z",
     "iopub.status.busy": "2024-01-20T07:40:31.473074Z",
     "iopub.status.idle": "2024-01-20T07:40:32.432829Z",
     "shell.execute_reply": "2024-01-20T07:40:32.432233Z"
    },
    "papermill": {
     "duration": 1.102627,
     "end_time": "2024-01-20T07:40:32.434947",
     "exception": false,
     "start_time": "2024-01-20T07:40:31.332320",
     "status": "completed"
    },
    "tags": []
   },
   "outputs": [],
   "source": [
    "from fastai.data.transforms import RandomSplitter\n",
    "trn_split,val_split=RandomSplitter(seed=42)(df)"
   ]
  },
  {
   "cell_type": "markdown",
   "id": "4b2ef62a",
   "metadata": {
    "papermill": {
     "duration": 0.14067,
     "end_time": "2024-01-20T07:40:32.717592",
     "exception": false,
     "start_time": "2024-01-20T07:40:32.576922",
     "status": "completed"
    },
    "tags": []
   },
   "source": [
    "Now we can apply those indicies to our independent and dependent variables:"
   ]
  },
  {
   "cell_type": "code",
   "execution_count": 34,
   "id": "f7a0a0dc",
   "metadata": {
    "execution": {
     "iopub.execute_input": "2024-01-20T07:40:33.000642Z",
     "iopub.status.busy": "2024-01-20T07:40:32.999901Z",
     "iopub.status.idle": "2024-01-20T07:40:33.011948Z",
     "shell.execute_reply": "2024-01-20T07:40:33.011300Z"
    },
    "papermill": {
     "duration": 0.154856,
     "end_time": "2024-01-20T07:40:33.013690",
     "exception": false,
     "start_time": "2024-01-20T07:40:32.858834",
     "status": "completed"
    },
    "tags": []
   },
   "outputs": [
    {
     "data": {
      "text/plain": [
       "(713, 178)"
      ]
     },
     "execution_count": 34,
     "metadata": {},
     "output_type": "execute_result"
    }
   ],
   "source": [
    "trn_indep,val_indep = t_indep[trn_split],t_indep[val_split]\n",
    "trn_dep,val_dep = t_dep[trn_split],t_dep[val_split]\n",
    "len(trn_indep),len(val_indep)"
   ]
  },
  {
   "cell_type": "markdown",
   "id": "4f7bbb28",
   "metadata": {
    "papermill": {
     "duration": 0.139157,
     "end_time": "2024-01-20T07:40:33.292784",
     "exception": false,
     "start_time": "2024-01-20T07:40:33.153627",
     "status": "completed"
    },
    "tags": []
   },
   "source": [
    "We'll create functions for the three things we did manually above: updating `coeffs`, doing one full gradient descent step, and initilising `coeffs` to random numbers:"
   ]
  },
  {
   "cell_type": "code",
   "execution_count": 35,
   "id": "bca1620d",
   "metadata": {
    "execution": {
     "iopub.execute_input": "2024-01-20T07:40:33.577227Z",
     "iopub.status.busy": "2024-01-20T07:40:33.576520Z",
     "iopub.status.idle": "2024-01-20T07:40:33.580701Z",
     "shell.execute_reply": "2024-01-20T07:40:33.580006Z"
    },
    "papermill": {
     "duration": 0.149215,
     "end_time": "2024-01-20T07:40:33.582374",
     "exception": false,
     "start_time": "2024-01-20T07:40:33.433159",
     "status": "completed"
    },
    "tags": []
   },
   "outputs": [],
   "source": [
    "def update_coeffs(coeffs, lr):\n",
    "    coeffs.sub_(coeffs.grad * lr)\n",
    "    coeffs.grad.zero_()"
   ]
  },
  {
   "cell_type": "code",
   "execution_count": 36,
   "id": "79d54fdf",
   "metadata": {
    "execution": {
     "iopub.execute_input": "2024-01-20T07:40:33.864458Z",
     "iopub.status.busy": "2024-01-20T07:40:33.864242Z",
     "iopub.status.idle": "2024-01-20T07:40:33.868811Z",
     "shell.execute_reply": "2024-01-20T07:40:33.868125Z"
    },
    "papermill": {
     "duration": 0.147277,
     "end_time": "2024-01-20T07:40:33.870944",
     "exception": false,
     "start_time": "2024-01-20T07:40:33.723667",
     "status": "completed"
    },
    "tags": []
   },
   "outputs": [],
   "source": [
    "def one_epoch(coeffs, lr):\n",
    "    loss = calc_loss(coeffs, trn_indep, trn_dep)\n",
    "    loss.backward()\n",
    "    with torch.no_grad(): update_coeffs(coeffs, lr)\n",
    "    print(f\"{loss:.3f}\", end=\"; \")"
   ]
  },
  {
   "cell_type": "code",
   "execution_count": 37,
   "id": "b7ed5b61",
   "metadata": {
    "execution": {
     "iopub.execute_input": "2024-01-20T07:40:34.155601Z",
     "iopub.status.busy": "2024-01-20T07:40:34.154833Z",
     "iopub.status.idle": "2024-01-20T07:40:34.159330Z",
     "shell.execute_reply": "2024-01-20T07:40:34.158557Z"
    },
    "papermill": {
     "duration": 0.148663,
     "end_time": "2024-01-20T07:40:34.161152",
     "exception": false,
     "start_time": "2024-01-20T07:40:34.012489",
     "status": "completed"
    },
    "tags": []
   },
   "outputs": [],
   "source": [
    "def init_coeffs(): return (torch.rand(n_coeff)-0.5).requires_grad_()"
   ]
  },
  {
   "cell_type": "markdown",
   "id": "57130bd8",
   "metadata": {
    "papermill": {
     "duration": 0.140564,
     "end_time": "2024-01-20T07:40:34.442835",
     "exception": false,
     "start_time": "2024-01-20T07:40:34.302271",
     "status": "completed"
    },
    "tags": []
   },
   "source": [
    "We can now use these functions to train our model:"
   ]
  },
  {
   "cell_type": "code",
   "execution_count": 38,
   "id": "dfcf29be",
   "metadata": {
    "execution": {
     "iopub.execute_input": "2024-01-20T07:40:34.724404Z",
     "iopub.status.busy": "2024-01-20T07:40:34.723786Z",
     "iopub.status.idle": "2024-01-20T07:40:34.728677Z",
     "shell.execute_reply": "2024-01-20T07:40:34.727912Z"
    },
    "papermill": {
     "duration": 0.146795,
     "end_time": "2024-01-20T07:40:34.730501",
     "exception": false,
     "start_time": "2024-01-20T07:40:34.583706",
     "status": "completed"
    },
    "tags": []
   },
   "outputs": [],
   "source": [
    "def train_model(epochs=30, lr=0.01):\n",
    "    torch.manual_seed(442)\n",
    "    coeffs = init_coeffs()\n",
    "    for i in range(epochs): one_epoch(coeffs, lr=lr)\n",
    "    return coeffs"
   ]
  },
  {
   "cell_type": "markdown",
   "id": "83684886",
   "metadata": {
    "papermill": {
     "duration": 0.139205,
     "end_time": "2024-01-20T07:40:35.011198",
     "exception": false,
     "start_time": "2024-01-20T07:40:34.871993",
     "status": "completed"
    },
    "tags": []
   },
   "source": [
    "Let's try it. Our loss will print at the end of every step, so we hope we'll see it going down:"
   ]
  },
  {
   "cell_type": "code",
   "execution_count": 39,
   "id": "2d3e33d7",
   "metadata": {
    "execution": {
     "iopub.execute_input": "2024-01-20T07:40:35.293218Z",
     "iopub.status.busy": "2024-01-20T07:40:35.292939Z",
     "iopub.status.idle": "2024-01-20T07:40:35.304519Z",
     "shell.execute_reply": "2024-01-20T07:40:35.303744Z"
    },
    "papermill": {
     "duration": 0.155327,
     "end_time": "2024-01-20T07:40:35.306410",
     "exception": false,
     "start_time": "2024-01-20T07:40:35.151083",
     "status": "completed"
    },
    "tags": []
   },
   "outputs": [
    {
     "name": "stdout",
     "output_type": "stream",
     "text": [
      "0.536; 0.502; 0.477; 0.454; 0.431; 0.409; 0.388; 0.367; 0.349; 0.336; 0.330; 0.326; 0.329; 0.304; 0.314; 0.296; 0.300; 0.289; "
     ]
    }
   ],
   "source": [
    "coeffs = train_model(18, lr=0.2)"
   ]
  },
  {
   "cell_type": "markdown",
   "id": "75f2a6f9",
   "metadata": {
    "papermill": {
     "duration": 0.141612,
     "end_time": "2024-01-20T07:40:35.589220",
     "exception": false,
     "start_time": "2024-01-20T07:40:35.447608",
     "status": "completed"
    },
    "tags": []
   },
   "source": [
    "It does!\n",
    "\n",
    "Let's take a look at the coefficients for each column:"
   ]
  },
  {
   "cell_type": "code",
   "execution_count": 40,
   "id": "7fca3b91",
   "metadata": {
    "execution": {
     "iopub.execute_input": "2024-01-20T07:40:35.875180Z",
     "iopub.status.busy": "2024-01-20T07:40:35.874513Z",
     "iopub.status.idle": "2024-01-20T07:40:35.883886Z",
     "shell.execute_reply": "2024-01-20T07:40:35.883207Z"
    },
    "papermill": {
     "duration": 0.155182,
     "end_time": "2024-01-20T07:40:35.885735",
     "exception": false,
     "start_time": "2024-01-20T07:40:35.730553",
     "status": "completed"
    },
    "tags": []
   },
   "outputs": [
    {
     "data": {
      "text/plain": [
       "{'Age': tensor(-0.2694),\n",
       " 'SibSp': tensor(0.0901),\n",
       " 'Parch': tensor(0.2359),\n",
       " 'LogFare': tensor(0.0280),\n",
       " 'Sex_male': tensor(-0.3990),\n",
       " 'Sex_female': tensor(0.2345),\n",
       " 'Pclass_1': tensor(0.7232),\n",
       " 'Pclass_2': tensor(0.4112),\n",
       " 'Pclass_3': tensor(0.3601),\n",
       " 'Embarked_C': tensor(0.0955),\n",
       " 'Embarked_Q': tensor(0.2395),\n",
       " 'Embarked_S': tensor(0.2122)}"
      ]
     },
     "execution_count": 40,
     "metadata": {},
     "output_type": "execute_result"
    }
   ],
   "source": [
    "def show_coeffs(): return dict(zip(indep_cols, coeffs.requires_grad_(False)))\n",
    "show_coeffs()"
   ]
  },
  {
   "cell_type": "markdown",
   "id": "741e99b8",
   "metadata": {
    "papermill": {
     "duration": 0.140355,
     "end_time": "2024-01-20T07:40:36.167156",
     "exception": false,
     "start_time": "2024-01-20T07:40:36.026801",
     "status": "completed"
    },
    "tags": []
   },
   "source": [
    "## Measuring accuracy"
   ]
  },
  {
   "cell_type": "markdown",
   "id": "fa7081fd",
   "metadata": {
    "papermill": {
     "duration": 0.141323,
     "end_time": "2024-01-20T07:40:36.448873",
     "exception": false,
     "start_time": "2024-01-20T07:40:36.307550",
     "status": "completed"
    },
    "tags": []
   },
   "source": [
    "The Kaggle competition is not, however, scored by absolute error (which is our loss function). It's scored by *accuracy* -- the proportion of rows where we correctly predict survival. Let's see how accurate we were on the validation set. First, calculate the predictions:"
   ]
  },
  {
   "cell_type": "code",
   "execution_count": 41,
   "id": "f1b47e85",
   "metadata": {
    "execution": {
     "iopub.execute_input": "2024-01-20T07:40:36.734553Z",
     "iopub.status.busy": "2024-01-20T07:40:36.733839Z",
     "iopub.status.idle": "2024-01-20T07:40:36.737835Z",
     "shell.execute_reply": "2024-01-20T07:40:36.737202Z"
    },
    "papermill": {
     "duration": 0.147956,
     "end_time": "2024-01-20T07:40:36.739509",
     "exception": false,
     "start_time": "2024-01-20T07:40:36.591553",
     "status": "completed"
    },
    "tags": []
   },
   "outputs": [],
   "source": [
    "preds = calc_preds(coeffs, val_indep)"
   ]
  },
  {
   "cell_type": "markdown",
   "id": "969e83ed",
   "metadata": {
    "papermill": {
     "duration": 0.140628,
     "end_time": "2024-01-20T07:40:37.073597",
     "exception": false,
     "start_time": "2024-01-20T07:40:36.932969",
     "status": "completed"
    },
    "tags": []
   },
   "source": [
    "We'll assume that any passenger with a score of over `0.5` is predicted to survive. So that means we're correct for each row where `preds>0.5` is the same as the dependent variable:"
   ]
  },
  {
   "cell_type": "code",
   "execution_count": 42,
   "id": "5068cadf",
   "metadata": {
    "execution": {
     "iopub.execute_input": "2024-01-20T07:40:37.355025Z",
     "iopub.status.busy": "2024-01-20T07:40:37.354726Z",
     "iopub.status.idle": "2024-01-20T07:40:37.360615Z",
     "shell.execute_reply": "2024-01-20T07:40:37.359942Z"
    },
    "papermill": {
     "duration": 0.148755,
     "end_time": "2024-01-20T07:40:37.362420",
     "exception": false,
     "start_time": "2024-01-20T07:40:37.213665",
     "status": "completed"
    },
    "tags": []
   },
   "outputs": [
    {
     "data": {
      "text/plain": [
       "tensor([ True,  True,  True,  True,  True,  True,  True,  True,  True,  True, False, False, False,  True,  True, False])"
      ]
     },
     "execution_count": 42,
     "metadata": {},
     "output_type": "execute_result"
    }
   ],
   "source": [
    "results = val_dep.bool()==(preds>0.5)\n",
    "results[:16]"
   ]
  },
  {
   "cell_type": "markdown",
   "id": "970ff411",
   "metadata": {
    "papermill": {
     "duration": 0.142611,
     "end_time": "2024-01-20T07:40:37.646645",
     "exception": false,
     "start_time": "2024-01-20T07:40:37.504034",
     "status": "completed"
    },
    "tags": []
   },
   "source": [
    "Let's see what our average accuracy is:"
   ]
  },
  {
   "cell_type": "code",
   "execution_count": 43,
   "id": "9cd39e1c",
   "metadata": {
    "execution": {
     "iopub.execute_input": "2024-01-20T07:40:37.933316Z",
     "iopub.status.busy": "2024-01-20T07:40:37.932624Z",
     "iopub.status.idle": "2024-01-20T07:40:37.939455Z",
     "shell.execute_reply": "2024-01-20T07:40:37.938797Z"
    },
    "papermill": {
     "duration": 0.152499,
     "end_time": "2024-01-20T07:40:37.941190",
     "exception": false,
     "start_time": "2024-01-20T07:40:37.788691",
     "status": "completed"
    },
    "tags": []
   },
   "outputs": [
    {
     "data": {
      "text/plain": [
       "tensor(0.7865)"
      ]
     },
     "execution_count": 43,
     "metadata": {},
     "output_type": "execute_result"
    }
   ],
   "source": [
    "results.float().mean()"
   ]
  },
  {
   "cell_type": "markdown",
   "id": "cab91860",
   "metadata": {
    "papermill": {
     "duration": 0.140964,
     "end_time": "2024-01-20T07:40:38.225115",
     "exception": false,
     "start_time": "2024-01-20T07:40:38.084151",
     "status": "completed"
    },
    "tags": []
   },
   "source": [
    "That's not a bad start at all! We'll create a function so we can calcuate the accuracy easy for other models we train:"
   ]
  },
  {
   "cell_type": "code",
   "execution_count": 44,
   "id": "1bec4aa5",
   "metadata": {
    "execution": {
     "iopub.execute_input": "2024-01-20T07:40:38.509914Z",
     "iopub.status.busy": "2024-01-20T07:40:38.509664Z",
     "iopub.status.idle": "2024-01-20T07:40:38.517163Z",
     "shell.execute_reply": "2024-01-20T07:40:38.516402Z"
    },
    "papermill": {
     "duration": 0.15298,
     "end_time": "2024-01-20T07:40:38.519089",
     "exception": false,
     "start_time": "2024-01-20T07:40:38.366109",
     "status": "completed"
    },
    "tags": []
   },
   "outputs": [
    {
     "data": {
      "text/plain": [
       "tensor(0.7865)"
      ]
     },
     "execution_count": 44,
     "metadata": {},
     "output_type": "execute_result"
    }
   ],
   "source": [
    "def acc(coeffs): return (val_dep.bool()==(calc_preds(coeffs, val_indep)>0.5)).float().mean()\n",
    "acc(coeffs)"
   ]
  },
  {
   "cell_type": "markdown",
   "id": "11f4d847",
   "metadata": {
    "papermill": {
     "duration": 0.152916,
     "end_time": "2024-01-20T07:40:38.832579",
     "exception": false,
     "start_time": "2024-01-20T07:40:38.679663",
     "status": "completed"
    },
    "tags": []
   },
   "source": [
    "## Using sigmoid"
   ]
  },
  {
   "cell_type": "markdown",
   "id": "421369b7",
   "metadata": {
    "papermill": {
     "duration": 0.143913,
     "end_time": "2024-01-20T07:40:39.133809",
     "exception": false,
     "start_time": "2024-01-20T07:40:38.989896",
     "status": "completed"
    },
    "tags": []
   },
   "source": [
    "Looking at our predictions, there's one obvious problem -- some of our predictions of the probability of survival are `>1`, and some are `<0`:"
   ]
  },
  {
   "cell_type": "code",
   "execution_count": 45,
   "id": "c4938565",
   "metadata": {
    "execution": {
     "iopub.execute_input": "2024-01-20T07:40:39.422484Z",
     "iopub.status.busy": "2024-01-20T07:40:39.421880Z",
     "iopub.status.idle": "2024-01-20T07:40:39.428474Z",
     "shell.execute_reply": "2024-01-20T07:40:39.427707Z"
    },
    "papermill": {
     "duration": 0.15316,
     "end_time": "2024-01-20T07:40:39.430315",
     "exception": false,
     "start_time": "2024-01-20T07:40:39.277155",
     "status": "completed"
    },
    "tags": []
   },
   "outputs": [
    {
     "data": {
      "text/plain": [
       "tensor([ 0.8160,  0.1295, -0.0148,  0.1831,  0.1520,  0.1350,  0.7279,  0.7754,  0.3222,  0.6740,  0.0753,  0.0389,  0.2216,  0.7631,\n",
       "         0.0678,  0.3997,  0.3324,  0.8278,  0.1078,  0.7126,  0.1023,  0.3627,  0.9937,  0.8050,  0.1153,  0.1455,  0.8652,  0.3425])"
      ]
     },
     "execution_count": 45,
     "metadata": {},
     "output_type": "execute_result"
    }
   ],
   "source": [
    "preds[:28]"
   ]
  },
  {
   "cell_type": "markdown",
   "id": "9215018c",
   "metadata": {
    "papermill": {
     "duration": 0.144145,
     "end_time": "2024-01-20T07:40:39.721540",
     "exception": false,
     "start_time": "2024-01-20T07:40:39.577395",
     "status": "completed"
    },
    "tags": []
   },
   "source": [
    "To fix this, we should pass every prediction through the *sigmoid function*, which has a minimum at zero and maximum at one, and is defined as follows:"
   ]
  },
  {
   "cell_type": "code",
   "execution_count": 46,
   "id": "43157ca1",
   "metadata": {
    "execution": {
     "iopub.execute_input": "2024-01-20T07:40:40.010938Z",
     "iopub.status.busy": "2024-01-20T07:40:40.010338Z",
     "iopub.status.idle": "2024-01-20T07:40:40.976648Z",
     "shell.execute_reply": "2024-01-20T07:40:40.975886Z"
    },
    "papermill": {
     "duration": 1.113925,
     "end_time": "2024-01-20T07:40:40.978720",
     "exception": false,
     "start_time": "2024-01-20T07:40:39.864795",
     "status": "completed"
    },
    "tags": []
   },
   "outputs": [
    {
     "data": {
      "image/png": "[encoded data removed]",
      "text/plain": [
       "<Figure size 432x288 with 1 Axes>"
      ]
     },
     "metadata": {
      "needs_background": "light"
     },
     "output_type": "display_data"
    }
   ],
   "source": [
    "import sympy\n",
    "sympy.plot(\"1/(1+exp(-x))\", xlim=(-5,5));"
   ]
  },
  {
   "cell_type": "markdown",
   "id": "009978de",
   "metadata": {
    "papermill": {
     "duration": 0.144012,
     "end_time": "2024-01-20T07:40:41.266126",
     "exception": false,
     "start_time": "2024-01-20T07:40:41.122114",
     "status": "completed"
    },
    "tags": []
   },
   "source": [
    "PyTorch already defines that function for us, so we can modify `calc_preds` to use it:"
   ]
  },
  {
   "cell_type": "code",
   "execution_count": 47,
   "id": "55793338",
   "metadata": {
    "execution": {
     "iopub.execute_input": "2024-01-20T07:40:41.556861Z",
     "iopub.status.busy": "2024-01-20T07:40:41.556565Z",
     "iopub.status.idle": "2024-01-20T07:40:41.560785Z",
     "shell.execute_reply": "2024-01-20T07:40:41.560093Z"
    },
    "papermill": {
     "duration": 0.152987,
     "end_time": "2024-01-20T07:40:41.562511",
     "exception": false,
     "start_time": "2024-01-20T07:40:41.409524",
     "status": "completed"
    },
    "tags": []
   },
   "outputs": [],
   "source": [
    "def calc_preds(coeffs, indeps): return torch.sigmoid((indeps*coeffs).sum(axis=1))"
   ]
  },
  {
   "cell_type": "markdown",
   "id": "251e267a",
   "metadata": {
    "papermill": {
     "duration": 0.143242,
     "end_time": "2024-01-20T07:40:41.849942",
     "exception": false,
     "start_time": "2024-01-20T07:40:41.706700",
     "status": "completed"
    },
    "tags": []
   },
   "source": [
    "Let's train a new model now, using this updated function to calculate predictions:"
   ]
  },
  {
   "cell_type": "code",
   "execution_count": 48,
   "id": "fc1ad733",
   "metadata": {
    "execution": {
     "iopub.execute_input": "2024-01-20T07:40:42.138058Z",
     "iopub.status.busy": "2024-01-20T07:40:42.137353Z",
     "iopub.status.idle": "2024-01-20T07:40:42.157888Z",
     "shell.execute_reply": "2024-01-20T07:40:42.157099Z"
    },
    "papermill": {
     "duration": 0.165739,
     "end_time": "2024-01-20T07:40:42.159654",
     "exception": false,
     "start_time": "2024-01-20T07:40:41.993915",
     "status": "completed"
    },
    "tags": []
   },
   "outputs": [
    {
     "name": "stdout",
     "output_type": "stream",
     "text": [
      "0.510; 0.327; 0.294; 0.207; 0.201; 0.199; 0.198; 0.197; 0.196; 0.196; 0.196; 0.195; 0.195; 0.195; 0.195; 0.195; 0.195; 0.195; 0.194; 0.194; 0.194; 0.194; 0.194; 0.194; 0.194; 0.194; 0.194; 0.194; 0.194; 0.194; "
     ]
    }
   ],
   "source": [
    "coeffs = train_model(lr=100)"
   ]
  },
  {
   "cell_type": "markdown",
   "id": "4c626d8a",
   "metadata": {
    "papermill": {
     "duration": 0.143584,
     "end_time": "2024-01-20T07:40:42.446669",
     "exception": false,
     "start_time": "2024-01-20T07:40:42.303085",
     "status": "completed"
    },
    "tags": []
   },
   "source": [
    "The loss has improved by a lot. Let's check the accuracy:"
   ]
  },
  {
   "cell_type": "code",
   "execution_count": 49,
   "id": "b0b29b5b",
   "metadata": {
    "execution": {
     "iopub.execute_input": "2024-01-20T07:40:42.737444Z",
     "iopub.status.busy": "2024-01-20T07:40:42.736775Z",
     "iopub.status.idle": "2024-01-20T07:40:42.742380Z",
     "shell.execute_reply": "2024-01-20T07:40:42.741721Z"
    },
    "papermill": {
     "duration": 0.152556,
     "end_time": "2024-01-20T07:40:42.744207",
     "exception": false,
     "start_time": "2024-01-20T07:40:42.591651",
     "status": "completed"
    },
    "tags": []
   },
   "outputs": [
    {
     "data": {
      "text/plain": [
       "tensor(0.8258)"
      ]
     },
     "execution_count": 49,
     "metadata": {},
     "output_type": "execute_result"
    }
   ],
   "source": [
    "acc(coeffs)"
   ]
  },
  {
   "cell_type": "markdown",
   "id": "13489055",
   "metadata": {
    "papermill": {
     "duration": 0.144794,
     "end_time": "2024-01-20T07:40:43.033269",
     "exception": false,
     "start_time": "2024-01-20T07:40:42.888475",
     "status": "completed"
    },
    "tags": []
   },
   "source": [
    "That's improved too! Here's the coefficients of our trained model:"
   ]
  },
  {
   "cell_type": "code",
   "execution_count": 50,
   "id": "32cbd4d5",
   "metadata": {
    "execution": {
     "iopub.execute_input": "2024-01-20T07:40:43.321931Z",
     "iopub.status.busy": "2024-01-20T07:40:43.321243Z",
     "iopub.status.idle": "2024-01-20T07:40:43.329380Z",
     "shell.execute_reply": "2024-01-20T07:40:43.328679Z"
    },
    "papermill": {
     "duration": 0.154351,
     "end_time": "2024-01-20T07:40:43.331082",
     "exception": false,
     "start_time": "2024-01-20T07:40:43.176731",
     "status": "completed"
    },
    "tags": []
   },
   "outputs": [
    {
     "data": {
      "text/plain": [
       "{'Age': tensor(-1.5061),\n",
       " 'SibSp': tensor(-1.1575),\n",
       " 'Parch': tensor(-0.4267),\n",
       " 'LogFare': tensor(0.2543),\n",
       " 'Sex_male': tensor(-10.3320),\n",
       " 'Sex_female': tensor(8.4185),\n",
       " 'Pclass_1': tensor(3.8389),\n",
       " 'Pclass_2': tensor(2.1398),\n",
       " 'Pclass_3': tensor(-6.2331),\n",
       " 'Embarked_C': tensor(1.4771),\n",
       " 'Embarked_Q': tensor(2.1168),\n",
       " 'Embarked_S': tensor(-4.7958)}"
      ]
     },
     "execution_count": 50,
     "metadata": {},
     "output_type": "execute_result"
    }
   ],
   "source": [
    "show_coeffs()"
   ]
  },
  {
   "cell_type": "markdown",
   "id": "61abddfb",
   "metadata": {
    "papermill": {
     "duration": 0.146251,
     "end_time": "2024-01-20T07:40:43.621492",
     "exception": false,
     "start_time": "2024-01-20T07:40:43.475241",
     "status": "completed"
    },
    "tags": []
   },
   "source": [
    "These coefficients seem reasonable -- in general, older people and males were less likely to survive, and first class passengers were more likely to survive."
   ]
  },
  {
   "cell_type": "markdown",
   "id": "5291c5f9",
   "metadata": {
    "papermill": {
     "duration": 0.144356,
     "end_time": "2024-01-20T07:40:43.909577",
     "exception": false,
     "start_time": "2024-01-20T07:40:43.765221",
     "status": "completed"
    },
    "tags": []
   },
   "source": [
    "## Submitting to Kaggle"
   ]
  },
  {
   "cell_type": "markdown",
   "id": "dc44beed",
   "metadata": {
    "papermill": {
     "duration": 0.145023,
     "end_time": "2024-01-20T07:40:44.200801",
     "exception": false,
     "start_time": "2024-01-20T07:40:44.055778",
     "status": "completed"
    },
    "tags": []
   },
   "source": [
    "Now that we've got a trained model, we can prepare a submission to Kaggle. To do that, first we need to read the test set:"
   ]
  },
  {
   "cell_type": "code",
   "execution_count": 51,
   "id": "9a8b8224",
   "metadata": {
    "execution": {
     "iopub.execute_input": "2024-01-20T07:40:44.491881Z",
     "iopub.status.busy": "2024-01-20T07:40:44.491603Z",
     "iopub.status.idle": "2024-01-20T07:40:44.501521Z",
     "shell.execute_reply": "2024-01-20T07:40:44.500947Z"
    },
    "papermill": {
     "duration": 0.157398,
     "end_time": "2024-01-20T07:40:44.503333",
     "exception": false,
     "start_time": "2024-01-20T07:40:44.345935",
     "status": "completed"
    },
    "tags": []
   },
   "outputs": [],
   "source": [
    "tst_df = pd.read_csv(path/'test.csv')"
   ]
  },
  {
   "cell_type": "markdown",
   "id": "ff59e291",
   "metadata": {
    "papermill": {
     "duration": 0.144118,
     "end_time": "2024-01-20T07:40:44.794326",
     "exception": false,
     "start_time": "2024-01-20T07:40:44.650208",
     "status": "completed"
    },
    "tags": []
   },
   "source": [
    "In this case, it turns out that the test set is missing `Fare` for one passenger. We'll just fill it with `0` to avoid problems:"
   ]
  },
  {
   "cell_type": "code",
   "execution_count": 52,
   "id": "e775cf4a",
   "metadata": {
    "execution": {
     "iopub.execute_input": "2024-01-20T07:40:45.085863Z",
     "iopub.status.busy": "2024-01-20T07:40:45.085141Z",
     "iopub.status.idle": "2024-01-20T07:40:45.090025Z",
     "shell.execute_reply": "2024-01-20T07:40:45.089288Z"
    },
    "papermill": {
     "duration": 0.153244,
     "end_time": "2024-01-20T07:40:45.091992",
     "exception": false,
     "start_time": "2024-01-20T07:40:44.938748",
     "status": "completed"
    },
    "tags": []
   },
   "outputs": [],
   "source": [
    "tst_df['Fare'] = tst_df.Fare.fillna(0)"
   ]
  },
  {
   "cell_type": "markdown",
   "id": "93624dfd",
   "metadata": {
    "papermill": {
     "duration": 0.144897,
     "end_time": "2024-01-20T07:40:45.382536",
     "exception": false,
     "start_time": "2024-01-20T07:40:45.237639",
     "status": "completed"
    },
    "tags": []
   },
   "source": [
    "Now we can just copy the same steps we did to our training set and do the same exact things on our test set to preprocess the data:"
   ]
  },
  {
   "cell_type": "code",
   "execution_count": 53,
   "id": "d1ebcbd5",
   "metadata": {
    "execution": {
     "iopub.execute_input": "2024-01-20T07:40:45.677219Z",
     "iopub.status.busy": "2024-01-20T07:40:45.676648Z",
     "iopub.status.idle": "2024-01-20T07:40:45.695560Z",
     "shell.execute_reply": "2024-01-20T07:40:45.694967Z"
    },
    "papermill": {
     "duration": 0.167836,
     "end_time": "2024-01-20T07:40:45.697435",
     "exception": false,
     "start_time": "2024-01-20T07:40:45.529599",
     "status": "completed"
    },
    "tags": []
   },
   "outputs": [],
   "source": [
    "tst_df.fillna(modes, inplace=True)\n",
    "tst_df['LogFare'] = np.log(tst_df['Fare']+1)\n",
    "tst_df = pd.get_dummies(tst_df, columns=[\"Sex\",\"Pclass\",\"Embarked\"])\n",
    "\n",
    "tst_indep = tensor(tst_df[indep_cols].values, dtype=torch.float)\n",
    "tst_indep = tst_indep / vals"
   ]
  },
  {
   "cell_type": "markdown",
   "id": "99536b86",
   "metadata": {
    "papermill": {
     "duration": 0.157873,
     "end_time": "2024-01-20T07:40:46.000688",
     "exception": false,
     "start_time": "2024-01-20T07:40:45.842815",
     "status": "completed"
    },
    "tags": []
   },
   "source": [
    "Let's calculate our predictions of which passengers survived in the test set:"
   ]
  },
  {
   "cell_type": "code",
   "execution_count": 54,
   "id": "cd7bf66c",
   "metadata": {
    "execution": {
     "iopub.execute_input": "2024-01-20T07:40:46.291046Z",
     "iopub.status.busy": "2024-01-20T07:40:46.290769Z",
     "iopub.status.idle": "2024-01-20T07:40:46.295845Z",
     "shell.execute_reply": "2024-01-20T07:40:46.295147Z"
    },
    "papermill": {
     "duration": 0.153093,
     "end_time": "2024-01-20T07:40:46.297720",
     "exception": false,
     "start_time": "2024-01-20T07:40:46.144627",
     "status": "completed"
    },
    "tags": []
   },
   "outputs": [],
   "source": [
    "tst_df['Survived'] = (calc_preds(tst_indep, coeffs)>0.5).int()"
   ]
  },
  {
   "cell_type": "markdown",
   "id": "309dfde7",
   "metadata": {
    "papermill": {
     "duration": 0.145716,
     "end_time": "2024-01-20T07:40:46.587295",
     "exception": false,
     "start_time": "2024-01-20T07:40:46.441579",
     "status": "completed"
    },
    "tags": []
   },
   "source": [
    "The sample submission on the Kaggle competition site shows that we're expected to upload a CSV with just `PassengerId` and `Survived`, so let's create that and save it:"
   ]
  },
  {
   "cell_type": "code",
   "execution_count": 55,
   "id": "5ced8557",
   "metadata": {
    "execution": {
     "iopub.execute_input": "2024-01-20T07:40:46.878342Z",
     "iopub.status.busy": "2024-01-20T07:40:46.878067Z",
     "iopub.status.idle": "2024-01-20T07:40:46.887591Z",
     "shell.execute_reply": "2024-01-20T07:40:46.886866Z"
    },
    "papermill": {
     "duration": 0.156797,
     "end_time": "2024-01-20T07:40:46.889562",
     "exception": false,
     "start_time": "2024-01-20T07:40:46.732765",
     "status": "completed"
    },
    "tags": []
   },
   "outputs": [],
   "source": [
    "sub_df = tst_df[['PassengerId','Survived']]\n",
    "sub_df.to_csv('sub.csv', index=False)"
   ]
  },
  {
   "cell_type": "markdown",
   "id": "d36fba5a",
   "metadata": {
    "papermill": {
     "duration": 0.144534,
     "end_time": "2024-01-20T07:40:47.178951",
     "exception": false,
     "start_time": "2024-01-20T07:40:47.034417",
     "status": "completed"
    },
    "tags": []
   },
   "source": [
    "We can check the first few rows of the file to make sure it looks reasonable:"
   ]
  },
  {
   "cell_type": "code",
   "execution_count": 56,
   "id": "9e2c746f",
   "metadata": {
    "execution": {
     "iopub.execute_input": "2024-01-20T07:40:47.472288Z",
     "iopub.status.busy": "2024-01-20T07:40:47.471910Z",
     "iopub.status.idle": "2024-01-20T07:40:48.436924Z",
     "shell.execute_reply": "2024-01-20T07:40:48.436198Z"
    },
    "papermill": {
     "duration": 1.115317,
     "end_time": "2024-01-20T07:40:48.439173",
     "exception": false,
     "start_time": "2024-01-20T07:40:47.323856",
     "status": "completed"
    },
    "tags": []
   },
   "outputs": [
    {
     "name": "stdout",
     "output_type": "stream",
     "text": [
      "PassengerId,Survived\r\n",
      "892,0\r\n",
      "893,0\r\n",
      "894,0\r\n",
      "895,0\r\n",
      "896,0\r\n",
      "897,0\r\n",
      "898,1\r\n",
      "899,0\r\n",
      "900,1\r\n"
     ]
    }
   ],
   "source": [
    "!head sub.csv"
   ]
  },
  {
   "cell_type": "markdown",
   "id": "d97286c1",
   "metadata": {
    "papermill": {
     "duration": 0.151554,
     "end_time": "2024-01-20T07:40:48.741844",
     "exception": false,
     "start_time": "2024-01-20T07:40:48.590290",
     "status": "completed"
    },
    "tags": []
   },
   "source": [
    "When you click \"save version\" in Kaggle, and wait for the notebook to run, you'll see that `sub.csv` appears in the \"Data\" tab. Clicking on that file will show a *Submit* button, which allows you to submit to the competition."
   ]
  },
  {
   "cell_type": "markdown",
   "id": "a55dbfb6",
   "metadata": {
    "papermill": {
     "duration": 0.146674,
     "end_time": "2024-01-20T07:40:49.034501",
     "exception": false,
     "start_time": "2024-01-20T07:40:48.887827",
     "status": "completed"
    },
    "tags": []
   },
   "source": [
    "## Using matrix product"
   ]
  },
  {
   "cell_type": "markdown",
   "id": "648e2e32",
   "metadata": {
    "papermill": {
     "duration": 0.144326,
     "end_time": "2024-01-20T07:40:49.323545",
     "exception": false,
     "start_time": "2024-01-20T07:40:49.179219",
     "status": "completed"
    },
    "tags": []
   },
   "source": [
    "We can make things quite a bit neater...\n",
    "\n",
    "Take a look at the inner-most calculation we're doing to get the predictions:"
   ]
  },
  {
   "cell_type": "code",
   "execution_count": 57,
   "id": "e610e323",
   "metadata": {
    "execution": {
     "iopub.execute_input": "2024-01-20T07:40:49.617873Z",
     "iopub.status.busy": "2024-01-20T07:40:49.617536Z",
     "iopub.status.idle": "2024-01-20T07:40:49.626632Z",
     "shell.execute_reply": "2024-01-20T07:40:49.625983Z"
    },
    "papermill": {
     "duration": 0.160246,
     "end_time": "2024-01-20T07:40:49.628644",
     "exception": false,
     "start_time": "2024-01-20T07:40:49.468398",
     "status": "completed"
    },
    "tags": []
   },
   "outputs": [
    {
     "data": {
      "text/plain": [
       "tensor([ 12.3288, -14.8119, -15.4540, -13.1513, -13.3512, -13.6469,   3.6248,   5.3429, -22.0878,   3.1233, -21.8742, -15.6421, -21.5504,\n",
       "          3.9393, -21.9190, -12.0010, -12.3775,   5.3550, -13.5880,  -3.1015, -21.7237, -12.2081,  12.9767,   4.7427, -21.6525, -14.9135,\n",
       "         -2.7433, -12.3210, -21.5886,   3.9387,   5.3890,  -3.6196, -21.6296, -21.8454,  12.2159,  -3.2275, -12.0289,  13.4560, -21.7230,\n",
       "         -3.1366, -13.2462, -21.7230, -13.6831,  13.3092, -21.6477,  -3.5868, -21.6854, -21.8316, -14.8158,  -2.9386,  -5.3103, -22.2384,\n",
       "        -22.1097, -21.7466, -13.3780, -13.4909, -14.8119, -22.0690, -21.6666, -21.7818,  -5.4439, -21.7407, -12.6551, -21.6671,   4.9238,\n",
       "        -11.5777, -13.3323, -21.9638, -15.3030,   5.0243, -21.7614,   3.1820, -13.4721, -21.7170, -11.6066, -21.5737, -21.7230, -11.9652,\n",
       "        -13.2382, -13.7599, -13.2170,  13.1347, -21.7049, -21.7268,   4.9207,  -7.3198,  -5.3081,   7.1065,  11.4948, -13.3135, -21.8723,\n",
       "        -21.7230,  13.3603, -15.5670,   3.4105,  -7.2857, -13.7197,   3.6909,   3.9763, -14.7227, -21.8268,   3.9387, -21.8743, -21.8367,\n",
       "        -11.8518, -13.6712, -21.8299,   4.9440,  -5.4471, -21.9666,   5.1333,  -3.2187, -11.6008,  13.7920, -21.7230,  12.6369,  -3.7268,\n",
       "        -14.8119, -22.0637,  12.9468, -22.1610,  -6.1827, -14.8119,  -3.2838, -15.4540, -11.6950,  -2.9926,  -3.0110, -21.5664, -13.8268,\n",
       "          7.3426, -21.8418,   5.0744,   5.2582,  13.3415, -21.6289, -13.9898, -21.8112,  -7.3316,   5.2296, -13.4453,  12.7891, -22.1235,\n",
       "        -14.9625,  -3.4339,   6.3089, -21.9839,   3.1968,   7.2400,   2.8558,  -3.1187,   3.7965,   5.4667, -15.1101, -15.0597, -22.9391,\n",
       "        -21.7230,  -3.0346, -13.5206, -21.7011,  13.4425,  -7.2690, -21.8335, -12.0582,  13.0489,   6.7993,   5.2160,   5.0794, -12.6957,\n",
       "        -12.1838,  -3.0873, -21.6070,   7.0744, -21.7170, -22.1001,   6.8159, -11.6002, -21.6310])"
      ]
     },
     "execution_count": 57,
     "metadata": {},
     "output_type": "execute_result"
    }
   ],
   "source": [
    "(val_indep*coeffs).sum(axis=1)"
   ]
  },
  {
   "cell_type": "markdown",
   "id": "4dec9b2c",
   "metadata": {
    "papermill": {
     "duration": 0.145322,
     "end_time": "2024-01-20T07:40:49.920803",
     "exception": false,
     "start_time": "2024-01-20T07:40:49.775481",
     "status": "completed"
    },
    "tags": []
   },
   "source": [
    "Multiplying elements together and then adding across rows is identical to doing a matrix-vector product! Python uses the `@` operator to indicate matrix products, and is supported by PyTorch tensors. Therefore, we can replicate the above calculate more simply like so:"
   ]
  },
  {
   "cell_type": "code",
   "execution_count": 58,
   "id": "16c91d95",
   "metadata": {
    "execution": {
     "iopub.execute_input": "2024-01-20T07:40:50.213061Z",
     "iopub.status.busy": "2024-01-20T07:40:50.212763Z",
     "iopub.status.idle": "2024-01-20T07:40:50.253744Z",
     "shell.execute_reply": "2024-01-20T07:40:50.253010Z"
    },
    "papermill": {
     "duration": 0.189728,
     "end_time": "2024-01-20T07:40:50.255532",
     "exception": false,
     "start_time": "2024-01-20T07:40:50.065804",
     "status": "completed"
    },
    "tags": []
   },
   "outputs": [
    {
     "data": {
      "text/plain": [
       "tensor([ 12.3288, -14.8119, -15.4540, -13.1513, -13.3511, -13.6468,   3.6248,   5.3429, -22.0878,   3.1233, -21.8742, -15.6421, -21.5504,\n",
       "          3.9393, -21.9190, -12.0010, -12.3775,   5.3550, -13.5880,  -3.1015, -21.7237, -12.2081,  12.9767,   4.7427, -21.6525, -14.9135,\n",
       "         -2.7433, -12.3210, -21.5886,   3.9387,   5.3890,  -3.6196, -21.6296, -21.8454,  12.2159,  -3.2275, -12.0289,  13.4560, -21.7230,\n",
       "         -3.1366, -13.2462, -21.7230, -13.6831,  13.3092, -21.6477,  -3.5868, -21.6854, -21.8316, -14.8158,  -2.9386,  -5.3103, -22.2384,\n",
       "        -22.1097, -21.7466, -13.3780, -13.4909, -14.8119, -22.0690, -21.6666, -21.7818,  -5.4439, -21.7407, -12.6551, -21.6671,   4.9238,\n",
       "        -11.5777, -13.3323, -21.9638, -15.3030,   5.0243, -21.7614,   3.1820, -13.4721, -21.7170, -11.6066, -21.5737, -21.7230, -11.9652,\n",
       "        -13.2382, -13.7599, -13.2170,  13.1347, -21.7049, -21.7268,   4.9207,  -7.3198,  -5.3081,   7.1065,  11.4948, -13.3135, -21.8723,\n",
       "        -21.7230,  13.3603, -15.5670,   3.4105,  -7.2857, -13.7197,   3.6909,   3.9763, -14.7227, -21.8268,   3.9387, -21.8743, -21.8367,\n",
       "        -11.8518, -13.6712, -21.8299,   4.9440,  -5.4471, -21.9666,   5.1333,  -3.2187, -11.6008,  13.7920, -21.7230,  12.6369,  -3.7268,\n",
       "        -14.8119, -22.0637,  12.9468, -22.1610,  -6.1827, -14.8119,  -3.2838, -15.4540, -11.6950,  -2.9926,  -3.0110, -21.5664, -13.8268,\n",
       "          7.3426, -21.8418,   5.0744,   5.2582,  13.3415, -21.6289, -13.9898, -21.8112,  -7.3316,   5.2296, -13.4453,  12.7891, -22.1235,\n",
       "        -14.9625,  -3.4339,   6.3089, -21.9839,   3.1968,   7.2400,   2.8558,  -3.1187,   3.7965,   5.4667, -15.1101, -15.0597, -22.9391,\n",
       "        -21.7230,  -3.0346, -13.5206, -21.7011,  13.4425,  -7.2690, -21.8335, -12.0582,  13.0489,   6.7993,   5.2160,   5.0794, -12.6957,\n",
       "        -12.1838,  -3.0873, -21.6070,   7.0744, -21.7170, -22.1001,   6.8159, -11.6002, -21.6310])"
      ]
     },
     "execution_count": 58,
     "metadata": {},
     "output_type": "execute_result"
    }
   ],
   "source": [
    "val_indep@coeffs"
   ]
  },
  {
   "cell_type": "markdown",
   "id": "25ec41f0",
   "metadata": {
    "papermill": {
     "duration": 0.164756,
     "end_time": "2024-01-20T07:40:50.566877",
     "exception": false,
     "start_time": "2024-01-20T07:40:50.402121",
     "status": "completed"
    },
    "tags": []
   },
   "source": [
    "It also turns out that this is much faster, because matrix products in PyTorch are very highly optimised.\n",
    "\n",
    "Let's use this to replace how `calc_preds` works:"
   ]
  },
  {
   "cell_type": "code",
   "execution_count": 59,
   "id": "4dd3bbaf",
   "metadata": {
    "execution": {
     "iopub.execute_input": "2024-01-20T07:40:50.861381Z",
     "iopub.status.busy": "2024-01-20T07:40:50.861101Z",
     "iopub.status.idle": "2024-01-20T07:40:50.865352Z",
     "shell.execute_reply": "2024-01-20T07:40:50.864635Z"
    },
    "papermill": {
     "duration": 0.153071,
     "end_time": "2024-01-20T07:40:50.867128",
     "exception": false,
     "start_time": "2024-01-20T07:40:50.714057",
     "status": "completed"
    },
    "tags": []
   },
   "outputs": [],
   "source": [
    "def calc_preds(coeffs, indeps): return torch.sigmoid(indeps@coeffs)"
   ]
  },
  {
   "cell_type": "markdown",
   "id": "8db72665",
   "metadata": {
    "papermill": {
     "duration": 0.146483,
     "end_time": "2024-01-20T07:40:51.159349",
     "exception": false,
     "start_time": "2024-01-20T07:40:51.012866",
     "status": "completed"
    },
    "tags": []
   },
   "source": [
    "In order to do matrix-matrix products (which we'll need in the next section), we need to turn `coeffs` into a column vector (i.e. a matrix with a single column), which we can do by passing a second argument `1` to `torch.rand()`, indicating that we want our coefficients to have one column:"
   ]
  },
  {
   "cell_type": "code",
   "execution_count": 60,
   "id": "763fc525",
   "metadata": {
    "execution": {
     "iopub.execute_input": "2024-01-20T07:40:51.454155Z",
     "iopub.status.busy": "2024-01-20T07:40:51.453854Z",
     "iopub.status.idle": "2024-01-20T07:40:51.458085Z",
     "shell.execute_reply": "2024-01-20T07:40:51.457390Z"
    },
    "papermill": {
     "duration": 0.153216,
     "end_time": "2024-01-20T07:40:51.459829",
     "exception": false,
     "start_time": "2024-01-20T07:40:51.306613",
     "status": "completed"
    },
    "tags": []
   },
   "outputs": [],
   "source": [
    "def init_coeffs(): return (torch.rand(n_coeff, 1)*0.1).requires_grad_()"
   ]
  },
  {
   "cell_type": "markdown",
   "id": "c55b3d21",
   "metadata": {
    "papermill": {
     "duration": 0.146034,
     "end_time": "2024-01-20T07:40:51.754341",
     "exception": false,
     "start_time": "2024-01-20T07:40:51.608307",
     "status": "completed"
    },
    "tags": []
   },
   "source": [
    "We'll also need to turn our dependent variable into a column vector, which we can do by indexing the column dimension with the special value `None`, which tells PyTorch to add a new dimension in this position:"
   ]
  },
  {
   "cell_type": "code",
   "execution_count": 61,
   "id": "6296769b",
   "metadata": {
    "execution": {
     "iopub.execute_input": "2024-01-20T07:40:52.047365Z",
     "iopub.status.busy": "2024-01-20T07:40:52.047094Z",
     "iopub.status.idle": "2024-01-20T07:40:52.051203Z",
     "shell.execute_reply": "2024-01-20T07:40:52.050484Z"
    },
    "papermill": {
     "duration": 0.152614,
     "end_time": "2024-01-20T07:40:52.053127",
     "exception": false,
     "start_time": "2024-01-20T07:40:51.900513",
     "status": "completed"
    },
    "tags": []
   },
   "outputs": [],
   "source": [
    "trn_dep = trn_dep[:,None]\n",
    "val_dep = val_dep[:,None]"
   ]
  },
  {
   "cell_type": "markdown",
   "id": "c431822c",
   "metadata": {
    "papermill": {
     "duration": 0.145386,
     "end_time": "2024-01-20T07:40:52.344662",
     "exception": false,
     "start_time": "2024-01-20T07:40:52.199276",
     "status": "completed"
    },
    "tags": []
   },
   "source": [
    "We can now train our model as before and confirm we get identical outputs...:"
   ]
  },
  {
   "cell_type": "code",
   "execution_count": 62,
   "id": "77faebed",
   "metadata": {
    "execution": {
     "iopub.execute_input": "2024-01-20T07:40:52.638832Z",
     "iopub.status.busy": "2024-01-20T07:40:52.638476Z",
     "iopub.status.idle": "2024-01-20T07:40:52.661848Z",
     "shell.execute_reply": "2024-01-20T07:40:52.661098Z"
    },
    "papermill": {
     "duration": 0.173949,
     "end_time": "2024-01-20T07:40:52.663750",
     "exception": false,
     "start_time": "2024-01-20T07:40:52.489801",
     "status": "completed"
    },
    "tags": []
   },
   "outputs": [
    {
     "name": "stdout",
     "output_type": "stream",
     "text": [
      "0.512; 0.323; 0.290; 0.205; 0.200; 0.198; 0.197; 0.197; 0.196; 0.196; 0.196; 0.195; 0.195; 0.195; 0.195; 0.195; 0.195; 0.194; 0.194; 0.194; 0.194; 0.194; 0.194; 0.194; 0.194; 0.194; 0.194; 0.194; 0.194; 0.194; "
     ]
    }
   ],
   "source": [
    "coeffs = train_model(lr=100)"
   ]
  },
  {
   "cell_type": "markdown",
   "id": "9742aeda",
   "metadata": {
    "papermill": {
     "duration": 0.16364,
     "end_time": "2024-01-20T07:40:52.985308",
     "exception": false,
     "start_time": "2024-01-20T07:40:52.821668",
     "status": "completed"
    },
    "tags": []
   },
   "source": [
    "...and identical accuracy:"
   ]
  },
  {
   "cell_type": "code",
   "execution_count": 63,
   "id": "7759b9b8",
   "metadata": {
    "execution": {
     "iopub.execute_input": "2024-01-20T07:40:53.316710Z",
     "iopub.status.busy": "2024-01-20T07:40:53.316439Z",
     "iopub.status.idle": "2024-01-20T07:40:53.323443Z",
     "shell.execute_reply": "2024-01-20T07:40:53.322682Z"
    },
    "papermill": {
     "duration": 0.170359,
     "end_time": "2024-01-20T07:40:53.325536",
     "exception": false,
     "start_time": "2024-01-20T07:40:53.155177",
     "status": "completed"
    },
    "tags": []
   },
   "outputs": [
    {
     "data": {
      "text/plain": [
       "tensor(0.8258)"
      ]
     },
     "execution_count": 63,
     "metadata": {},
     "output_type": "execute_result"
    }
   ],
   "source": [
    "acc(coeffs)"
   ]
  },
  {
   "cell_type": "markdown",
   "id": "c34945d4",
   "metadata": {
    "papermill": {
     "duration": 0.154735,
     "end_time": "2024-01-20T07:40:53.640154",
     "exception": false,
     "start_time": "2024-01-20T07:40:53.485419",
     "status": "completed"
    },
    "tags": []
   },
   "source": [
    "## A neural network"
   ]
  },
  {
   "cell_type": "markdown",
   "id": "e428d592",
   "metadata": {
    "papermill": {
     "duration": 0.147411,
     "end_time": "2024-01-20T07:40:53.936765",
     "exception": false,
     "start_time": "2024-01-20T07:40:53.789354",
     "status": "completed"
    },
    "tags": []
   },
   "source": [
    "We've now got what we need to implement our neural network.\n",
    "\n",
    "First, we'll need to create coefficients for each of our layers. Our first set of coefficients will take our `n_coeff` inputs, and create `n_hidden` outputs. We can choose whatever `n_hidden` we like -- a higher number gives our network more flexibility, but makes it slower and harder to train. So we need a matrix of size `n_coeff` by `n_hidden`. We'll divide these coefficients by `n_hidden` so that when we sum them up in the next layer we'll end up with similar magnitude numbers to what we started with.\n",
    "\n",
    "Then our second layer will need to take the `n_hidden` inputs and create a single output, so that means we need a `n_hidden` by `1` matrix there. The second layer will also need a constant term added."
   ]
  },
  {
   "cell_type": "code",
   "execution_count": 64,
   "id": "cd09f152",
   "metadata": {
    "execution": {
     "iopub.execute_input": "2024-01-20T07:40:54.237151Z",
     "iopub.status.busy": "2024-01-20T07:40:54.236853Z",
     "iopub.status.idle": "2024-01-20T07:40:54.242168Z",
     "shell.execute_reply": "2024-01-20T07:40:54.241443Z"
    },
    "papermill": {
     "duration": 0.157138,
     "end_time": "2024-01-20T07:40:54.243913",
     "exception": false,
     "start_time": "2024-01-20T07:40:54.086775",
     "status": "completed"
    },
    "tags": []
   },
   "outputs": [],
   "source": [
    "def init_coeffs(n_hidden=20):\n",
    "    layer1 = (torch.rand(n_coeff, n_hidden)-0.5)/n_hidden\n",
    "    layer2 = torch.rand(n_hidden, 1)-0.3\n",
    "    const = torch.rand(1)[0]\n",
    "    return layer1.requires_grad_(),layer2.requires_grad_(),const.requires_grad_()"
   ]
  },
  {
   "cell_type": "markdown",
   "id": "7264e9c4",
   "metadata": {
    "papermill": {
     "duration": 0.146636,
     "end_time": "2024-01-20T07:40:54.537857",
     "exception": false,
     "start_time": "2024-01-20T07:40:54.391221",
     "status": "completed"
    },
    "tags": []
   },
   "source": [
    "Now we have our coefficients, we can create our neural net. The key steps are the two matrix products, `indeps@l1` and `res@l2` (where `res` is the output of the first layer). The first layer output is passed to `F.relu` (that's our non-linearity), and the second is passed to `torch.sigmoid` as before."
   ]
  },
  {
   "cell_type": "code",
   "execution_count": 65,
   "id": "7de47c43",
   "metadata": {
    "execution": {
     "iopub.execute_input": "2024-01-20T07:40:54.836420Z",
     "iopub.status.busy": "2024-01-20T07:40:54.835820Z",
     "iopub.status.idle": "2024-01-20T07:40:54.840543Z",
     "shell.execute_reply": "2024-01-20T07:40:54.839844Z"
    },
    "papermill": {
     "duration": 0.155357,
     "end_time": "2024-01-20T07:40:54.842428",
     "exception": false,
     "start_time": "2024-01-20T07:40:54.687071",
     "status": "completed"
    },
    "tags": []
   },
   "outputs": [],
   "source": [
    "import torch.nn.functional as F\n",
    "\n",
    "def calc_preds(coeffs, indeps):\n",
    "    l1,l2,const = coeffs\n",
    "    res = F.relu(indeps@l1)\n",
    "    res = res@l2 + const\n",
    "    return torch.sigmoid(res)"
   ]
  },
  {
   "cell_type": "markdown",
   "id": "4977173b",
   "metadata": {
    "papermill": {
     "duration": 0.146562,
     "end_time": "2024-01-20T07:40:55.138175",
     "exception": false,
     "start_time": "2024-01-20T07:40:54.991613",
     "status": "completed"
    },
    "tags": []
   },
   "source": [
    "Finally, now that we have more than one set of coefficients, we need to add a loop to update each one:"
   ]
  },
  {
   "cell_type": "code",
   "execution_count": 66,
   "id": "33732d2f",
   "metadata": {
    "execution": {
     "iopub.execute_input": "2024-01-20T07:40:55.434424Z",
     "iopub.status.busy": "2024-01-20T07:40:55.434174Z",
     "iopub.status.idle": "2024-01-20T07:40:55.438578Z",
     "shell.execute_reply": "2024-01-20T07:40:55.437818Z"
    },
    "papermill": {
     "duration": 0.154679,
     "end_time": "2024-01-20T07:40:55.440340",
     "exception": false,
     "start_time": "2024-01-20T07:40:55.285661",
     "status": "completed"
    },
    "tags": []
   },
   "outputs": [],
   "source": [
    "def update_coeffs(coeffs, lr):\n",
    "    for layer in coeffs:\n",
    "        layer.sub_(layer.grad * lr)\n",
    "        layer.grad.zero_()"
   ]
  },
  {
   "cell_type": "markdown",
   "id": "5e7e0b95",
   "metadata": {
    "papermill": {
     "duration": 0.148414,
     "end_time": "2024-01-20T07:40:55.735317",
     "exception": false,
     "start_time": "2024-01-20T07:40:55.586903",
     "status": "completed"
    },
    "tags": []
   },
   "source": [
    "That's it -- we're now ready to train our model!"
   ]
  },
  {
   "cell_type": "code",
   "execution_count": 67,
   "id": "a2fcea92",
   "metadata": {
    "execution": {
     "iopub.execute_input": "2024-01-20T07:40:56.032669Z",
     "iopub.status.busy": "2024-01-20T07:40:56.032016Z",
     "iopub.status.idle": "2024-01-20T07:40:56.071644Z",
     "shell.execute_reply": "2024-01-20T07:40:56.070810Z"
    },
    "papermill": {
     "duration": 0.190157,
     "end_time": "2024-01-20T07:40:56.073519",
     "exception": false,
     "start_time": "2024-01-20T07:40:55.883362",
     "status": "completed"
    },
    "tags": []
   },
   "outputs": [
    {
     "name": "stdout",
     "output_type": "stream",
     "text": [
      "0.543; 0.532; 0.520; 0.505; 0.487; 0.466; 0.439; 0.407; 0.373; 0.343; 0.319; 0.301; 0.286; 0.274; 0.264; 0.256; 0.250; 0.245; 0.240; 0.237; 0.234; 0.231; 0.229; 0.227; 0.226; 0.224; 0.223; 0.222; 0.221; 0.220; "
     ]
    }
   ],
   "source": [
    "coeffs = train_model(lr=1.4)"
   ]
  },
  {
   "cell_type": "code",
   "execution_count": 68,
   "id": "07c17b33",
   "metadata": {
    "execution": {
     "iopub.execute_input": "2024-01-20T07:40:56.369711Z",
     "iopub.status.busy": "2024-01-20T07:40:56.369436Z",
     "iopub.status.idle": "2024-01-20T07:40:56.391711Z",
     "shell.execute_reply": "2024-01-20T07:40:56.390746Z"
    },
    "papermill": {
     "duration": 0.172803,
     "end_time": "2024-01-20T07:40:56.393648",
     "exception": false,
     "start_time": "2024-01-20T07:40:56.220845",
     "status": "completed"
    },
    "tags": []
   },
   "outputs": [
    {
     "name": "stdout",
     "output_type": "stream",
     "text": [
      "0.543; 0.400; 0.260; 0.390; 0.221; 0.211; 0.197; 0.195; 0.193; 0.193; 0.193; 0.193; 0.193; 0.193; 0.193; 0.193; 0.193; 0.192; 0.192; 0.192; 0.192; 0.192; 0.192; 0.192; 0.192; 0.192; 0.192; 0.192; 0.192; 0.192; "
     ]
    }
   ],
   "source": [
    "coeffs = train_model(lr=20)"
   ]
  },
  {
   "cell_type": "markdown",
   "id": "2661689d",
   "metadata": {
    "papermill": {
     "duration": 0.150107,
     "end_time": "2024-01-20T07:40:56.692736",
     "exception": false,
     "start_time": "2024-01-20T07:40:56.542629",
     "status": "completed"
    },
    "tags": []
   },
   "source": [
    "It's looking good -- our loss is lower than before. Let's see if that translates to a better result on the validation set:"
   ]
  },
  {
   "cell_type": "code",
   "execution_count": 69,
   "id": "cd3d7c97",
   "metadata": {
    "execution": {
     "iopub.execute_input": "2024-01-20T07:40:56.993369Z",
     "iopub.status.busy": "2024-01-20T07:40:56.993115Z",
     "iopub.status.idle": "2024-01-20T07:40:56.999176Z",
     "shell.execute_reply": "2024-01-20T07:40:56.998451Z"
    },
    "papermill": {
     "duration": 0.159471,
     "end_time": "2024-01-20T07:40:57.001146",
     "exception": false,
     "start_time": "2024-01-20T07:40:56.841675",
     "status": "completed"
    },
    "tags": []
   },
   "outputs": [
    {
     "data": {
      "text/plain": [
       "tensor(0.8258)"
      ]
     },
     "execution_count": 69,
     "metadata": {},
     "output_type": "execute_result"
    }
   ],
   "source": [
    "acc(coeffs)"
   ]
  },
  {
   "cell_type": "markdown",
   "id": "7b302350",
   "metadata": {
    "papermill": {
     "duration": 0.148152,
     "end_time": "2024-01-20T07:40:57.297940",
     "exception": false,
     "start_time": "2024-01-20T07:40:57.149788",
     "status": "completed"
    },
    "tags": []
   },
   "source": [
    "In this case our neural net isn't showing better results than the linear model. That's not surprising; this dataset is very small and very simple, and isn't the kind of thing we'd expect to see neural networks excel at. Furthermore, our validation set is too small to reliably see much accuracy difference. But the key thing is that we now know exactly what a real neural net looks like!"
   ]
  },
  {
   "cell_type": "markdown",
   "id": "be8538d4",
   "metadata": {
    "papermill": {
     "duration": 0.172491,
     "end_time": "2024-01-20T07:40:57.618754",
     "exception": false,
     "start_time": "2024-01-20T07:40:57.446263",
     "status": "completed"
    },
    "tags": []
   },
   "source": [
    "## Deep learning"
   ]
  },
  {
   "cell_type": "markdown",
   "id": "e5a02509",
   "metadata": {
    "papermill": {
     "duration": 0.174036,
     "end_time": "2024-01-20T07:40:57.957877",
     "exception": false,
     "start_time": "2024-01-20T07:40:57.783841",
     "status": "completed"
    },
    "tags": []
   },
   "source": [
    "The neural net in the previous section only uses one hidden layer, so it doesn't count as \"deep\" learning. But we can use the exact same technique to make our neural net deep, by adding more matrix multiplications.\n",
    "\n",
    "First, we'll need to create additional coefficients for each layer:"
   ]
  },
  {
   "cell_type": "code",
   "execution_count": 70,
   "id": "21b543a3",
   "metadata": {
    "execution": {
     "iopub.execute_input": "2024-01-20T07:40:58.254416Z",
     "iopub.status.busy": "2024-01-20T07:40:58.253802Z",
     "iopub.status.idle": "2024-01-20T07:40:58.260479Z",
     "shell.execute_reply": "2024-01-20T07:40:58.259774Z"
    },
    "papermill": {
     "duration": 0.15664,
     "end_time": "2024-01-20T07:40:58.262224",
     "exception": false,
     "start_time": "2024-01-20T07:40:58.105584",
     "status": "completed"
    },
    "tags": []
   },
   "outputs": [],
   "source": [
    "def init_coeffs():\n",
    "    hiddens = [10, 10]  # <-- set this to the size of each hidden layer you want\n",
    "    sizes = [n_coeff] + hiddens + [1]\n",
    "    n = len(sizes)\n",
    "    layers = [(torch.rand(sizes[i], sizes[i+1])-0.3)/sizes[i+1]*4 for i in range(n-1)]\n",
    "    consts = [(torch.rand(1)[0]-0.5)*0.1 for i in range(n-1)]\n",
    "    for l in layers+consts: l.requires_grad_()\n",
    "    return layers,consts"
   ]
  },
  {
   "cell_type": "markdown",
   "id": "0de58fa7",
   "metadata": {
    "papermill": {
     "duration": 0.147161,
     "end_time": "2024-01-20T07:40:58.556562",
     "exception": false,
     "start_time": "2024-01-20T07:40:58.409401",
     "status": "completed"
    },
    "tags": []
   },
   "source": [
    "You'll notice here that there's a lot of messy constants to get the random numbers in just the right ranges. When you train the model in a moment, you'll see that the tiniest changes to these initialisations can cause our model to fail to train at all! This is a key reason that deep learning failed to make much progress in the early days -- it's very finicky to get a good starting point for our coefficients. Nowadays, we have ways to deal with that, which we'll learn about in other notebooks.\n",
    "\n",
    "Our deep learning `calc_preds` looks much the same as before, but now we loop through each layer, instead of listing them separately:"
   ]
  },
  {
   "cell_type": "code",
   "execution_count": 71,
   "id": "e9ce92d3",
   "metadata": {
    "execution": {
     "iopub.execute_input": "2024-01-20T07:40:58.856341Z",
     "iopub.status.busy": "2024-01-20T07:40:58.856083Z",
     "iopub.status.idle": "2024-01-20T07:40:58.861648Z",
     "shell.execute_reply": "2024-01-20T07:40:58.860965Z"
    },
    "papermill": {
     "duration": 0.157199,
     "end_time": "2024-01-20T07:40:58.863456",
     "exception": false,
     "start_time": "2024-01-20T07:40:58.706257",
     "status": "completed"
    },
    "tags": []
   },
   "outputs": [],
   "source": [
    "import torch.nn.functional as F\n",
    "\n",
    "def calc_preds(coeffs, indeps):\n",
    "    layers,consts = coeffs\n",
    "    n = len(layers)\n",
    "    res = indeps\n",
    "    for i,l in enumerate(layers):\n",
    "        res = res@l + consts[i]\n",
    "        if i!=n-1: res = F.relu(res)\n",
    "    return torch.sigmoid(res)"
   ]
  },
  {
   "cell_type": "markdown",
   "id": "28db1d6e",
   "metadata": {
    "papermill": {
     "duration": 0.147378,
     "end_time": "2024-01-20T07:40:59.158706",
     "exception": false,
     "start_time": "2024-01-20T07:40:59.011328",
     "status": "completed"
    },
    "tags": []
   },
   "source": [
    "We also need a minor update to `update_coeffs` since we've got `layers` and `consts` separated now:"
   ]
  },
  {
   "cell_type": "code",
   "execution_count": 72,
   "id": "7a888a22",
   "metadata": {
    "execution": {
     "iopub.execute_input": "2024-01-20T07:40:59.455053Z",
     "iopub.status.busy": "2024-01-20T07:40:59.454785Z",
     "iopub.status.idle": "2024-01-20T07:40:59.459351Z",
     "shell.execute_reply": "2024-01-20T07:40:59.458613Z"
    },
    "papermill": {
     "duration": 0.155386,
     "end_time": "2024-01-20T07:40:59.461149",
     "exception": false,
     "start_time": "2024-01-20T07:40:59.305763",
     "status": "completed"
    },
    "tags": []
   },
   "outputs": [],
   "source": [
    "def update_coeffs(coeffs, lr):\n",
    "    layers,consts = coeffs\n",
    "    for layer in layers+consts:\n",
    "        layer.sub_(layer.grad * lr)\n",
    "        layer.grad.zero_()"
   ]
  },
  {
   "cell_type": "markdown",
   "id": "33951a09",
   "metadata": {
    "papermill": {
     "duration": 0.148591,
     "end_time": "2024-01-20T07:40:59.759928",
     "exception": false,
     "start_time": "2024-01-20T07:40:59.611337",
     "status": "completed"
    },
    "tags": []
   },
   "source": [
    "Let's train our model..."
   ]
  },
  {
   "cell_type": "code",
   "execution_count": 73,
   "id": "a3569532",
   "metadata": {
    "execution": {
     "iopub.execute_input": "2024-01-20T07:41:00.059816Z",
     "iopub.status.busy": "2024-01-20T07:41:00.059526Z",
     "iopub.status.idle": "2024-01-20T07:41:00.089720Z",
     "shell.execute_reply": "2024-01-20T07:41:00.088770Z"
    },
    "papermill": {
     "duration": 0.181524,
     "end_time": "2024-01-20T07:41:00.091611",
     "exception": false,
     "start_time": "2024-01-20T07:40:59.910087",
     "status": "completed"
    },
    "tags": []
   },
   "outputs": [
    {
     "name": "stdout",
     "output_type": "stream",
     "text": [
      "0.521; 0.483; 0.427; 0.379; 0.379; 0.379; 0.379; 0.378; 0.378; 0.378; 0.378; 0.378; 0.378; 0.378; 0.378; 0.378; 0.377; 0.376; 0.371; 0.333; 0.239; 0.224; 0.208; 0.204; 0.203; 0.203; 0.207; 0.197; 0.196; 0.195; "
     ]
    }
   ],
   "source": [
    "coeffs = train_model(lr=4)"
   ]
  },
  {
   "cell_type": "markdown",
   "id": "a7d39f2c",
   "metadata": {
    "papermill": {
     "duration": 0.148523,
     "end_time": "2024-01-20T07:41:00.389432",
     "exception": false,
     "start_time": "2024-01-20T07:41:00.240909",
     "status": "completed"
    },
    "tags": []
   },
   "source": [
    "...and check its accuracy:"
   ]
  },
  {
   "cell_type": "code",
   "execution_count": 74,
   "id": "a9e01103",
   "metadata": {
    "execution": {
     "iopub.execute_input": "2024-01-20T07:41:00.719865Z",
     "iopub.status.busy": "2024-01-20T07:41:00.719145Z",
     "iopub.status.idle": "2024-01-20T07:41:00.725497Z",
     "shell.execute_reply": "2024-01-20T07:41:00.724812Z"
    },
    "papermill": {
     "duration": 0.160659,
     "end_time": "2024-01-20T07:41:00.727402",
     "exception": false,
     "start_time": "2024-01-20T07:41:00.566743",
     "status": "completed"
    },
    "tags": []
   },
   "outputs": [
    {
     "data": {
      "text/plain": [
       "tensor(0.8258)"
      ]
     },
     "execution_count": 74,
     "metadata": {},
     "output_type": "execute_result"
    }
   ],
   "source": [
    "acc(coeffs)"
   ]
  },
  {
   "cell_type": "markdown",
   "id": "eb907d84",
   "metadata": {
    "papermill": {
     "duration": 0.148062,
     "end_time": "2024-01-20T07:41:01.025971",
     "exception": false,
     "start_time": "2024-01-20T07:41:00.877909",
     "status": "completed"
    },
    "tags": []
   },
   "source": [
    "## Final thoughts"
   ]
  },
  {
   "cell_type": "markdown",
   "id": "eb4a76ba",
   "metadata": {
    "papermill": {
     "duration": 0.147607,
     "end_time": "2024-01-20T07:41:01.323534",
     "exception": false,
     "start_time": "2024-01-20T07:41:01.175927",
     "status": "completed"
    },
    "tags": []
   },
   "source": [
    "It's actually pretty cool that we've managed to create a real deep learning model from scratch and trained it to get over 80% accuracy on this task, all in the course of a single notebook!\n",
    "\n",
    "The \"real\" deep learning models that are used in research and industry look very similar to this, and in fact if you look inside the source code of any deep learning model you'll recognise the basic steps are the same.\n",
    "\n",
    "The biggest differences in practical models to what we have above are:\n",
    "\n",
    "- How initialisation and normalisation is done to ensure the model trains correctly every time\n",
    "- Regularization (to avoid over-fitting)\n",
    "- Modifying the neural net itself to take advantage of knowledge of the problem domain\n",
    "- Doing gradient descent steps on smaller batches, rather than the whole dataset.\n",
    "\n",
    "I'll be adding notebooks about all these later, and will add links here once they're ready.\n",
    "\n",
    "If you found this notebook useful, please remember to click the little up-arrow at the top to upvote it, since I like to know when people have found my work useful, and it helps others find it too. (BTW, be sure you're looking at my [original notebook here](https://www.kaggle.com/code/jhoward/linear-model-and-neural-net-from-scratch) when you do that, and are not on your own copy of it, otherwise your upvote won't get counted!) And if you have any questions or comments, please pop them below -- I read every comment I receive!"
   ]
  },
  {
   "cell_type": "code",
   "execution_count": null,
   "id": "8debf66e",
   "metadata": {
    "papermill": {
     "duration": 0.149714,
     "end_time": "2024-01-20T07:41:01.622931",
     "exception": false,
     "start_time": "2024-01-20T07:41:01.473217",
     "status": "completed"
    },
    "tags": []
   },
   "outputs": [],
   "source": []
  }
 ],
 "metadata": {
  "kaggle": {
   "accelerator": "gpu",
   "dataSources": [
    {
     "databundleVersionId": 26502,
     "sourceId": 3136,
     "sourceType": "competition"
    }
   ],
   "dockerImageVersionId": 30184,
   "isGpuEnabled": true,
   "isInternetEnabled": true,
   "language": "python",
   "sourceType": "notebook"
  },
  "kernelspec": {
   "display_name": "Python 3",
   "language": "python",
   "name": "python3"
  },
  "language_info": {
   "codemirror_mode": {
    "name": "ipython",
    "version": 3
   },
   "file_extension": ".py",
   "mimetype": "text/x-python",
   "name": "python",
   "nbconvert_exporter": "python",
   "pygments_lexer": "ipython3",
   "version": "3.7.12"
  },
  "papermill": {
   "default_parameters": {},
   "duration": 62.190022,
   "end_time": "2024-01-20T07:41:02.794196",
   "environment_variables": {},
   "exception": null,
   "input_path": "__notebook__.ipynb",
   "output_path": "__notebook__.ipynb",
   "parameters": {},
   "start_time": "2024-01-20T07:40:00.604174",
   "version": "2.3.4"
  }
 },
 "nbformat": 4,
 "nbformat_minor": 5
}
