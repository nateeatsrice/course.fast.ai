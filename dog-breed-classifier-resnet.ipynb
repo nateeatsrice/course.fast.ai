{
 "cells": [
  {
   "cell_type": "code",
   "execution_count": 1,
   "id": "c14a16a8",
   "metadata": {
    "execution": {
     "iopub.execute_input": "2023-03-06T09:17:02.205027Z",
     "iopub.status.busy": "2023-03-06T09:17:02.204514Z",
     "iopub.status.idle": "2023-03-06T09:17:17.958737Z",
     "shell.execute_reply": "2023-03-06T09:17:17.957208Z"
    },
    "papermill": {
     "duration": 15.764921,
     "end_time": "2023-03-06T09:17:17.961815",
     "exception": false,
     "start_time": "2023-03-06T09:17:02.196894",
     "status": "completed"
    },
    "tags": []
   },
   "outputs": [],
   "source": [
    "!pip install -Uqq gradio"
   ]
  },
  {
   "cell_type": "code",
   "execution_count": 2,
   "id": "199bb2b8",
   "metadata": {
    "execution": {
     "iopub.execute_input": "2023-03-06T09:17:17.974552Z",
     "iopub.status.busy": "2023-03-06T09:17:17.973456Z",
     "iopub.status.idle": "2023-03-06T09:17:29.239357Z",
     "shell.execute_reply": "2023-03-06T09:17:29.237737Z"
    },
    "papermill": {
     "duration": 11.27521,
     "end_time": "2023-03-06T09:17:29.242322",
     "exception": false,
     "start_time": "2023-03-06T09:17:17.967112",
     "status": "completed"
    },
    "tags": []
   },
   "outputs": [],
   "source": [
    "!pip install -Uqq scikit-image"
   ]
  },
  {
   "cell_type": "code",
   "execution_count": 3,
   "id": "b6a4979e",
   "metadata": {
    "execution": {
     "iopub.execute_input": "2023-03-06T09:17:29.254893Z",
     "iopub.status.busy": "2023-03-06T09:17:29.254285Z",
     "iopub.status.idle": "2023-03-06T09:17:34.599285Z",
     "shell.execute_reply": "2023-03-06T09:17:34.597944Z"
    },
    "papermill": {
     "duration": 5.354766,
     "end_time": "2023-03-06T09:17:34.602365",
     "exception": false,
     "start_time": "2023-03-06T09:17:29.247599",
     "status": "completed"
    },
    "tags": []
   },
   "outputs": [],
   "source": [
    "from fastai.vision.all import *"
   ]
  },
  {
   "cell_type": "code",
   "execution_count": 4,
   "id": "c8b3eb4f",
   "metadata": {
    "execution": {
     "iopub.execute_input": "2023-03-06T09:17:34.615270Z",
     "iopub.status.busy": "2023-03-06T09:17:34.614691Z",
     "iopub.status.idle": "2023-03-06T09:17:34.754008Z",
     "shell.execute_reply": "2023-03-06T09:17:34.752681Z"
    },
    "papermill": {
     "duration": 0.149534,
     "end_time": "2023-03-06T09:17:34.757098",
     "exception": false,
     "start_time": "2023-03-06T09:17:34.607564",
     "status": "completed"
    },
    "tags": []
   },
   "outputs": [],
   "source": [
    "import skimage"
   ]
  },
  {
   "cell_type": "code",
   "execution_count": 5,
   "id": "9bcfb68f",
   "metadata": {
    "execution": {
     "iopub.execute_input": "2023-03-06T09:17:34.769371Z",
     "iopub.status.busy": "2023-03-06T09:17:34.768934Z",
     "iopub.status.idle": "2023-03-06T09:17:59.143661Z",
     "shell.execute_reply": "2023-03-06T09:17:59.142545Z"
    },
    "papermill": {
     "duration": 24.384348,
     "end_time": "2023-03-06T09:17:59.146776",
     "exception": false,
     "start_time": "2023-03-06T09:17:34.762428",
     "status": "completed"
    },
    "tags": []
   },
   "outputs": [
    {
     "data": {
      "text/html": [
       "\n",
       "<style>\n",
       "    /* Turns off some styling */\n",
       "    progress {\n",
       "        /* gets rid of default border in Firefox and Opera. */\n",
       "        border: none;\n",
       "        /* Needs to be in here for Safari polyfill so background images work as expected. */\n",
       "        background-size: auto;\n",
       "    }\n",
       "    progress:not([value]), progress:not([value])::-webkit-progress-bar {\n",
       "        background: repeating-linear-gradient(45deg, #7e7e7e, #7e7e7e 10px, #5c5c5c 10px, #5c5c5c 20px);\n",
       "    }\n",
       "    .progress-bar-interrupted, .progress-bar-interrupted::-webkit-progress-bar {\n",
       "        background: #F44336;\n",
       "    }\n",
       "</style>\n"
      ],
      "text/plain": [
       "<IPython.core.display.HTML object>"
      ]
     },
     "metadata": {},
     "output_type": "display_data"
    },
    {
     "data": {
      "text/html": [
       "\n",
       "    <div>\n",
       "      <progress value='811712512' class='' max='811706944' style='width:300px; height:20px; vertical-align: middle;'></progress>\n",
       "      100.00% [811712512/811706944 00:13&lt;00:00]\n",
       "    </div>\n",
       "    "
      ],
      "text/plain": [
       "<IPython.core.display.HTML object>"
      ]
     },
     "metadata": {},
     "output_type": "display_data"
    }
   ],
   "source": [
    "# Import data through untar_data function which takes in URLs.\"dataset name\"\n",
    "path = untar_data(URLs.PETS)"
   ]
  },
  {
   "cell_type": "code",
   "execution_count": 6,
   "id": "2a932f09",
   "metadata": {
    "execution": {
     "iopub.execute_input": "2023-03-06T09:17:59.159284Z",
     "iopub.status.busy": "2023-03-06T09:17:59.158875Z",
     "iopub.status.idle": "2023-03-06T09:18:07.752007Z",
     "shell.execute_reply": "2023-03-06T09:18:07.750578Z"
    },
    "papermill": {
     "duration": 8.60278,
     "end_time": "2023-03-06T09:18:07.755087",
     "exception": false,
     "start_time": "2023-03-06T09:17:59.152307",
     "status": "completed"
    },
    "tags": []
   },
   "outputs": [],
   "source": [
    "# Instantiate data loaders object dls. this object contains all the images we will train model on\n",
    "dls = ImageDataLoaders.from_name_re(\n",
    "    path,\n",
    "    get_image_files(path/'images'),\n",
    "    pat='(.+)_\\d+.jpg',\n",
    "    item_tfms=Resize(460),\n",
    "    batch_tfms=aug_transforms(size=224, min_scale=0.75)\n",
    ")"
   ]
  },
  {
   "cell_type": "code",
   "execution_count": 7,
   "id": "604cb645",
   "metadata": {
    "execution": {
     "iopub.execute_input": "2023-03-06T09:18:07.766843Z",
     "iopub.status.busy": "2023-03-06T09:18:07.766455Z",
     "iopub.status.idle": "2023-03-06T09:18:07.773380Z",
     "shell.execute_reply": "2023-03-06T09:18:07.772245Z"
    },
    "papermill": {
     "duration": 0.01563,
     "end_time": "2023-03-06T09:18:07.775909",
     "exception": false,
     "start_time": "2023-03-06T09:18:07.760279",
     "status": "completed"
    },
    "tags": []
   },
   "outputs": [
    {
     "data": {
      "text/plain": [
       "Path('/root/.fastai/data/oxford-iiit-pet')"
      ]
     },
     "execution_count": 7,
     "metadata": {},
     "output_type": "execute_result"
    }
   ],
   "source": [
    "path"
   ]
  },
  {
   "cell_type": "code",
   "execution_count": 8,
   "id": "d052befa",
   "metadata": {
    "execution": {
     "iopub.execute_input": "2023-03-06T09:18:07.789302Z",
     "iopub.status.busy": "2023-03-06T09:18:07.788939Z",
     "iopub.status.idle": "2023-03-06T09:21:28.632519Z",
     "shell.execute_reply": "2023-03-06T09:21:28.631230Z"
    },
    "papermill": {
     "duration": 200.854219,
     "end_time": "2023-03-06T09:21:28.635032",
     "exception": false,
     "start_time": "2023-03-06T09:18:07.780813",
     "status": "completed"
    },
    "tags": []
   },
   "outputs": [
    {
     "name": "stderr",
     "output_type": "stream",
     "text": [
      "/opt/conda/lib/python3.7/site-packages/torchvision/models/_utils.py:209: UserWarning: The parameter 'pretrained' is deprecated since 0.13 and may be removed in the future, please use 'weights' instead.\n",
      "  f\"The parameter '{pretrained_param}' is deprecated since 0.13 and may be removed in the future, \"\n",
      "/opt/conda/lib/python3.7/site-packages/torchvision/models/_utils.py:223: UserWarning: Arguments other than a weight enum or `None` for 'weights' are deprecated since 0.13 and may be removed in the future. The current behavior is equivalent to passing `weights=ResNet50_Weights.IMAGENET1K_V1`. You can also use `weights=ResNet50_Weights.DEFAULT` to get the most up-to-date weights.\n",
      "  warnings.warn(msg)\n",
      "Downloading: \"https://download.pytorch.org/models/resnet50-0676ba61.pth\" to /root/.cache/torch/hub/checkpoints/resnet50-0676ba61.pth\n"
     ]
    },
    {
     "data": {
      "application/vnd.jupyter.widget-view+json": {
       "model_id": "4fa71807be2d44c2a2b4c44cbf5a77d1",
       "version_major": 2,
       "version_minor": 0
      },
      "text/plain": [
       "  0%|          | 0.00/97.8M [00:00<?, ?B/s]"
      ]
     },
     "metadata": {},
     "output_type": "display_data"
    },
    {
     "data": {
      "text/html": [
       "\n",
       "<style>\n",
       "    /* Turns off some styling */\n",
       "    progress {\n",
       "        /* gets rid of default border in Firefox and Opera. */\n",
       "        border: none;\n",
       "        /* Needs to be in here for Safari polyfill so background images work as expected. */\n",
       "        background-size: auto;\n",
       "    }\n",
       "    progress:not([value]), progress:not([value])::-webkit-progress-bar {\n",
       "        background: repeating-linear-gradient(45deg, #7e7e7e, #7e7e7e 10px, #5c5c5c 10px, #5c5c5c 20px);\n",
       "    }\n",
       "    .progress-bar-interrupted, .progress-bar-interrupted::-webkit-progress-bar {\n",
       "        background: #F44336;\n",
       "    }\n",
       "</style>\n"
      ],
      "text/plain": [
       "<IPython.core.display.HTML object>"
      ]
     },
     "metadata": {},
     "output_type": "display_data"
    },
    {
     "data": {
      "text/html": [
       "<table border=\"1\" class=\"dataframe\">\n",
       "  <thead>\n",
       "    <tr style=\"text-align: left;\">\n",
       "      <th>epoch</th>\n",
       "      <th>train_loss</th>\n",
       "      <th>valid_loss</th>\n",
       "      <th>accuracy</th>\n",
       "      <th>time</th>\n",
       "    </tr>\n",
       "  </thead>\n",
       "  <tbody>\n",
       "    <tr>\n",
       "      <td>0</td>\n",
       "      <td>0.979810</td>\n",
       "      <td>0.309610</td>\n",
       "      <td>0.910014</td>\n",
       "      <td>01:35</td>\n",
       "    </tr>\n",
       "  </tbody>\n",
       "</table>"
      ],
      "text/plain": [
       "<IPython.core.display.HTML object>"
      ]
     },
     "metadata": {},
     "output_type": "display_data"
    },
    {
     "data": {
      "text/html": [
       "\n",
       "<style>\n",
       "    /* Turns off some styling */\n",
       "    progress {\n",
       "        /* gets rid of default border in Firefox and Opera. */\n",
       "        border: none;\n",
       "        /* Needs to be in here for Safari polyfill so background images work as expected. */\n",
       "        background-size: auto;\n",
       "    }\n",
       "    progress:not([value]), progress:not([value])::-webkit-progress-bar {\n",
       "        background: repeating-linear-gradient(45deg, #7e7e7e, #7e7e7e 10px, #5c5c5c 10px, #5c5c5c 20px);\n",
       "    }\n",
       "    .progress-bar-interrupted, .progress-bar-interrupted::-webkit-progress-bar {\n",
       "        background: #F44336;\n",
       "    }\n",
       "</style>\n"
      ],
      "text/plain": [
       "<IPython.core.display.HTML object>"
      ]
     },
     "metadata": {},
     "output_type": "display_data"
    },
    {
     "data": {
      "text/html": [
       "<table border=\"1\" class=\"dataframe\">\n",
       "  <thead>\n",
       "    <tr style=\"text-align: left;\">\n",
       "      <th>epoch</th>\n",
       "      <th>train_loss</th>\n",
       "      <th>valid_loss</th>\n",
       "      <th>accuracy</th>\n",
       "      <th>time</th>\n",
       "    </tr>\n",
       "  </thead>\n",
       "  <tbody>\n",
       "    <tr>\n",
       "      <td>0</td>\n",
       "      <td>0.451637</td>\n",
       "      <td>0.237943</td>\n",
       "      <td>0.923545</td>\n",
       "      <td>01:40</td>\n",
       "    </tr>\n",
       "  </tbody>\n",
       "</table>"
      ],
      "text/plain": [
       "<IPython.core.display.HTML object>"
      ]
     },
     "metadata": {},
     "output_type": "display_data"
    }
   ],
   "source": [
    "# Instantiate another object learn from the vision learner class\n",
    "learn = vision_learner(dls, models.resnet50, metrics=accuracy)\n",
    "learn.fine_tune(1)"
   ]
  },
  {
   "cell_type": "code",
   "execution_count": 9,
   "id": "353abbe9",
   "metadata": {
    "execution": {
     "iopub.execute_input": "2023-03-06T09:21:28.649252Z",
     "iopub.status.busy": "2023-03-06T09:21:28.648291Z",
     "iopub.status.idle": "2023-03-06T09:21:28.654298Z",
     "shell.execute_reply": "2023-03-06T09:21:28.653201Z"
    },
    "papermill": {
     "duration": 0.015778,
     "end_time": "2023-03-06T09:21:28.656452",
     "exception": false,
     "start_time": "2023-03-06T09:21:28.640674",
     "status": "completed"
    },
    "tags": []
   },
   "outputs": [],
   "source": [
    "learn.path = Path('.')\n"
   ]
  },
  {
   "cell_type": "code",
   "execution_count": 10,
   "id": "6eb434ef",
   "metadata": {
    "execution": {
     "iopub.execute_input": "2023-03-06T09:21:28.669137Z",
     "iopub.status.busy": "2023-03-06T09:21:28.668821Z",
     "iopub.status.idle": "2023-03-06T09:21:28.900142Z",
     "shell.execute_reply": "2023-03-06T09:21:28.899056Z"
    },
    "papermill": {
     "duration": 0.240995,
     "end_time": "2023-03-06T09:21:28.902985",
     "exception": false,
     "start_time": "2023-03-06T09:21:28.661990",
     "status": "completed"
    },
    "tags": []
   },
   "outputs": [],
   "source": [
    "learn.export(fname='/kaggle/working/breedclassifiermodel.pkl',pickle_protocol=2)"
   ]
  },
  {
   "cell_type": "code",
   "execution_count": 11,
   "id": "06c12ad6",
   "metadata": {
    "execution": {
     "iopub.execute_input": "2023-03-06T09:21:28.918281Z",
     "iopub.status.busy": "2023-03-06T09:21:28.916517Z",
     "iopub.status.idle": "2023-03-06T09:21:29.011316Z",
     "shell.execute_reply": "2023-03-06T09:21:29.010216Z"
    },
    "papermill": {
     "duration": 0.104505,
     "end_time": "2023-03-06T09:21:29.014051",
     "exception": false,
     "start_time": "2023-03-06T09:21:28.909546",
     "status": "completed"
    },
    "tags": []
   },
   "outputs": [],
   "source": [
    "learn = load_learner('breedclassifiermodel.pkl')"
   ]
  },
  {
   "cell_type": "code",
   "execution_count": 12,
   "id": "285b4572",
   "metadata": {
    "execution": {
     "iopub.execute_input": "2023-03-06T09:21:29.027830Z",
     "iopub.status.busy": "2023-03-06T09:21:29.027473Z",
     "iopub.status.idle": "2023-03-06T09:21:29.034949Z",
     "shell.execute_reply": "2023-03-06T09:21:29.034003Z"
    },
    "papermill": {
     "duration": 0.017192,
     "end_time": "2023-03-06T09:21:29.037257",
     "exception": false,
     "start_time": "2023-03-06T09:21:29.020065",
     "status": "completed"
    },
    "tags": []
   },
   "outputs": [],
   "source": [
    "#Defining a prediction function for the model\n",
    "labels = learn.dls.vocab\n",
    "def predict(img):\n",
    "    img = PILImage.create(img)\n",
    "    pred,pred_idx,probs = learn.predict(img)\n",
    "    return {labels[i]: float(probs[i]) for i in range(len(labels))}"
   ]
  },
  {
   "cell_type": "code",
   "execution_count": 13,
   "id": "40b69701",
   "metadata": {
    "execution": {
     "iopub.execute_input": "2023-03-06T09:21:29.051407Z",
     "iopub.status.busy": "2023-03-06T09:21:29.049724Z",
     "iopub.status.idle": "2023-03-06T09:21:41.168853Z",
     "shell.execute_reply": "2023-03-06T09:21:41.167319Z"
    },
    "papermill": {
     "duration": 12.131998,
     "end_time": "2023-03-06T09:21:41.174917",
     "exception": false,
     "start_time": "2023-03-06T09:21:29.042919",
     "status": "completed"
    },
    "tags": []
   },
   "outputs": [
    {
     "name": "stdout",
     "output_type": "stream",
     "text": [
      "Running on local URL:  http://127.0.0.1:7860\n",
      "Running on public URL: https://00f03b23c1be8e8a3a.gradio.live\n",
      "\n",
      "This share link expires in 72 hours. For free permanent hosting and GPU upgrades (NEW!), check out Spaces: https://huggingface.co/spaces\n"
     ]
    },
    {
     "data": {
      "text/html": [
       "<div><iframe src=\"https://00f03b23c1be8e8a3a.gradio.live\" width=\"100%\" height=\"500\" allow=\"autoplay; camera; microphone; clipboard-read; clipboard-write;\" frameborder=\"0\" allowfullscreen></iframe></div>"
      ],
      "text/plain": [
       "<IPython.core.display.HTML object>"
      ]
     },
     "metadata": {},
     "output_type": "display_data"
    },
    {
     "data": {
      "text/plain": []
     },
     "execution_count": 13,
     "metadata": {},
     "output_type": "execute_result"
    }
   ],
   "source": [
    "#importing gradio and creating the interface\n",
    "import gradio as gr\n",
    "gr.Interface(fn=predict, inputs=gr.Image(shape=(512, 512)), outputs=gr.Label(num_top_classes=3)).launch(share=True)"
   ]
  },
  {
   "cell_type": "markdown",
   "id": "6d2d83d7",
   "metadata": {
    "papermill": {
     "duration": 0.006504,
     "end_time": "2023-03-06T09:21:41.194090",
     "exception": false,
     "start_time": "2023-03-06T09:21:41.187586",
     "status": "completed"
    },
    "tags": []
   },
   "source": [
    "All of these features are arguments for the instantiation of the Interface class."
   ]
  },
  {
   "cell_type": "code",
   "execution_count": 14,
   "id": "d2853982",
   "metadata": {
    "execution": {
     "iopub.execute_input": "2023-03-06T09:21:41.210991Z",
     "iopub.status.busy": "2023-03-06T09:21:41.209077Z",
     "iopub.status.idle": "2023-03-06T09:21:41.216389Z",
     "shell.execute_reply": "2023-03-06T09:21:41.215341Z"
    },
    "papermill": {
     "duration": 0.018062,
     "end_time": "2023-03-06T09:21:41.218728",
     "exception": false,
     "start_time": "2023-03-06T09:21:41.200666",
     "status": "completed"
    },
    "tags": []
   },
   "outputs": [],
   "source": [
    "title = \"Pet Breed Classifier\"\n",
    "\n",
    "description = \"A pet breed classifier trained on the Oxford Pets dataset with fastai. Created as a demo for Gradio and HuggingFace Spaces.\"\n",
    "\n",
    "article = \"<p style='text-align: center'><a href='https://tmabraham.github.io/blog/gradio_hf_spaces_tutorial' target='_blank'>Blog post</a></p>\"\n",
    "\n",
    "examples = [Path('/root/.fastai/data/oxford-iiit-pet/images/Abyssinian_1.jpg')]"
   ]
  },
  {
   "cell_type": "markdown",
   "id": "a38a424c",
   "metadata": {
    "papermill": {
     "duration": 0.005627,
     "end_time": "2023-03-06T09:21:41.230477",
     "exception": false,
     "start_time": "2023-03-06T09:21:41.224850",
     "status": "completed"
    },
    "tags": []
   },
   "source": [
    "Another interesting feature that Gradio has is the ability for interpretation so that users can understand what parts of the input are responsible for the output. We'll use the default interpretation function provided by Gradio"
   ]
  },
  {
   "cell_type": "code",
   "execution_count": 15,
   "id": "3d8abefd",
   "metadata": {
    "execution": {
     "iopub.execute_input": "2023-03-06T09:21:41.243714Z",
     "iopub.status.busy": "2023-03-06T09:21:41.242649Z",
     "iopub.status.idle": "2023-03-06T09:21:41.247650Z",
     "shell.execute_reply": "2023-03-06T09:21:41.246644Z"
    },
    "papermill": {
     "duration": 0.013582,
     "end_time": "2023-03-06T09:21:41.249779",
     "exception": false,
     "start_time": "2023-03-06T09:21:41.236197",
     "status": "completed"
    },
    "tags": []
   },
   "outputs": [],
   "source": [
    "# Note that the default interpretation function needs scikit-image to be installed.\n",
    "interpretation ='default'"
   ]
  },
  {
   "cell_type": "markdown",
   "id": "02e80939",
   "metadata": {
    "papermill": {
     "duration": 0.00546,
     "end_time": "2023-03-06T09:21:41.261001",
     "exception": false,
     "start_time": "2023-03-06T09:21:41.255541",
     "status": "completed"
    },
    "tags": []
   },
   "source": [
    "Gradio also supports serving of inference requests with a queue. This can be helpful when your app receives a significant amount of traffic. We'll enable a queue here:"
   ]
  },
  {
   "cell_type": "code",
   "execution_count": 16,
   "id": "6c6926a8",
   "metadata": {
    "execution": {
     "iopub.execute_input": "2023-03-06T09:21:41.278142Z",
     "iopub.status.busy": "2023-03-06T09:21:41.277831Z",
     "iopub.status.idle": "2023-03-06T09:21:41.282112Z",
     "shell.execute_reply": "2023-03-06T09:21:41.281093Z"
    },
    "papermill": {
     "duration": 0.016388,
     "end_time": "2023-03-06T09:21:41.284519",
     "exception": false,
     "start_time": "2023-03-06T09:21:41.268131",
     "status": "completed"
    },
    "tags": []
   },
   "outputs": [],
   "source": [
    "enable_queue=True"
   ]
  },
  {
   "cell_type": "code",
   "execution_count": 17,
   "id": "00bf4cdd",
   "metadata": {
    "execution": {
     "iopub.execute_input": "2023-03-06T09:21:41.298343Z",
     "iopub.status.busy": "2023-03-06T09:21:41.297475Z",
     "iopub.status.idle": "2023-03-06T09:21:48.315515Z",
     "shell.execute_reply": "2023-03-06T09:21:48.313976Z"
    },
    "papermill": {
     "duration": 7.027105,
     "end_time": "2023-03-06T09:21:48.317769",
     "exception": false,
     "start_time": "2023-03-06T09:21:41.290664",
     "status": "completed"
    },
    "tags": []
   },
   "outputs": [
    {
     "name": "stdout",
     "output_type": "stream",
     "text": [
      "Running on local URL:  http://127.0.0.1:7861\n",
      "Running on public URL: https://610eea6a6b02527b6d.gradio.live\n",
      "\n",
      "This share link expires in 72 hours. For free permanent hosting and GPU upgrades (NEW!), check out Spaces: https://huggingface.co/spaces\n"
     ]
    },
    {
     "data": {
      "text/html": [
       "<div><iframe src=\"https://610eea6a6b02527b6d.gradio.live\" width=\"100%\" height=\"500\" allow=\"autoplay; camera; microphone; clipboard-read; clipboard-write;\" frameborder=\"0\" allowfullscreen></iframe></div>"
      ],
      "text/plain": [
       "<IPython.core.display.HTML object>"
      ]
     },
     "metadata": {},
     "output_type": "display_data"
    },
    {
     "data": {
      "text/plain": []
     },
     "execution_count": 17,
     "metadata": {},
     "output_type": "execute_result"
    }
   ],
   "source": [
    "#rerunning the Interface method with the additional arguements\n",
    "gr.Interface(\n",
    "    fn=predict,\n",
    "    inputs=gr.Image(shape=(512, 512)),\n",
    "    outputs=gr.Label(num_top_classes=3),\n",
    "    title=title,\n",
    "    description=description,\n",
    "    article=article,\n",
    "    examples=examples,\n",
    "    interpretation=interpretation,\n",
    "    ).launch(share=True, enable_queue=enable_queue)\n"
   ]
  },
  {
   "cell_type": "code",
   "execution_count": null,
   "id": "d10857de",
   "metadata": {
    "papermill": {
     "duration": 0.005907,
     "end_time": "2023-03-06T09:21:48.329720",
     "exception": false,
     "start_time": "2023-03-06T09:21:48.323813",
     "status": "completed"
    },
    "tags": []
   },
   "outputs": [],
   "source": []
  }
 ],
 "metadata": {
  "kernelspec": {
   "display_name": "Python 3",
   "language": "python",
   "name": "python3"
  },
  "language_info": {
   "codemirror_mode": {
    "name": "ipython",
    "version": 3
   },
   "file_extension": ".py",
   "mimetype": "text/x-python",
   "name": "python",
   "nbconvert_exporter": "python",
   "pygments_lexer": "ipython3",
   "version": "3.7.12"
  },
  "papermill": {
   "default_parameters": {},
   "duration": 299.499617,
   "end_time": "2023-03-06T09:21:51.259153",
   "environment_variables": {},
   "exception": null,
   "input_path": "__notebook__.ipynb",
   "output_path": "__notebook__.ipynb",
   "parameters": {},
   "start_time": "2023-03-06T09:16:51.759536",
   "version": "2.4.0"
  },
  "widgets": {
   "application/vnd.jupyter.widget-state+json": {
    "state": {
     "0d5a372b043f4078813460f0132f557d": {
      "model_module": "@jupyter-widgets/base",
      "model_module_version": "1.2.0",
      "model_name": "LayoutModel",
      "state": {
       "_model_module": "@jupyter-widgets/base",
       "_model_module_version": "1.2.0",
       "_model_name": "LayoutModel",
       "_view_count": null,
       "_view_module": "@jupyter-widgets/base",
       "_view_module_version": "1.2.0",
       "_view_name": "LayoutView",
       "align_content": null,
       "align_items": null,
       "align_self": null,
       "border": null,
       "bottom": null,
       "display": null,
       "flex": null,
       "flex_flow": null,
       "grid_area": null,
       "grid_auto_columns": null,
       "grid_auto_flow": null,
       "grid_auto_rows": null,
       "grid_column": null,
       "grid_gap": null,
       "grid_row": null,
       "grid_template_areas": null,
       "grid_template_columns": null,
       "grid_template_rows": null,
       "height": null,
       "justify_content": null,
       "justify_items": null,
       "left": null,
       "margin": null,
       "max_height": null,
       "max_width": null,
       "min_height": null,
       "min_width": null,
       "object_fit": null,
       "object_position": null,
       "order": null,
       "overflow": null,
       "overflow_x": null,
       "overflow_y": null,
       "padding": null,
       "right": null,
       "top": null,
       "visibility": null,
       "width": null
      }
     },
     "3348156f8d454ca8b1aead6dbd91b3f7": {
      "model_module": "@jupyter-widgets/base",
      "model_module_version": "1.2.0",
      "model_name": "LayoutModel",
      "state": {
       "_model_module": "@jupyter-widgets/base",
       "_model_module_version": "1.2.0",
       "_model_name": "LayoutModel",
       "_view_count": null,
       "_view_module": "@jupyter-widgets/base",
       "_view_module_version": "1.2.0",
       "_view_name": "LayoutView",
       "align_content": null,
       "align_items": null,
       "align_self": null,
       "border": null,
       "bottom": null,
       "display": null,
       "flex": null,
       "flex_flow": null,
       "grid_area": null,
       "grid_auto_columns": null,
       "grid_auto_flow": null,
       "grid_auto_rows": null,
       "grid_column": null,
       "grid_gap": null,
       "grid_row": null,
       "grid_template_areas": null,
       "grid_template_columns": null,
       "grid_template_rows": null,
       "height": null,
       "justify_content": null,
       "justify_items": null,
       "left": null,
       "margin": null,
       "max_height": null,
       "max_width": null,
       "min_height": null,
       "min_width": null,
       "object_fit": null,
       "object_position": null,
       "order": null,
       "overflow": null,
       "overflow_x": null,
       "overflow_y": null,
       "padding": null,
       "right": null,
       "top": null,
       "visibility": null,
       "width": null
      }
     },
     "3c026ab127b24a168810535ced12a0a2": {
      "model_module": "@jupyter-widgets/controls",
      "model_module_version": "1.5.0",
      "model_name": "ProgressStyleModel",
      "state": {
       "_model_module": "@jupyter-widgets/controls",
       "_model_module_version": "1.5.0",
       "_model_name": "ProgressStyleModel",
       "_view_count": null,
       "_view_module": "@jupyter-widgets/base",
       "_view_module_version": "1.2.0",
       "_view_name": "StyleView",
       "bar_color": null,
       "description_width": ""
      }
     },
     "4eae881a94c946a8af481b72100367ac": {
      "model_module": "@jupyter-widgets/controls",
      "model_module_version": "1.5.0",
      "model_name": "DescriptionStyleModel",
      "state": {
       "_model_module": "@jupyter-widgets/controls",
       "_model_module_version": "1.5.0",
       "_model_name": "DescriptionStyleModel",
       "_view_count": null,
       "_view_module": "@jupyter-widgets/base",
       "_view_module_version": "1.2.0",
       "_view_name": "StyleView",
       "description_width": ""
      }
     },
     "4fa71807be2d44c2a2b4c44cbf5a77d1": {
      "model_module": "@jupyter-widgets/controls",
      "model_module_version": "1.5.0",
      "model_name": "HBoxModel",
      "state": {
       "_dom_classes": [],
       "_model_module": "@jupyter-widgets/controls",
       "_model_module_version": "1.5.0",
       "_model_name": "HBoxModel",
       "_view_count": null,
       "_view_module": "@jupyter-widgets/controls",
       "_view_module_version": "1.5.0",
       "_view_name": "HBoxView",
       "box_style": "",
       "children": [
        "IPY_MODEL_a2f96aeddc284f54acb4f9be470993f1",
        "IPY_MODEL_ffee38cacec24123abcac8d78decf345",
        "IPY_MODEL_f6fae6ec14e744ee9077431fe5ce3f62"
       ],
       "layout": "IPY_MODEL_3348156f8d454ca8b1aead6dbd91b3f7"
      }
     },
     "a2f96aeddc284f54acb4f9be470993f1": {
      "model_module": "@jupyter-widgets/controls",
      "model_module_version": "1.5.0",
      "model_name": "HTMLModel",
      "state": {
       "_dom_classes": [],
       "_model_module": "@jupyter-widgets/controls",
       "_model_module_version": "1.5.0",
       "_model_name": "HTMLModel",
       "_view_count": null,
       "_view_module": "@jupyter-widgets/controls",
       "_view_module_version": "1.5.0",
       "_view_name": "HTMLView",
       "description": "",
       "description_tooltip": null,
       "layout": "IPY_MODEL_d157bca2b4fd458dae772cfa6c0e6de3",
       "placeholder": "​",
       "style": "IPY_MODEL_b407093842184300854ea3ec4fc549ec",
       "value": "100%"
      }
     },
     "b407093842184300854ea3ec4fc549ec": {
      "model_module": "@jupyter-widgets/controls",
      "model_module_version": "1.5.0",
      "model_name": "DescriptionStyleModel",
      "state": {
       "_model_module": "@jupyter-widgets/controls",
       "_model_module_version": "1.5.0",
       "_model_name": "DescriptionStyleModel",
       "_view_count": null,
       "_view_module": "@jupyter-widgets/base",
       "_view_module_version": "1.2.0",
       "_view_name": "StyleView",
       "description_width": ""
      }
     },
     "bf7815fd41354a318cd8c99729dfef70": {
      "model_module": "@jupyter-widgets/base",
      "model_module_version": "1.2.0",
      "model_name": "LayoutModel",
      "state": {
       "_model_module": "@jupyter-widgets/base",
       "_model_module_version": "1.2.0",
       "_model_name": "LayoutModel",
       "_view_count": null,
       "_view_module": "@jupyter-widgets/base",
       "_view_module_version": "1.2.0",
       "_view_name": "LayoutView",
       "align_content": null,
       "align_items": null,
       "align_self": null,
       "border": null,
       "bottom": null,
       "display": null,
       "flex": null,
       "flex_flow": null,
       "grid_area": null,
       "grid_auto_columns": null,
       "grid_auto_flow": null,
       "grid_auto_rows": null,
       "grid_column": null,
       "grid_gap": null,
       "grid_row": null,
       "grid_template_areas": null,
       "grid_template_columns": null,
       "grid_template_rows": null,
       "height": null,
       "justify_content": null,
       "justify_items": null,
       "left": null,
       "margin": null,
       "max_height": null,
       "max_width": null,
       "min_height": null,
       "min_width": null,
       "object_fit": null,
       "object_position": null,
       "order": null,
       "overflow": null,
       "overflow_x": null,
       "overflow_y": null,
       "padding": null,
       "right": null,
       "top": null,
       "visibility": null,
       "width": null
      }
     },
     "d157bca2b4fd458dae772cfa6c0e6de3": {
      "model_module": "@jupyter-widgets/base",
      "model_module_version": "1.2.0",
      "model_name": "LayoutModel",
      "state": {
       "_model_module": "@jupyter-widgets/base",
       "_model_module_version": "1.2.0",
       "_model_name": "LayoutModel",
       "_view_count": null,
       "_view_module": "@jupyter-widgets/base",
       "_view_module_version": "1.2.0",
       "_view_name": "LayoutView",
       "align_content": null,
       "align_items": null,
       "align_self": null,
       "border": null,
       "bottom": null,
       "display": null,
       "flex": null,
       "flex_flow": null,
       "grid_area": null,
       "grid_auto_columns": null,
       "grid_auto_flow": null,
       "grid_auto_rows": null,
       "grid_column": null,
       "grid_gap": null,
       "grid_row": null,
       "grid_template_areas": null,
       "grid_template_columns": null,
       "grid_template_rows": null,
       "height": null,
       "justify_content": null,
       "justify_items": null,
       "left": null,
       "margin": null,
       "max_height": null,
       "max_width": null,
       "min_height": null,
       "min_width": null,
       "object_fit": null,
       "object_position": null,
       "order": null,
       "overflow": null,
       "overflow_x": null,
       "overflow_y": null,
       "padding": null,
       "right": null,
       "top": null,
       "visibility": null,
       "width": null
      }
     },
     "f6fae6ec14e744ee9077431fe5ce3f62": {
      "model_module": "@jupyter-widgets/controls",
      "model_module_version": "1.5.0",
      "model_name": "HTMLModel",
      "state": {
       "_dom_classes": [],
       "_model_module": "@jupyter-widgets/controls",
       "_model_module_version": "1.5.0",
       "_model_name": "HTMLModel",
       "_view_count": null,
       "_view_module": "@jupyter-widgets/controls",
       "_view_module_version": "1.5.0",
       "_view_name": "HTMLView",
       "description": "",
       "description_tooltip": null,
       "layout": "IPY_MODEL_bf7815fd41354a318cd8c99729dfef70",
       "placeholder": "​",
       "style": "IPY_MODEL_4eae881a94c946a8af481b72100367ac",
       "value": " 97.8M/97.8M [00:03&lt;00:00, 31.2MB/s]"
      }
     },
     "ffee38cacec24123abcac8d78decf345": {
      "model_module": "@jupyter-widgets/controls",
      "model_module_version": "1.5.0",
      "model_name": "FloatProgressModel",
      "state": {
       "_dom_classes": [],
       "_model_module": "@jupyter-widgets/controls",
       "_model_module_version": "1.5.0",
       "_model_name": "FloatProgressModel",
       "_view_count": null,
       "_view_module": "@jupyter-widgets/controls",
       "_view_module_version": "1.5.0",
       "_view_name": "ProgressView",
       "bar_style": "success",
       "description": "",
       "description_tooltip": null,
       "layout": "IPY_MODEL_0d5a372b043f4078813460f0132f557d",
       "max": 102530333.0,
       "min": 0.0,
       "orientation": "horizontal",
       "style": "IPY_MODEL_3c026ab127b24a168810535ced12a0a2",
       "value": 102530333.0
      }
     }
    },
    "version_major": 2,
    "version_minor": 0
   }
  }
 },
 "nbformat": 4,
 "nbformat_minor": 5
}
