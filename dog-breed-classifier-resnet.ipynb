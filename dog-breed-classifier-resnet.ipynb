{
 "cells": [
  {
   "cell_type": "code",
   "execution_count": 1,
   "id": "c0a89e42",
   "metadata": {
    "execution": {
     "iopub.execute_input": "2023-03-13T06:10:18.644504Z",
     "iopub.status.busy": "2023-03-13T06:10:18.643987Z",
     "iopub.status.idle": "2023-03-13T06:10:34.773763Z",
     "shell.execute_reply": "2023-03-13T06:10:34.772290Z"
    },
    "papermill": {
     "duration": 16.140325,
     "end_time": "2023-03-13T06:10:34.776774",
     "exception": false,
     "start_time": "2023-03-13T06:10:18.636449",
     "status": "completed"
    },
    "tags": []
   },
   "outputs": [],
   "source": [
    "!pip install -Uqq gradio"
   ]
  },
  {
   "cell_type": "code",
   "execution_count": 2,
   "id": "6b8cfe75",
   "metadata": {
    "execution": {
     "iopub.execute_input": "2023-03-13T06:10:34.789647Z",
     "iopub.status.busy": "2023-03-13T06:10:34.788630Z",
     "iopub.status.idle": "2023-03-13T06:10:45.458518Z",
     "shell.execute_reply": "2023-03-13T06:10:45.457004Z"
    },
    "papermill": {
     "duration": 10.679134,
     "end_time": "2023-03-13T06:10:45.461354",
     "exception": false,
     "start_time": "2023-03-13T06:10:34.782220",
     "status": "completed"
    },
    "tags": []
   },
   "outputs": [],
   "source": [
    "!pip install -Uqq scikit-image"
   ]
  },
  {
   "cell_type": "code",
   "execution_count": 3,
   "id": "fcef2574",
   "metadata": {
    "execution": {
     "iopub.execute_input": "2023-03-13T06:10:45.472847Z",
     "iopub.status.busy": "2023-03-13T06:10:45.472125Z",
     "iopub.status.idle": "2023-03-13T06:10:53.691341Z",
     "shell.execute_reply": "2023-03-13T06:10:53.690182Z"
    },
    "papermill": {
     "duration": 8.22881,
     "end_time": "2023-03-13T06:10:53.694834",
     "exception": false,
     "start_time": "2023-03-13T06:10:45.466024",
     "status": "completed"
    },
    "tags": []
   },
   "outputs": [],
   "source": [
    "from fastai.vision.all import *"
   ]
  },
  {
   "cell_type": "code",
   "execution_count": 4,
   "id": "2233d9f4",
   "metadata": {
    "execution": {
     "iopub.execute_input": "2023-03-13T06:10:53.717780Z",
     "iopub.status.busy": "2023-03-13T06:10:53.717261Z",
     "iopub.status.idle": "2023-03-13T06:10:53.969111Z",
     "shell.execute_reply": "2023-03-13T06:10:53.967992Z"
    },
    "papermill": {
     "duration": 0.264239,
     "end_time": "2023-03-13T06:10:53.971961",
     "exception": false,
     "start_time": "2023-03-13T06:10:53.707722",
     "status": "completed"
    },
    "tags": []
   },
   "outputs": [],
   "source": [
    "import skimage"
   ]
  },
  {
   "cell_type": "code",
   "execution_count": 5,
   "id": "58983f72",
   "metadata": {
    "execution": {
     "iopub.execute_input": "2023-03-13T06:10:53.982891Z",
     "iopub.status.busy": "2023-03-13T06:10:53.982581Z",
     "iopub.status.idle": "2023-03-13T06:11:15.346875Z",
     "shell.execute_reply": "2023-03-13T06:11:15.345781Z"
    },
    "papermill": {
     "duration": 21.372486,
     "end_time": "2023-03-13T06:11:15.349133",
     "exception": false,
     "start_time": "2023-03-13T06:10:53.976647",
     "status": "completed"
    },
    "tags": []
   },
   "outputs": [
    {
     "data": {
      "text/html": [
       "\n",
       "<style>\n",
       "    /* Turns off some styling */\n",
       "    progress {\n",
       "        /* gets rid of default border in Firefox and Opera. */\n",
       "        border: none;\n",
       "        /* Needs to be in here for Safari polyfill so background images work as expected. */\n",
       "        background-size: auto;\n",
       "    }\n",
       "    progress:not([value]), progress:not([value])::-webkit-progress-bar {\n",
       "        background: repeating-linear-gradient(45deg, #7e7e7e, #7e7e7e 10px, #5c5c5c 10px, #5c5c5c 20px);\n",
       "    }\n",
       "    .progress-bar-interrupted, .progress-bar-interrupted::-webkit-progress-bar {\n",
       "        background: #F44336;\n",
       "    }\n",
       "</style>\n"
      ],
      "text/plain": [
       "<IPython.core.display.HTML object>"
      ]
     },
     "metadata": {},
     "output_type": "display_data"
    },
    {
     "data": {
      "text/html": [
       "\n",
       "    <div>\n",
       "      <progress value='811712512' class='' max='811706944' style='width:300px; height:20px; vertical-align: middle;'></progress>\n",
       "      100.00% [811712512/811706944 00:09&lt;00:00]\n",
       "    </div>\n",
       "    "
      ],
      "text/plain": [
       "<IPython.core.display.HTML object>"
      ]
     },
     "metadata": {},
     "output_type": "display_data"
    },
    {
     "data": {
      "text/plain": [
       "(#2) [Path('/root/.fastai/data/oxford-iiit-pet/images'),Path('/root/.fastai/data/oxford-iiit-pet/annotations')]"
      ]
     },
     "execution_count": 5,
     "metadata": {},
     "output_type": "execute_result"
    }
   ],
   "source": [
    "# Import data through untar_data function which takes in URLs.\"dataset name\"\n",
    "path = untar_data(URLs.PETS)\n",
    "path.ls()"
   ]
  },
  {
   "cell_type": "code",
   "execution_count": 6,
   "id": "6bd815dd",
   "metadata": {
    "execution": {
     "iopub.execute_input": "2023-03-13T06:11:15.361449Z",
     "iopub.status.busy": "2023-03-13T06:11:15.360451Z",
     "iopub.status.idle": "2023-03-13T06:11:27.267653Z",
     "shell.execute_reply": "2023-03-13T06:11:27.266540Z"
    },
    "papermill": {
     "duration": 11.916481,
     "end_time": "2023-03-13T06:11:27.270932",
     "exception": false,
     "start_time": "2023-03-13T06:11:15.354451",
     "status": "completed"
    },
    "tags": []
   },
   "outputs": [],
   "source": [
    "# Instantiate data loaders object dls. this object contains all the images we will train model on\n",
    "dls = ImageDataLoaders.from_name_re(\n",
    "    path,\n",
    "    get_image_files(path/'images'),\n",
    "    pat='(.+)_\\d+.jpg',\n",
    "    item_tfms=Resize(460),\n",
    "    batch_tfms=aug_transforms(size=224, min_scale=0.75)\n",
    ")"
   ]
  },
  {
   "cell_type": "code",
   "execution_count": 7,
   "id": "ca1662eb",
   "metadata": {
    "execution": {
     "iopub.execute_input": "2023-03-13T06:11:27.282528Z",
     "iopub.status.busy": "2023-03-13T06:11:27.282196Z",
     "iopub.status.idle": "2023-03-13T06:11:27.288817Z",
     "shell.execute_reply": "2023-03-13T06:11:27.287704Z"
    },
    "papermill": {
     "duration": 0.015934,
     "end_time": "2023-03-13T06:11:27.292231",
     "exception": false,
     "start_time": "2023-03-13T06:11:27.276297",
     "status": "completed"
    },
    "tags": []
   },
   "outputs": [
    {
     "data": {
      "text/plain": [
       "Path('/root/.fastai/data/oxford-iiit-pet')"
      ]
     },
     "execution_count": 7,
     "metadata": {},
     "output_type": "execute_result"
    }
   ],
   "source": [
    "path"
   ]
  },
  {
   "cell_type": "code",
   "execution_count": 8,
   "id": "ce6a260b",
   "metadata": {
    "execution": {
     "iopub.execute_input": "2023-03-13T06:11:27.303175Z",
     "iopub.status.busy": "2023-03-13T06:11:27.302879Z",
     "iopub.status.idle": "2023-03-13T06:14:38.943810Z",
     "shell.execute_reply": "2023-03-13T06:14:38.942646Z"
    },
    "papermill": {
     "duration": 191.649513,
     "end_time": "2023-03-13T06:14:38.946628",
     "exception": false,
     "start_time": "2023-03-13T06:11:27.297115",
     "status": "completed"
    },
    "tags": []
   },
   "outputs": [
    {
     "name": "stderr",
     "output_type": "stream",
     "text": [
      "/opt/conda/lib/python3.7/site-packages/torchvision/models/_utils.py:209: UserWarning: The parameter 'pretrained' is deprecated since 0.13 and may be removed in the future, please use 'weights' instead.\n",
      "  f\"The parameter '{pretrained_param}' is deprecated since 0.13 and may be removed in the future, \"\n",
      "/opt/conda/lib/python3.7/site-packages/torchvision/models/_utils.py:223: UserWarning: Arguments other than a weight enum or `None` for 'weights' are deprecated since 0.13 and may be removed in the future. The current behavior is equivalent to passing `weights=ResNet50_Weights.IMAGENET1K_V1`. You can also use `weights=ResNet50_Weights.DEFAULT` to get the most up-to-date weights.\n",
      "  warnings.warn(msg)\n",
      "Downloading: \"https://download.pytorch.org/models/resnet50-0676ba61.pth\" to /root/.cache/torch/hub/checkpoints/resnet50-0676ba61.pth\n"
     ]
    },
    {
     "data": {
      "application/vnd.jupyter.widget-view+json": {
       "model_id": "ee63bb51d1884746b959cb592e7d3d82",
       "version_major": 2,
       "version_minor": 0
      },
      "text/plain": [
       "  0%|          | 0.00/97.8M [00:00<?, ?B/s]"
      ]
     },
     "metadata": {},
     "output_type": "display_data"
    },
    {
     "data": {
      "text/html": [
       "\n",
       "<style>\n",
       "    /* Turns off some styling */\n",
       "    progress {\n",
       "        /* gets rid of default border in Firefox and Opera. */\n",
       "        border: none;\n",
       "        /* Needs to be in here for Safari polyfill so background images work as expected. */\n",
       "        background-size: auto;\n",
       "    }\n",
       "    progress:not([value]), progress:not([value])::-webkit-progress-bar {\n",
       "        background: repeating-linear-gradient(45deg, #7e7e7e, #7e7e7e 10px, #5c5c5c 10px, #5c5c5c 20px);\n",
       "    }\n",
       "    .progress-bar-interrupted, .progress-bar-interrupted::-webkit-progress-bar {\n",
       "        background: #F44336;\n",
       "    }\n",
       "</style>\n"
      ],
      "text/plain": [
       "<IPython.core.display.HTML object>"
      ]
     },
     "metadata": {},
     "output_type": "display_data"
    },
    {
     "data": {
      "text/html": [
       "<table border=\"1\" class=\"dataframe\">\n",
       "  <thead>\n",
       "    <tr style=\"text-align: left;\">\n",
       "      <th>epoch</th>\n",
       "      <th>train_loss</th>\n",
       "      <th>valid_loss</th>\n",
       "      <th>accuracy</th>\n",
       "      <th>time</th>\n",
       "    </tr>\n",
       "  </thead>\n",
       "  <tbody>\n",
       "    <tr>\n",
       "      <td>0</td>\n",
       "      <td>0.945498</td>\n",
       "      <td>0.379571</td>\n",
       "      <td>0.895129</td>\n",
       "      <td>01:33</td>\n",
       "    </tr>\n",
       "  </tbody>\n",
       "</table>"
      ],
      "text/plain": [
       "<IPython.core.display.HTML object>"
      ]
     },
     "metadata": {},
     "output_type": "display_data"
    },
    {
     "data": {
      "text/html": [
       "\n",
       "<style>\n",
       "    /* Turns off some styling */\n",
       "    progress {\n",
       "        /* gets rid of default border in Firefox and Opera. */\n",
       "        border: none;\n",
       "        /* Needs to be in here for Safari polyfill so background images work as expected. */\n",
       "        background-size: auto;\n",
       "    }\n",
       "    progress:not([value]), progress:not([value])::-webkit-progress-bar {\n",
       "        background: repeating-linear-gradient(45deg, #7e7e7e, #7e7e7e 10px, #5c5c5c 10px, #5c5c5c 20px);\n",
       "    }\n",
       "    .progress-bar-interrupted, .progress-bar-interrupted::-webkit-progress-bar {\n",
       "        background: #F44336;\n",
       "    }\n",
       "</style>\n"
      ],
      "text/plain": [
       "<IPython.core.display.HTML object>"
      ]
     },
     "metadata": {},
     "output_type": "display_data"
    },
    {
     "data": {
      "text/html": [
       "<table border=\"1\" class=\"dataframe\">\n",
       "  <thead>\n",
       "    <tr style=\"text-align: left;\">\n",
       "      <th>epoch</th>\n",
       "      <th>train_loss</th>\n",
       "      <th>valid_loss</th>\n",
       "      <th>accuracy</th>\n",
       "      <th>time</th>\n",
       "    </tr>\n",
       "  </thead>\n",
       "  <tbody>\n",
       "    <tr>\n",
       "      <td>0</td>\n",
       "      <td>0.431820</td>\n",
       "      <td>0.316653</td>\n",
       "      <td>0.906631</td>\n",
       "      <td>01:36</td>\n",
       "    </tr>\n",
       "  </tbody>\n",
       "</table>"
      ],
      "text/plain": [
       "<IPython.core.display.HTML object>"
      ]
     },
     "metadata": {},
     "output_type": "display_data"
    }
   ],
   "source": [
    "# Instantiate another object learn from the vision learner class\n",
    "learn = vision_learner(dls, models.resnet50, metrics=accuracy)\n",
    "learn.fine_tune(1)"
   ]
  },
  {
   "cell_type": "code",
   "execution_count": 9,
   "id": "bc68edd5",
   "metadata": {
    "execution": {
     "iopub.execute_input": "2023-03-13T06:14:38.960022Z",
     "iopub.status.busy": "2023-03-13T06:14:38.959698Z",
     "iopub.status.idle": "2023-03-13T06:14:38.965028Z",
     "shell.execute_reply": "2023-03-13T06:14:38.963996Z"
    },
    "papermill": {
     "duration": 0.014986,
     "end_time": "2023-03-13T06:14:38.967409",
     "exception": false,
     "start_time": "2023-03-13T06:14:38.952423",
     "status": "completed"
    },
    "tags": []
   },
   "outputs": [],
   "source": [
    "learn.path = Path('.')"
   ]
  },
  {
   "cell_type": "code",
   "execution_count": 10,
   "id": "510a678c",
   "metadata": {
    "execution": {
     "iopub.execute_input": "2023-03-13T06:14:38.980535Z",
     "iopub.status.busy": "2023-03-13T06:14:38.980242Z",
     "iopub.status.idle": "2023-03-13T06:14:39.200301Z",
     "shell.execute_reply": "2023-03-13T06:14:39.199251Z"
    },
    "papermill": {
     "duration": 0.230235,
     "end_time": "2023-03-13T06:14:39.202984",
     "exception": false,
     "start_time": "2023-03-13T06:14:38.972749",
     "status": "completed"
    },
    "tags": []
   },
   "outputs": [],
   "source": [
    "learn.export(fname='/kaggle/working/breedclassifiermodel.pkl',pickle_protocol=2)"
   ]
  },
  {
   "cell_type": "code",
   "execution_count": 11,
   "id": "b737afbd",
   "metadata": {
    "execution": {
     "iopub.execute_input": "2023-03-13T06:14:39.216723Z",
     "iopub.status.busy": "2023-03-13T06:14:39.215818Z",
     "iopub.status.idle": "2023-03-13T06:14:39.304134Z",
     "shell.execute_reply": "2023-03-13T06:14:39.303022Z"
    },
    "papermill": {
     "duration": 0.09773,
     "end_time": "2023-03-13T06:14:39.306832",
     "exception": false,
     "start_time": "2023-03-13T06:14:39.209102",
     "status": "completed"
    },
    "tags": []
   },
   "outputs": [],
   "source": [
    "learn = load_learner('breedclassifiermodel.pkl')"
   ]
  },
  {
   "cell_type": "code",
   "execution_count": 12,
   "id": "04c594a1",
   "metadata": {
    "execution": {
     "iopub.execute_input": "2023-03-13T06:14:39.320276Z",
     "iopub.status.busy": "2023-03-13T06:14:39.319974Z",
     "iopub.status.idle": "2023-03-13T06:14:39.325895Z",
     "shell.execute_reply": "2023-03-13T06:14:39.324730Z"
    },
    "papermill": {
     "duration": 0.015405,
     "end_time": "2023-03-13T06:14:39.328195",
     "exception": false,
     "start_time": "2023-03-13T06:14:39.312790",
     "status": "completed"
    },
    "tags": []
   },
   "outputs": [],
   "source": [
    "#Defining a prediction function for the model\n",
    "labels = learn.dls.vocab\n",
    "def predict(img):\n",
    "    img = PILImage.create(img)\n",
    "    pred,pred_idx,probs = learn.predict(img)\n",
    "    return {labels[i]: float(probs[i]) for i in range(len(labels))}"
   ]
  },
  {
   "cell_type": "code",
   "execution_count": 13,
   "id": "c45127f3",
   "metadata": {
    "execution": {
     "iopub.execute_input": "2023-03-13T06:14:39.341352Z",
     "iopub.status.busy": "2023-03-13T06:14:39.341073Z",
     "iopub.status.idle": "2023-03-13T06:14:56.525255Z",
     "shell.execute_reply": "2023-03-13T06:14:56.524069Z"
    },
    "papermill": {
     "duration": 17.193708,
     "end_time": "2023-03-13T06:14:56.527663",
     "exception": false,
     "start_time": "2023-03-13T06:14:39.333955",
     "status": "completed"
    },
    "tags": []
   },
   "outputs": [
    {
     "name": "stdout",
     "output_type": "stream",
     "text": [
      "Running on local URL:  http://127.0.0.1:7860\n",
      "Running on public URL: https://37b24625c99feea713.gradio.live\n",
      "\n",
      "This share link expires in 72 hours. For free permanent hosting and GPU upgrades (NEW!), check out Spaces: https://huggingface.co/spaces\n"
     ]
    },
    {
     "data": {
      "text/html": [
       "<div><iframe src=\"https://37b24625c99feea713.gradio.live\" width=\"100%\" height=\"500\" allow=\"autoplay; camera; microphone; clipboard-read; clipboard-write;\" frameborder=\"0\" allowfullscreen></iframe></div>"
      ],
      "text/plain": [
       "<IPython.core.display.HTML object>"
      ]
     },
     "metadata": {},
     "output_type": "display_data"
    },
    {
     "data": {
      "text/plain": []
     },
     "execution_count": 13,
     "metadata": {},
     "output_type": "execute_result"
    }
   ],
   "source": [
    "#importing gradio and creating the interface\n",
    "import gradio as gr\n",
    "gr.Interface(fn=predict, inputs=gr.Image(shape=(512, 512)), outputs=gr.Label(num_top_classes=3)).launch(share=True)"
   ]
  },
  {
   "cell_type": "code",
   "execution_count": 14,
   "id": "0139601a",
   "metadata": {
    "execution": {
     "iopub.execute_input": "2023-03-13T06:14:56.544216Z",
     "iopub.status.busy": "2023-03-13T06:14:56.541935Z",
     "iopub.status.idle": "2023-03-13T06:14:57.629832Z",
     "shell.execute_reply": "2023-03-13T06:14:57.628224Z"
    },
    "papermill": {
     "duration": 1.098813,
     "end_time": "2023-03-13T06:14:57.632626",
     "exception": false,
     "start_time": "2023-03-13T06:14:56.533813",
     "status": "completed"
    },
    "tags": []
   },
   "outputs": [],
   "source": [
    "# make sure to move your example image to the kaggle/working directory or errors will occur\n",
    "!mv /root/.fastai/data/oxford-iiit-pet/images/Abyssinian_1.jpg /kaggle/working/cat.jpg"
   ]
  },
  {
   "cell_type": "markdown",
   "id": "ac8433f3",
   "metadata": {
    "papermill": {
     "duration": 0.005557,
     "end_time": "2023-03-13T06:14:57.644488",
     "exception": false,
     "start_time": "2023-03-13T06:14:57.638931",
     "status": "completed"
    },
    "tags": []
   },
   "source": [
    "All of these features are arguments for the instantiation of the Interface class."
   ]
  },
  {
   "cell_type": "code",
   "execution_count": 15,
   "id": "c22c4fea",
   "metadata": {
    "execution": {
     "iopub.execute_input": "2023-03-13T06:14:57.659294Z",
     "iopub.status.busy": "2023-03-13T06:14:57.658349Z",
     "iopub.status.idle": "2023-03-13T06:14:57.664082Z",
     "shell.execute_reply": "2023-03-13T06:14:57.662916Z"
    },
    "papermill": {
     "duration": 0.015485,
     "end_time": "2023-03-13T06:14:57.666271",
     "exception": false,
     "start_time": "2023-03-13T06:14:57.650786",
     "status": "completed"
    },
    "tags": []
   },
   "outputs": [],
   "source": [
    "title = \"Pet Breed Classifier\"\n",
    "\n",
    "description = \"A pet breed classifier trained on the Oxford Pets dataset with fastai. Created as a demo for Gradio and HuggingFace Spaces.\"\n",
    "\n",
    "article = \"<p style='text-align: center'><a href='https://tmabraham.github.io/blog/gradio_hf_spaces_tutorial' target='_blank'>Blog post</a></p>\"\n",
    "\n",
    "examples = ['/kaggle/working/cat.jpg']"
   ]
  },
  {
   "cell_type": "markdown",
   "id": "37619e92",
   "metadata": {
    "papermill": {
     "duration": 0.006613,
     "end_time": "2023-03-13T06:14:57.679122",
     "exception": false,
     "start_time": "2023-03-13T06:14:57.672509",
     "status": "completed"
    },
    "tags": []
   },
   "source": [
    "Another interesting feature that Gradio has is the ability for interpretation so that users can understand what parts of the input are responsible for the output. We'll use the default interpretation function provided by Gradio"
   ]
  },
  {
   "cell_type": "code",
   "execution_count": 16,
   "id": "f07a8242",
   "metadata": {
    "execution": {
     "iopub.execute_input": "2023-03-13T06:14:57.693929Z",
     "iopub.status.busy": "2023-03-13T06:14:57.692299Z",
     "iopub.status.idle": "2023-03-13T06:14:57.697817Z",
     "shell.execute_reply": "2023-03-13T06:14:57.696657Z"
    },
    "papermill": {
     "duration": 0.014838,
     "end_time": "2023-03-13T06:14:57.700085",
     "exception": false,
     "start_time": "2023-03-13T06:14:57.685247",
     "status": "completed"
    },
    "tags": []
   },
   "outputs": [],
   "source": [
    "# Note that the default interpretation function needs scikit-image to be installed.\n",
    "interpretation ='default'"
   ]
  },
  {
   "cell_type": "markdown",
   "id": "15c4a8d5",
   "metadata": {
    "papermill": {
     "duration": 0.005936,
     "end_time": "2023-03-13T06:14:57.711994",
     "exception": false,
     "start_time": "2023-03-13T06:14:57.706058",
     "status": "completed"
    },
    "tags": []
   },
   "source": [
    "Gradio also supports serving of inference requests with a queue. This can be helpful when your app receives a significant amount of traffic. We'll enable a queue here:"
   ]
  },
  {
   "cell_type": "code",
   "execution_count": 17,
   "id": "d0c5e64b",
   "metadata": {
    "execution": {
     "iopub.execute_input": "2023-03-13T06:14:57.725725Z",
     "iopub.status.busy": "2023-03-13T06:14:57.725412Z",
     "iopub.status.idle": "2023-03-13T06:14:57.730021Z",
     "shell.execute_reply": "2023-03-13T06:14:57.728894Z"
    },
    "papermill": {
     "duration": 0.013919,
     "end_time": "2023-03-13T06:14:57.732171",
     "exception": false,
     "start_time": "2023-03-13T06:14:57.718252",
     "status": "completed"
    },
    "tags": []
   },
   "outputs": [],
   "source": [
    "enable_queue=True"
   ]
  },
  {
   "cell_type": "code",
   "execution_count": 18,
   "id": "4e477d7f",
   "metadata": {
    "execution": {
     "iopub.execute_input": "2023-03-13T06:14:57.745392Z",
     "iopub.status.busy": "2023-03-13T06:14:57.744575Z",
     "iopub.status.idle": "2023-03-13T06:15:04.361777Z",
     "shell.execute_reply": "2023-03-13T06:15:04.360340Z"
    },
    "papermill": {
     "duration": 6.626136,
     "end_time": "2023-03-13T06:15:04.364205",
     "exception": false,
     "start_time": "2023-03-13T06:14:57.738069",
     "status": "completed"
    },
    "tags": []
   },
   "outputs": [
    {
     "name": "stdout",
     "output_type": "stream",
     "text": [
      "Running on local URL:  http://127.0.0.1:7861\n",
      "Running on public URL: https://ef0a3eb7193a8631d4.gradio.live\n",
      "\n",
      "This share link expires in 72 hours. For free permanent hosting and GPU upgrades (NEW!), check out Spaces: https://huggingface.co/spaces\n"
     ]
    },
    {
     "data": {
      "text/html": [
       "<div><iframe src=\"https://ef0a3eb7193a8631d4.gradio.live\" width=\"100%\" height=\"500\" allow=\"autoplay; camera; microphone; clipboard-read; clipboard-write;\" frameborder=\"0\" allowfullscreen></iframe></div>"
      ],
      "text/plain": [
       "<IPython.core.display.HTML object>"
      ]
     },
     "metadata": {},
     "output_type": "display_data"
    },
    {
     "data": {
      "text/plain": []
     },
     "execution_count": 18,
     "metadata": {},
     "output_type": "execute_result"
    }
   ],
   "source": [
    "#rerunning the Interface method with the additional arguements\n",
    "gr.Interface(\n",
    "    fn=predict,\n",
    "    inputs=gr.Image(shape=(512, 512)),\n",
    "    outputs=gr.Label(num_top_classes=3),\n",
    "    title=title,\n",
    "    description=description,\n",
    "    article=article,\n",
    "    examples=examples,\n",
    "    interpretation=interpretation,\n",
    "    ).launch(share=True, enable_queue=enable_queue)\n"
   ]
  }
 ],
 "metadata": {
  "kernelspec": {
   "display_name": "Python 3",
   "language": "python",
   "name": "python3"
  },
  "language_info": {
   "codemirror_mode": {
    "name": "ipython",
    "version": 3
   },
   "file_extension": ".py",
   "mimetype": "text/x-python",
   "name": "python",
   "nbconvert_exporter": "python",
   "pygments_lexer": "ipython3",
   "version": "3.7.12"
  },
  "papermill": {
   "default_parameters": {},
   "duration": 301.632441,
   "end_time": "2023-03-13T06:15:07.296134",
   "environment_variables": {},
   "exception": null,
   "input_path": "__notebook__.ipynb",
   "output_path": "__notebook__.ipynb",
   "parameters": {},
   "start_time": "2023-03-13T06:10:05.663693",
   "version": "2.4.0"
  },
  "widgets": {
   "application/vnd.jupyter.widget-state+json": {
    "state": {
     "35b7e17457624651bd868865879c9ee9": {
      "model_module": "@jupyter-widgets/controls",
      "model_module_version": "1.5.0",
      "model_name": "ProgressStyleModel",
      "state": {
       "_model_module": "@jupyter-widgets/controls",
       "_model_module_version": "1.5.0",
       "_model_name": "ProgressStyleModel",
       "_view_count": null,
       "_view_module": "@jupyter-widgets/base",
       "_view_module_version": "1.2.0",
       "_view_name": "StyleView",
       "bar_color": null,
       "description_width": ""
      }
     },
     "64e4b6fb02574923b66bb763d43bd5c7": {
      "model_module": "@jupyter-widgets/controls",
      "model_module_version": "1.5.0",
      "model_name": "DescriptionStyleModel",
      "state": {
       "_model_module": "@jupyter-widgets/controls",
       "_model_module_version": "1.5.0",
       "_model_name": "DescriptionStyleModel",
       "_view_count": null,
       "_view_module": "@jupyter-widgets/base",
       "_view_module_version": "1.2.0",
       "_view_name": "StyleView",
       "description_width": ""
      }
     },
     "834839e997344b7086bfe6e27f251861": {
      "model_module": "@jupyter-widgets/base",
      "model_module_version": "1.2.0",
      "model_name": "LayoutModel",
      "state": {
       "_model_module": "@jupyter-widgets/base",
       "_model_module_version": "1.2.0",
       "_model_name": "LayoutModel",
       "_view_count": null,
       "_view_module": "@jupyter-widgets/base",
       "_view_module_version": "1.2.0",
       "_view_name": "LayoutView",
       "align_content": null,
       "align_items": null,
       "align_self": null,
       "border": null,
       "bottom": null,
       "display": null,
       "flex": null,
       "flex_flow": null,
       "grid_area": null,
       "grid_auto_columns": null,
       "grid_auto_flow": null,
       "grid_auto_rows": null,
       "grid_column": null,
       "grid_gap": null,
       "grid_row": null,
       "grid_template_areas": null,
       "grid_template_columns": null,
       "grid_template_rows": null,
       "height": null,
       "justify_content": null,
       "justify_items": null,
       "left": null,
       "margin": null,
       "max_height": null,
       "max_width": null,
       "min_height": null,
       "min_width": null,
       "object_fit": null,
       "object_position": null,
       "order": null,
       "overflow": null,
       "overflow_x": null,
       "overflow_y": null,
       "padding": null,
       "right": null,
       "top": null,
       "visibility": null,
       "width": null
      }
     },
     "85ca75908cf84bccbe9f664f48c20b14": {
      "model_module": "@jupyter-widgets/controls",
      "model_module_version": "1.5.0",
      "model_name": "HTMLModel",
      "state": {
       "_dom_classes": [],
       "_model_module": "@jupyter-widgets/controls",
       "_model_module_version": "1.5.0",
       "_model_name": "HTMLModel",
       "_view_count": null,
       "_view_module": "@jupyter-widgets/controls",
       "_view_module_version": "1.5.0",
       "_view_name": "HTMLView",
       "description": "",
       "description_tooltip": null,
       "layout": "IPY_MODEL_834839e997344b7086bfe6e27f251861",
       "placeholder": "​",
       "style": "IPY_MODEL_8e362209defe485092a8a24932a0534d",
       "value": " 97.8M/97.8M [00:00&lt;00:00, 224MB/s]"
      }
     },
     "8e362209defe485092a8a24932a0534d": {
      "model_module": "@jupyter-widgets/controls",
      "model_module_version": "1.5.0",
      "model_name": "DescriptionStyleModel",
      "state": {
       "_model_module": "@jupyter-widgets/controls",
       "_model_module_version": "1.5.0",
       "_model_name": "DescriptionStyleModel",
       "_view_count": null,
       "_view_module": "@jupyter-widgets/base",
       "_view_module_version": "1.2.0",
       "_view_name": "StyleView",
       "description_width": ""
      }
     },
     "9010bb3a467e4230886e31877f0e15cb": {
      "model_module": "@jupyter-widgets/base",
      "model_module_version": "1.2.0",
      "model_name": "LayoutModel",
      "state": {
       "_model_module": "@jupyter-widgets/base",
       "_model_module_version": "1.2.0",
       "_model_name": "LayoutModel",
       "_view_count": null,
       "_view_module": "@jupyter-widgets/base",
       "_view_module_version": "1.2.0",
       "_view_name": "LayoutView",
       "align_content": null,
       "align_items": null,
       "align_self": null,
       "border": null,
       "bottom": null,
       "display": null,
       "flex": null,
       "flex_flow": null,
       "grid_area": null,
       "grid_auto_columns": null,
       "grid_auto_flow": null,
       "grid_auto_rows": null,
       "grid_column": null,
       "grid_gap": null,
       "grid_row": null,
       "grid_template_areas": null,
       "grid_template_columns": null,
       "grid_template_rows": null,
       "height": null,
       "justify_content": null,
       "justify_items": null,
       "left": null,
       "margin": null,
       "max_height": null,
       "max_width": null,
       "min_height": null,
       "min_width": null,
       "object_fit": null,
       "object_position": null,
       "order": null,
       "overflow": null,
       "overflow_x": null,
       "overflow_y": null,
       "padding": null,
       "right": null,
       "top": null,
       "visibility": null,
       "width": null
      }
     },
     "cc17f224da93456fa8b88e9c077dc5f3": {
      "model_module": "@jupyter-widgets/base",
      "model_module_version": "1.2.0",
      "model_name": "LayoutModel",
      "state": {
       "_model_module": "@jupyter-widgets/base",
       "_model_module_version": "1.2.0",
       "_model_name": "LayoutModel",
       "_view_count": null,
       "_view_module": "@jupyter-widgets/base",
       "_view_module_version": "1.2.0",
       "_view_name": "LayoutView",
       "align_content": null,
       "align_items": null,
       "align_self": null,
       "border": null,
       "bottom": null,
       "display": null,
       "flex": null,
       "flex_flow": null,
       "grid_area": null,
       "grid_auto_columns": null,
       "grid_auto_flow": null,
       "grid_auto_rows": null,
       "grid_column": null,
       "grid_gap": null,
       "grid_row": null,
       "grid_template_areas": null,
       "grid_template_columns": null,
       "grid_template_rows": null,
       "height": null,
       "justify_content": null,
       "justify_items": null,
       "left": null,
       "margin": null,
       "max_height": null,
       "max_width": null,
       "min_height": null,
       "min_width": null,
       "object_fit": null,
       "object_position": null,
       "order": null,
       "overflow": null,
       "overflow_x": null,
       "overflow_y": null,
       "padding": null,
       "right": null,
       "top": null,
       "visibility": null,
       "width": null
      }
     },
     "dbbc4e44ad494448868e13320d60ed98": {
      "model_module": "@jupyter-widgets/controls",
      "model_module_version": "1.5.0",
      "model_name": "FloatProgressModel",
      "state": {
       "_dom_classes": [],
       "_model_module": "@jupyter-widgets/controls",
       "_model_module_version": "1.5.0",
       "_model_name": "FloatProgressModel",
       "_view_count": null,
       "_view_module": "@jupyter-widgets/controls",
       "_view_module_version": "1.5.0",
       "_view_name": "ProgressView",
       "bar_style": "success",
       "description": "",
       "description_tooltip": null,
       "layout": "IPY_MODEL_cc17f224da93456fa8b88e9c077dc5f3",
       "max": 102530333.0,
       "min": 0.0,
       "orientation": "horizontal",
       "style": "IPY_MODEL_35b7e17457624651bd868865879c9ee9",
       "value": 102530333.0
      }
     },
     "dc6bc52002b84fe5ad3cc3f10b43c72e": {
      "model_module": "@jupyter-widgets/controls",
      "model_module_version": "1.5.0",
      "model_name": "HTMLModel",
      "state": {
       "_dom_classes": [],
       "_model_module": "@jupyter-widgets/controls",
       "_model_module_version": "1.5.0",
       "_model_name": "HTMLModel",
       "_view_count": null,
       "_view_module": "@jupyter-widgets/controls",
       "_view_module_version": "1.5.0",
       "_view_name": "HTMLView",
       "description": "",
       "description_tooltip": null,
       "layout": "IPY_MODEL_e324ae0b1823433588fca2f79969a2a6",
       "placeholder": "​",
       "style": "IPY_MODEL_64e4b6fb02574923b66bb763d43bd5c7",
       "value": "100%"
      }
     },
     "e324ae0b1823433588fca2f79969a2a6": {
      "model_module": "@jupyter-widgets/base",
      "model_module_version": "1.2.0",
      "model_name": "LayoutModel",
      "state": {
       "_model_module": "@jupyter-widgets/base",
       "_model_module_version": "1.2.0",
       "_model_name": "LayoutModel",
       "_view_count": null,
       "_view_module": "@jupyter-widgets/base",
       "_view_module_version": "1.2.0",
       "_view_name": "LayoutView",
       "align_content": null,
       "align_items": null,
       "align_self": null,
       "border": null,
       "bottom": null,
       "display": null,
       "flex": null,
       "flex_flow": null,
       "grid_area": null,
       "grid_auto_columns": null,
       "grid_auto_flow": null,
       "grid_auto_rows": null,
       "grid_column": null,
       "grid_gap": null,
       "grid_row": null,
       "grid_template_areas": null,
       "grid_template_columns": null,
       "grid_template_rows": null,
       "height": null,
       "justify_content": null,
       "justify_items": null,
       "left": null,
       "margin": null,
       "max_height": null,
       "max_width": null,
       "min_height": null,
       "min_width": null,
       "object_fit": null,
       "object_position": null,
       "order": null,
       "overflow": null,
       "overflow_x": null,
       "overflow_y": null,
       "padding": null,
       "right": null,
       "top": null,
       "visibility": null,
       "width": null
      }
     },
     "ee63bb51d1884746b959cb592e7d3d82": {
      "model_module": "@jupyter-widgets/controls",
      "model_module_version": "1.5.0",
      "model_name": "HBoxModel",
      "state": {
       "_dom_classes": [],
       "_model_module": "@jupyter-widgets/controls",
       "_model_module_version": "1.5.0",
       "_model_name": "HBoxModel",
       "_view_count": null,
       "_view_module": "@jupyter-widgets/controls",
       "_view_module_version": "1.5.0",
       "_view_name": "HBoxView",
       "box_style": "",
       "children": [
        "IPY_MODEL_dc6bc52002b84fe5ad3cc3f10b43c72e",
        "IPY_MODEL_dbbc4e44ad494448868e13320d60ed98",
        "IPY_MODEL_85ca75908cf84bccbe9f664f48c20b14"
       ],
       "layout": "IPY_MODEL_9010bb3a467e4230886e31877f0e15cb"
      }
     }
    },
    "version_major": 2,
    "version_minor": 0
   }
  }
 },
 "nbformat": 4,
 "nbformat_minor": 5
}
