{
 "cells": [
  {
   "cell_type": "markdown",
   "id": "9a991e23",
   "metadata": {
    "id": "98d53c05",
    "papermill": {
     "duration": 0.01587,
     "end_time": "2023-03-05T09:34:49.720932",
     "exception": false,
     "start_time": "2023-03-05T09:34:49.705062",
     "status": "completed"
    },
    "tags": []
   },
   "source": [
    "## Saving a Cats v Dogs Model"
   ]
  },
  {
   "cell_type": "markdown",
   "id": "e6337b38",
   "metadata": {
    "papermill": {
     "duration": 0.014775,
     "end_time": "2023-03-05T09:34:49.751459",
     "exception": false,
     "start_time": "2023-03-05T09:34:49.736684",
     "status": "completed"
    },
    "tags": []
   },
   "source": [
    "This is a minimal example showing how to train a fastai model on Kaggle, and save it so you can use it in your app."
   ]
  },
  {
   "cell_type": "code",
   "execution_count": 1,
   "id": "d6502830",
   "metadata": {
    "_kg_hide-input": true,
    "_kg_hide-output": true,
    "execution": {
     "iopub.execute_input": "2023-03-05T09:34:49.784266Z",
     "iopub.status.busy": "2023-03-05T09:34:49.783714Z",
     "iopub.status.idle": "2023-03-05T09:35:22.702785Z",
     "shell.execute_reply": "2023-03-05T09:35:22.701425Z"
    },
    "id": "evvA0fqvSblq",
    "outputId": "ba21b811-767c-459a-ccdf-044758720a55",
    "papermill": {
     "duration": 32.939468,
     "end_time": "2023-03-05T09:35:22.706185",
     "exception": false,
     "start_time": "2023-03-05T09:34:49.766717",
     "status": "completed"
    },
    "tags": []
   },
   "outputs": [
    {
     "name": "stdout",
     "output_type": "stream",
     "text": [
      "\u001b[31mERROR: pip's dependency resolver does not currently take into account all the packages that are installed. This behaviour is the source of the following dependency conflicts.\r\n",
      "tensorflow-io 0.21.0 requires tensorflow-io-gcs-filesystem==0.21.0, which is not installed.\r\n",
      "tensorflow 2.6.3 requires absl-py~=0.10, but you have absl-py 1.0.0 which is incompatible.\r\n",
      "tensorflow 2.6.3 requires numpy~=1.19.2, but you have numpy 1.21.6 which is incompatible.\r\n",
      "tensorflow 2.6.3 requires six~=1.15.0, but you have six 1.16.0 which is incompatible.\r\n",
      "tensorflow 2.6.3 requires wrapt~=1.12.1, but you have wrapt 1.14.0 which is incompatible.\r\n",
      "tensorflow-transform 1.7.0 requires pyarrow<6,>=1, but you have pyarrow 7.0.0 which is incompatible.\r\n",
      "tensorflow-transform 1.7.0 requires tensorflow!=2.0.*,!=2.1.*,!=2.2.*,!=2.3.*,!=2.4.*,!=2.5.*,!=2.6.*,!=2.7.*,<2.9,>=1.15.5, but you have tensorflow 2.6.3 which is incompatible.\r\n",
      "tensorflow-serving-api 2.8.0 requires tensorflow<3,>=2.8.0, but you have tensorflow 2.6.3 which is incompatible.\r\n",
      "rich 12.2.0 requires typing-extensions<5.0,>=4.0.0; python_version < \"3.9\", but you have typing-extensions 3.10.0.2 which is incompatible.\r\n",
      "pytorch-lightning 1.6.1 requires typing-extensions>=4.0.0, but you have typing-extensions 3.10.0.2 which is incompatible.\r\n",
      "pytools 2022.1.5 requires typing-extensions>=4.0; python_version < \"3.11\", but you have typing-extensions 3.10.0.2 which is incompatible.\r\n",
      "flake8 4.0.1 requires importlib-metadata<4.3; python_version < \"3.8\", but you have importlib-metadata 4.11.3 which is incompatible.\r\n",
      "apache-beam 2.37.0 requires dill<0.3.2,>=0.3.1.1, but you have dill 0.3.4 which is incompatible.\r\n",
      "apache-beam 2.37.0 requires httplib2<0.20.0,>=0.8, but you have httplib2 0.20.4 which is incompatible.\r\n",
      "apache-beam 2.37.0 requires pyarrow<7.0.0,>=0.15.1, but you have pyarrow 7.0.0 which is incompatible.\r\n",
      "aioitertools 0.10.0 requires typing_extensions>=4.0; python_version < \"3.10\", but you have typing-extensions 3.10.0.2 which is incompatible.\r\n",
      "aiobotocore 2.2.0 requires botocore<1.24.22,>=1.24.21, but you have botocore 1.25.0 which is incompatible.\u001b[0m\u001b[31m\r\n",
      "\u001b[0m"
     ]
    }
   ],
   "source": [
    "# Make sure we've got the latest version of fastai:\n",
    "!pip install -Uqq fastai"
   ]
  },
  {
   "cell_type": "code",
   "execution_count": 2,
   "id": "c13d368a",
   "metadata": {
    "execution": {
     "iopub.execute_input": "2023-03-05T09:35:22.740643Z",
     "iopub.status.busy": "2023-03-05T09:35:22.740286Z",
     "iopub.status.idle": "2023-03-05T09:35:22.745434Z",
     "shell.execute_reply": "2023-03-05T09:35:22.744344Z"
    },
    "papermill": {
     "duration": 0.025477,
     "end_time": "2023-03-05T09:35:22.747929",
     "exception": false,
     "start_time": "2023-03-05T09:35:22.722452",
     "status": "completed"
    },
    "tags": []
   },
   "outputs": [],
   "source": [
    "# from fastai.vision.all import *\n",
    "# path = untar_data(URLs.PETS)\n",
    "# dls = ImageDataLoaders.from_name_re(path,\n",
    "#     get_image_files(path/'images'),\n",
    "#     pat='(.+)_\\d+.jpg', item_tfms=Resize(460),\n",
    "#     batch_tfms=aug_transforms(size=224, min_scale=0.75))\n",
    "# learn = vision_learner(dls, models.resnet50,\n",
    "#                        metrics=accuracy)\n",
    "# learn.fine_tune(1)\n",
    "# learn.path = Path('.')\n",
    "# learn.export()"
   ]
  },
  {
   "cell_type": "markdown",
   "id": "6001dd0f",
   "metadata": {
    "papermill": {
     "duration": 0.015836,
     "end_time": "2023-03-05T09:35:22.780642",
     "exception": false,
     "start_time": "2023-03-05T09:35:22.764806",
     "status": "completed"
    },
    "tags": []
   },
   "source": [
    "First, import all the stuff we need from fastai:"
   ]
  },
  {
   "cell_type": "code",
   "execution_count": 3,
   "id": "96872acc",
   "metadata": {
    "execution": {
     "iopub.execute_input": "2023-03-05T09:35:22.815228Z",
     "iopub.status.busy": "2023-03-05T09:35:22.814217Z",
     "iopub.status.idle": "2023-03-05T09:35:26.439149Z",
     "shell.execute_reply": "2023-03-05T09:35:26.438133Z"
    },
    "id": "44eb0ad3",
    "papermill": {
     "duration": 3.645067,
     "end_time": "2023-03-05T09:35:26.441872",
     "exception": false,
     "start_time": "2023-03-05T09:35:22.796805",
     "status": "completed"
    },
    "tags": []
   },
   "outputs": [],
   "source": [
    "from fastai.vision.all import *"
   ]
  },
  {
   "cell_type": "markdown",
   "id": "de0b8318",
   "metadata": {
    "papermill": {
     "duration": 0.015182,
     "end_time": "2023-03-05T09:35:26.472689",
     "exception": false,
     "start_time": "2023-03-05T09:35:26.457507",
     "status": "completed"
    },
    "tags": []
   },
   "source": [
    "Download and decompress our dataset, which is pictures of dogs and cats:"
   ]
  },
  {
   "cell_type": "code",
   "execution_count": 4,
   "id": "031df1fc",
   "metadata": {
    "execution": {
     "iopub.execute_input": "2023-03-05T09:35:26.505494Z",
     "iopub.status.busy": "2023-03-05T09:35:26.505159Z",
     "iopub.status.idle": "2023-03-05T09:36:39.453668Z",
     "shell.execute_reply": "2023-03-05T09:36:39.452556Z"
    },
    "papermill": {
     "duration": 72.968318,
     "end_time": "2023-03-05T09:36:39.456553",
     "exception": false,
     "start_time": "2023-03-05T09:35:26.488235",
     "status": "completed"
    },
    "tags": []
   },
   "outputs": [
    {
     "data": {
      "text/html": [
       "\n",
       "<style>\n",
       "    /* Turns off some styling */\n",
       "    progress {\n",
       "        /* gets rid of default border in Firefox and Opera. */\n",
       "        border: none;\n",
       "        /* Needs to be in here for Safari polyfill so background images work as expected. */\n",
       "        background-size: auto;\n",
       "    }\n",
       "    .progress-bar-interrupted, .progress-bar-interrupted::-webkit-progress-bar {\n",
       "        background: #F44336;\n",
       "    }\n",
       "</style>\n"
      ],
      "text/plain": [
       "<IPython.core.display.HTML object>"
      ]
     },
     "metadata": {},
     "output_type": "display_data"
    },
    {
     "data": {
      "text/html": [
       "\n",
       "    <div>\n",
       "      <progress value='811712512' class='' max='811706944' style='width:300px; height:20px; vertical-align: middle;'></progress>\n",
       "      100.00% [811712512/811706944 00:56<00:00]\n",
       "    </div>\n",
       "    "
      ],
      "text/plain": [
       "<IPython.core.display.HTML object>"
      ]
     },
     "metadata": {},
     "output_type": "display_data"
    }
   ],
   "source": [
    "path = untar_data(URLs.PETS)/'images'"
   ]
  },
  {
   "cell_type": "markdown",
   "id": "1d624591",
   "metadata": {
    "papermill": {
     "duration": 0.017221,
     "end_time": "2023-03-05T09:36:39.492319",
     "exception": false,
     "start_time": "2023-03-05T09:36:39.475098",
     "status": "completed"
    },
    "tags": []
   },
   "source": [
    "We need a way to label our images as dogs or cats. In this dataset, pictures of cats are given a filename that starts with a capital letter:"
   ]
  },
  {
   "cell_type": "code",
   "execution_count": 5,
   "id": "a458b62f",
   "metadata": {
    "execution": {
     "iopub.execute_input": "2023-03-05T09:36:39.530691Z",
     "iopub.status.busy": "2023-03-05T09:36:39.530334Z",
     "iopub.status.idle": "2023-03-05T09:36:39.536007Z",
     "shell.execute_reply": "2023-03-05T09:36:39.534909Z"
    },
    "id": "44eb0ad3",
    "papermill": {
     "duration": 0.02789,
     "end_time": "2023-03-05T09:36:39.538607",
     "exception": false,
     "start_time": "2023-03-05T09:36:39.510717",
     "status": "completed"
    },
    "tags": []
   },
   "outputs": [],
   "source": [
    "def is_cat(x): \n",
    "    return x[0].isupper() "
   ]
  },
  {
   "cell_type": "markdown",
   "id": "e7807956",
   "metadata": {
    "papermill": {
     "duration": 0.017937,
     "end_time": "2023-03-05T09:36:39.579456",
     "exception": false,
     "start_time": "2023-03-05T09:36:39.561519",
     "status": "completed"
    },
    "tags": []
   },
   "source": [
    "Now we can create our `DataLoaders`:"
   ]
  },
  {
   "cell_type": "code",
   "execution_count": 6,
   "id": "4ed9dc44",
   "metadata": {
    "execution": {
     "iopub.execute_input": "2023-03-05T09:36:39.617506Z",
     "iopub.status.busy": "2023-03-05T09:36:39.617166Z",
     "iopub.status.idle": "2023-03-05T09:36:44.075654Z",
     "shell.execute_reply": "2023-03-05T09:36:44.074640Z"
    },
    "id": "44eb0ad3",
    "papermill": {
     "duration": 4.480906,
     "end_time": "2023-03-05T09:36:44.078646",
     "exception": false,
     "start_time": "2023-03-05T09:36:39.597740",
     "status": "completed"
    },
    "tags": []
   },
   "outputs": [],
   "source": [
    "dls = ImageDataLoaders.from_name_func('.',\n",
    "    get_image_files(path), valid_pct=0.2, seed=42,\n",
    "    label_func=is_cat,\n",
    "    item_tfms=Resize(192))"
   ]
  },
  {
   "cell_type": "markdown",
   "id": "7714e716",
   "metadata": {
    "papermill": {
     "duration": 0.017248,
     "end_time": "2023-03-05T09:36:44.112896",
     "exception": false,
     "start_time": "2023-03-05T09:36:44.095648",
     "status": "completed"
    },
    "tags": []
   },
   "source": [
    "... and train our model, a resnet18 (to keep it small and fast):"
   ]
  },
  {
   "cell_type": "code",
   "execution_count": 7,
   "id": "07b5a0d0",
   "metadata": {
    "execution": {
     "iopub.execute_input": "2023-03-05T09:36:44.149524Z",
     "iopub.status.busy": "2023-03-05T09:36:44.149177Z",
     "iopub.status.idle": "2023-03-05T09:41:25.232478Z",
     "shell.execute_reply": "2023-03-05T09:41:25.231053Z"
    },
    "id": "c107f724",
    "outputId": "fcc1de68-7c8b-43f5-b9eb-fcdb0773ef07",
    "papermill": {
     "duration": 281.105075,
     "end_time": "2023-03-05T09:41:25.235397",
     "exception": false,
     "start_time": "2023-03-05T09:36:44.130322",
     "status": "completed"
    },
    "tags": []
   },
   "outputs": [
    {
     "name": "stderr",
     "output_type": "stream",
     "text": [
      "Downloading: \"https://download.pytorch.org/models/resnet18-f37072fd.pth\" to /root/.cache/torch/hub/checkpoints/resnet18-f37072fd.pth\n"
     ]
    },
    {
     "data": {
      "application/vnd.jupyter.widget-view+json": {
       "model_id": "7e71782d1cb5417293946f4574cd7191",
       "version_major": 2,
       "version_minor": 0
      },
      "text/plain": [
       "  0%|          | 0.00/44.7M [00:00<?, ?B/s]"
      ]
     },
     "metadata": {},
     "output_type": "display_data"
    },
    {
     "data": {
      "text/html": [
       "\n",
       "<style>\n",
       "    /* Turns off some styling */\n",
       "    progress {\n",
       "        /* gets rid of default border in Firefox and Opera. */\n",
       "        border: none;\n",
       "        /* Needs to be in here for Safari polyfill so background images work as expected. */\n",
       "        background-size: auto;\n",
       "    }\n",
       "    .progress-bar-interrupted, .progress-bar-interrupted::-webkit-progress-bar {\n",
       "        background: #F44336;\n",
       "    }\n",
       "</style>\n"
      ],
      "text/plain": [
       "<IPython.core.display.HTML object>"
      ]
     },
     "metadata": {},
     "output_type": "display_data"
    },
    {
     "data": {
      "text/html": [
       "<table border=\"1\" class=\"dataframe\">\n",
       "  <thead>\n",
       "    <tr style=\"text-align: left;\">\n",
       "      <th>epoch</th>\n",
       "      <th>train_loss</th>\n",
       "      <th>valid_loss</th>\n",
       "      <th>error_rate</th>\n",
       "      <th>time</th>\n",
       "    </tr>\n",
       "  </thead>\n",
       "  <tbody>\n",
       "    <tr>\n",
       "      <td>0</td>\n",
       "      <td>0.190043</td>\n",
       "      <td>0.055085</td>\n",
       "      <td>0.016915</td>\n",
       "      <td>01:12</td>\n",
       "    </tr>\n",
       "  </tbody>\n",
       "</table>"
      ],
      "text/plain": [
       "<IPython.core.display.HTML object>"
      ]
     },
     "metadata": {},
     "output_type": "display_data"
    },
    {
     "data": {
      "text/html": [
       "\n",
       "<style>\n",
       "    /* Turns off some styling */\n",
       "    progress {\n",
       "        /* gets rid of default border in Firefox and Opera. */\n",
       "        border: none;\n",
       "        /* Needs to be in here for Safari polyfill so background images work as expected. */\n",
       "        background-size: auto;\n",
       "    }\n",
       "    .progress-bar-interrupted, .progress-bar-interrupted::-webkit-progress-bar {\n",
       "        background: #F44336;\n",
       "    }\n",
       "</style>\n"
      ],
      "text/plain": [
       "<IPython.core.display.HTML object>"
      ]
     },
     "metadata": {},
     "output_type": "display_data"
    },
    {
     "data": {
      "text/html": [
       "<table border=\"1\" class=\"dataframe\">\n",
       "  <thead>\n",
       "    <tr style=\"text-align: left;\">\n",
       "      <th>epoch</th>\n",
       "      <th>train_loss</th>\n",
       "      <th>valid_loss</th>\n",
       "      <th>error_rate</th>\n",
       "      <th>time</th>\n",
       "    </tr>\n",
       "  </thead>\n",
       "  <tbody>\n",
       "    <tr>\n",
       "      <td>0</td>\n",
       "      <td>0.082288</td>\n",
       "      <td>0.060021</td>\n",
       "      <td>0.015562</td>\n",
       "      <td>01:07</td>\n",
       "    </tr>\n",
       "    <tr>\n",
       "      <td>1</td>\n",
       "      <td>0.050598</td>\n",
       "      <td>0.030122</td>\n",
       "      <td>0.008796</td>\n",
       "      <td>01:07</td>\n",
       "    </tr>\n",
       "    <tr>\n",
       "      <td>2</td>\n",
       "      <td>0.022425</td>\n",
       "      <td>0.025520</td>\n",
       "      <td>0.006766</td>\n",
       "      <td>01:06</td>\n",
       "    </tr>\n",
       "  </tbody>\n",
       "</table>"
      ],
      "text/plain": [
       "<IPython.core.display.HTML object>"
      ]
     },
     "metadata": {},
     "output_type": "display_data"
    }
   ],
   "source": [
    "learn = vision_learner(dls, resnet18, metrics=error_rate)\n",
    "learn.fine_tune(3)"
   ]
  },
  {
   "cell_type": "markdown",
   "id": "8acb5a05",
   "metadata": {
    "papermill": {
     "duration": 0.020679,
     "end_time": "2023-03-05T09:41:25.276542",
     "exception": false,
     "start_time": "2023-03-05T09:41:25.255863",
     "status": "completed"
    },
    "tags": []
   },
   "source": [
    "Now we can export our trained `Learner`. This contains all the information needed to run the model:"
   ]
  },
  {
   "cell_type": "code",
   "execution_count": 8,
   "id": "386ebfce",
   "metadata": {
    "execution": {
     "iopub.execute_input": "2023-03-05T09:41:25.318870Z",
     "iopub.status.busy": "2023-03-05T09:41:25.318502Z",
     "iopub.status.idle": "2023-03-05T09:41:25.472758Z",
     "shell.execute_reply": "2023-03-05T09:41:25.470756Z"
    },
    "id": "ae2bc6ac",
    "papermill": {
     "duration": 0.179321,
     "end_time": "2023-03-05T09:41:25.475988",
     "exception": false,
     "start_time": "2023-03-05T09:41:25.296667",
     "status": "completed"
    },
    "tags": []
   },
   "outputs": [],
   "source": [
    "learn.export(fname='/kaggle/working/model.pkl', pickle_protocol=2)"
   ]
  },
  {
   "cell_type": "markdown",
   "id": "f172f0af",
   "metadata": {
    "id": "Q2HTrQKTf3BV",
    "papermill": {
     "duration": 0.020123,
     "end_time": "2023-03-05T09:41:25.516171",
     "exception": false,
     "start_time": "2023-03-05T09:41:25.496048",
     "status": "completed"
    },
    "tags": []
   },
   "source": [
    "Finally, open the Kaggle sidebar on the right if it's not already, and find the section marked \"Output\". Open the `/kaggle/working` folder, and you'll see `model.pkl`. Click on it, then click on the menu on the right that appears, and choose \"Download\". After a few seconds, your model will be downloaded to your computer, where you can then create your app that uses the model."
   ]
  }
 ],
 "metadata": {
  "kernelspec": {
   "display_name": "Python 3",
   "language": "python",
   "name": "python3"
  },
  "language_info": {
   "codemirror_mode": {
    "name": "ipython",
    "version": 3
   },
   "file_extension": ".py",
   "mimetype": "text/x-python",
   "name": "python",
   "nbconvert_exporter": "python",
   "pygments_lexer": "ipython3",
   "version": "3.7.12"
  },
  "papermill": {
   "default_parameters": {},
   "duration": 411.18508,
   "end_time": "2023-03-05T09:41:27.914505",
   "environment_variables": {},
   "exception": null,
   "input_path": "__notebook__.ipynb",
   "output_path": "__notebook__.ipynb",
   "parameters": {},
   "start_time": "2023-03-05T09:34:36.729425",
   "version": "2.3.4"
  },
  "widgets": {
   "application/vnd.jupyter.widget-state+json": {
    "state": {
     "139873169db845c28b70138da548b019": {
      "model_module": "@jupyter-widgets/base",
      "model_module_version": "1.2.0",
      "model_name": "LayoutModel",
      "state": {
       "_model_module": "@jupyter-widgets/base",
       "_model_module_version": "1.2.0",
       "_model_name": "LayoutModel",
       "_view_count": null,
       "_view_module": "@jupyter-widgets/base",
       "_view_module_version": "1.2.0",
       "_view_name": "LayoutView",
       "align_content": null,
       "align_items": null,
       "align_self": null,
       "border": null,
       "bottom": null,
       "display": null,
       "flex": null,
       "flex_flow": null,
       "grid_area": null,
       "grid_auto_columns": null,
       "grid_auto_flow": null,
       "grid_auto_rows": null,
       "grid_column": null,
       "grid_gap": null,
       "grid_row": null,
       "grid_template_areas": null,
       "grid_template_columns": null,
       "grid_template_rows": null,
       "height": null,
       "justify_content": null,
       "justify_items": null,
       "left": null,
       "margin": null,
       "max_height": null,
       "max_width": null,
       "min_height": null,
       "min_width": null,
       "object_fit": null,
       "object_position": null,
       "order": null,
       "overflow": null,
       "overflow_x": null,
       "overflow_y": null,
       "padding": null,
       "right": null,
       "top": null,
       "visibility": null,
       "width": null
      }
     },
     "167b68e5a6e74540b1c6bf2ba474f064": {
      "model_module": "@jupyter-widgets/controls",
      "model_module_version": "1.5.0",
      "model_name": "FloatProgressModel",
      "state": {
       "_dom_classes": [],
       "_model_module": "@jupyter-widgets/controls",
       "_model_module_version": "1.5.0",
       "_model_name": "FloatProgressModel",
       "_view_count": null,
       "_view_module": "@jupyter-widgets/controls",
       "_view_module_version": "1.5.0",
       "_view_name": "ProgressView",
       "bar_style": "success",
       "description": "",
       "description_tooltip": null,
       "layout": "IPY_MODEL_ee6eab580f2649edacb66bc91040e258",
       "max": 46830571.0,
       "min": 0.0,
       "orientation": "horizontal",
       "style": "IPY_MODEL_b17f4926b3b746af82098c9b3d3c7339",
       "value": 46830571.0
      }
     },
     "2b907dd7e4604f0e8435bd6c6fc27023": {
      "model_module": "@jupyter-widgets/controls",
      "model_module_version": "1.5.0",
      "model_name": "DescriptionStyleModel",
      "state": {
       "_model_module": "@jupyter-widgets/controls",
       "_model_module_version": "1.5.0",
       "_model_name": "DescriptionStyleModel",
       "_view_count": null,
       "_view_module": "@jupyter-widgets/base",
       "_view_module_version": "1.2.0",
       "_view_name": "StyleView",
       "description_width": ""
      }
     },
     "4e5724ee40df433d959337143094272c": {
      "model_module": "@jupyter-widgets/controls",
      "model_module_version": "1.5.0",
      "model_name": "DescriptionStyleModel",
      "state": {
       "_model_module": "@jupyter-widgets/controls",
       "_model_module_version": "1.5.0",
       "_model_name": "DescriptionStyleModel",
       "_view_count": null,
       "_view_module": "@jupyter-widgets/base",
       "_view_module_version": "1.2.0",
       "_view_name": "StyleView",
       "description_width": ""
      }
     },
     "6303ee45ea054653bfe66fc9ed8a8835": {
      "model_module": "@jupyter-widgets/base",
      "model_module_version": "1.2.0",
      "model_name": "LayoutModel",
      "state": {
       "_model_module": "@jupyter-widgets/base",
       "_model_module_version": "1.2.0",
       "_model_name": "LayoutModel",
       "_view_count": null,
       "_view_module": "@jupyter-widgets/base",
       "_view_module_version": "1.2.0",
       "_view_name": "LayoutView",
       "align_content": null,
       "align_items": null,
       "align_self": null,
       "border": null,
       "bottom": null,
       "display": null,
       "flex": null,
       "flex_flow": null,
       "grid_area": null,
       "grid_auto_columns": null,
       "grid_auto_flow": null,
       "grid_auto_rows": null,
       "grid_column": null,
       "grid_gap": null,
       "grid_row": null,
       "grid_template_areas": null,
       "grid_template_columns": null,
       "grid_template_rows": null,
       "height": null,
       "justify_content": null,
       "justify_items": null,
       "left": null,
       "margin": null,
       "max_height": null,
       "max_width": null,
       "min_height": null,
       "min_width": null,
       "object_fit": null,
       "object_position": null,
       "order": null,
       "overflow": null,
       "overflow_x": null,
       "overflow_y": null,
       "padding": null,
       "right": null,
       "top": null,
       "visibility": null,
       "width": null
      }
     },
     "7e71782d1cb5417293946f4574cd7191": {
      "model_module": "@jupyter-widgets/controls",
      "model_module_version": "1.5.0",
      "model_name": "HBoxModel",
      "state": {
       "_dom_classes": [],
       "_model_module": "@jupyter-widgets/controls",
       "_model_module_version": "1.5.0",
       "_model_name": "HBoxModel",
       "_view_count": null,
       "_view_module": "@jupyter-widgets/controls",
       "_view_module_version": "1.5.0",
       "_view_name": "HBoxView",
       "box_style": "",
       "children": [
        "IPY_MODEL_e0d9a67c7aa64a83a07a7bed103fb08c",
        "IPY_MODEL_167b68e5a6e74540b1c6bf2ba474f064",
        "IPY_MODEL_db19c238685b4a01bb58d384cc9ec456"
       ],
       "layout": "IPY_MODEL_6303ee45ea054653bfe66fc9ed8a8835"
      }
     },
     "b17f4926b3b746af82098c9b3d3c7339": {
      "model_module": "@jupyter-widgets/controls",
      "model_module_version": "1.5.0",
      "model_name": "ProgressStyleModel",
      "state": {
       "_model_module": "@jupyter-widgets/controls",
       "_model_module_version": "1.5.0",
       "_model_name": "ProgressStyleModel",
       "_view_count": null,
       "_view_module": "@jupyter-widgets/base",
       "_view_module_version": "1.2.0",
       "_view_name": "StyleView",
       "bar_color": null,
       "description_width": ""
      }
     },
     "db19c238685b4a01bb58d384cc9ec456": {
      "model_module": "@jupyter-widgets/controls",
      "model_module_version": "1.5.0",
      "model_name": "HTMLModel",
      "state": {
       "_dom_classes": [],
       "_model_module": "@jupyter-widgets/controls",
       "_model_module_version": "1.5.0",
       "_model_name": "HTMLModel",
       "_view_count": null,
       "_view_module": "@jupyter-widgets/controls",
       "_view_module_version": "1.5.0",
       "_view_name": "HTMLView",
       "description": "",
       "description_tooltip": null,
       "layout": "IPY_MODEL_e2a03858a9c94fa7818e0f77af799f5b",
       "placeholder": "​",
       "style": "IPY_MODEL_4e5724ee40df433d959337143094272c",
       "value": " 44.7M/44.7M [00:05&lt;00:00, 12.5MB/s]"
      }
     },
     "e0d9a67c7aa64a83a07a7bed103fb08c": {
      "model_module": "@jupyter-widgets/controls",
      "model_module_version": "1.5.0",
      "model_name": "HTMLModel",
      "state": {
       "_dom_classes": [],
       "_model_module": "@jupyter-widgets/controls",
       "_model_module_version": "1.5.0",
       "_model_name": "HTMLModel",
       "_view_count": null,
       "_view_module": "@jupyter-widgets/controls",
       "_view_module_version": "1.5.0",
       "_view_name": "HTMLView",
       "description": "",
       "description_tooltip": null,
       "layout": "IPY_MODEL_139873169db845c28b70138da548b019",
       "placeholder": "​",
       "style": "IPY_MODEL_2b907dd7e4604f0e8435bd6c6fc27023",
       "value": "100%"
      }
     },
     "e2a03858a9c94fa7818e0f77af799f5b": {
      "model_module": "@jupyter-widgets/base",
      "model_module_version": "1.2.0",
      "model_name": "LayoutModel",
      "state": {
       "_model_module": "@jupyter-widgets/base",
       "_model_module_version": "1.2.0",
       "_model_name": "LayoutModel",
       "_view_count": null,
       "_view_module": "@jupyter-widgets/base",
       "_view_module_version": "1.2.0",
       "_view_name": "LayoutView",
       "align_content": null,
       "align_items": null,
       "align_self": null,
       "border": null,
       "bottom": null,
       "display": null,
       "flex": null,
       "flex_flow": null,
       "grid_area": null,
       "grid_auto_columns": null,
       "grid_auto_flow": null,
       "grid_auto_rows": null,
       "grid_column": null,
       "grid_gap": null,
       "grid_row": null,
       "grid_template_areas": null,
       "grid_template_columns": null,
       "grid_template_rows": null,
       "height": null,
       "justify_content": null,
       "justify_items": null,
       "left": null,
       "margin": null,
       "max_height": null,
       "max_width": null,
       "min_height": null,
       "min_width": null,
       "object_fit": null,
       "object_position": null,
       "order": null,
       "overflow": null,
       "overflow_x": null,
       "overflow_y": null,
       "padding": null,
       "right": null,
       "top": null,
       "visibility": null,
       "width": null
      }
     },
     "ee6eab580f2649edacb66bc91040e258": {
      "model_module": "@jupyter-widgets/base",
      "model_module_version": "1.2.0",
      "model_name": "LayoutModel",
      "state": {
       "_model_module": "@jupyter-widgets/base",
       "_model_module_version": "1.2.0",
       "_model_name": "LayoutModel",
       "_view_count": null,
       "_view_module": "@jupyter-widgets/base",
       "_view_module_version": "1.2.0",
       "_view_name": "LayoutView",
       "align_content": null,
       "align_items": null,
       "align_self": null,
       "border": null,
       "bottom": null,
       "display": null,
       "flex": null,
       "flex_flow": null,
       "grid_area": null,
       "grid_auto_columns": null,
       "grid_auto_flow": null,
       "grid_auto_rows": null,
       "grid_column": null,
       "grid_gap": null,
       "grid_row": null,
       "grid_template_areas": null,
       "grid_template_columns": null,
       "grid_template_rows": null,
       "height": null,
       "justify_content": null,
       "justify_items": null,
       "left": null,
       "margin": null,
       "max_height": null,
       "max_width": null,
       "min_height": null,
       "min_width": null,
       "object_fit": null,
       "object_position": null,
       "order": null,
       "overflow": null,
       "overflow_x": null,
       "overflow_y": null,
       "padding": null,
       "right": null,
       "top": null,
       "visibility": null,
       "width": null
      }
     }
    },
    "version_major": 2,
    "version_minor": 0
   }
  }
 },
 "nbformat": 4,
 "nbformat_minor": 5
}
