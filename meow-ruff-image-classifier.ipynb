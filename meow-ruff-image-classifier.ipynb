{
 "cells": [
  {
   "cell_type": "code",
   "execution_count": 1,
   "id": "364fd0ef",
   "metadata": {
    "_cell_guid": "b1076dfc-b9ad-4769-8c92-a6c4dae69d19",
    "_uuid": "8f2839f25d086af736a60e9eeb907d3b93b6e0e5",
    "execution": {
     "iopub.execute_input": "2023-03-04T10:10:49.920267Z",
     "iopub.status.busy": "2023-03-04T10:10:49.919093Z",
     "iopub.status.idle": "2023-03-04T10:10:49.931783Z",
     "shell.execute_reply": "2023-03-04T10:10:49.930823Z"
    },
    "papermill": {
     "duration": 0.021637,
     "end_time": "2023-03-04T10:10:49.934122",
     "exception": false,
     "start_time": "2023-03-04T10:10:49.912485",
     "status": "completed"
    },
    "tags": []
   },
   "outputs": [],
   "source": [
    "# This Python 3 environment comes with many helpful analytics libraries installed\n",
    "# It is defined by the kaggle/python Docker image: https://github.com/kaggle/docker-python\n",
    "# For example, here's several helpful packages to load\n",
    "\n",
    "import numpy as np # linear algebra\n",
    "import pandas as pd # data processing, CSV file I/O (e.g. pd.read_csv)\n",
    "\n",
    "# Input data files are available in the read-only \"../input/\" directory\n",
    "# For example, running this (by clicking run or pressing Shift+Enter) will list all files under the input directory\n",
    "\n",
    "import os\n",
    "for dirname, _, filenames in os.walk('/kaggle/input'):\n",
    "    for filename in filenames:\n",
    "        print(os.path.join(dirname, filename))\n",
    "\n",
    "# You can write up to 20GB to the current directory (/kaggle/working/) that gets preserved as output when you create a version using \"Save & Run All\" \n",
    "# You can also write temporary files to /kaggle/temp/, but they won't be saved outside of the current session"
   ]
  },
  {
   "cell_type": "code",
   "execution_count": 2,
   "id": "21a1bc6a",
   "metadata": {
    "execution": {
     "iopub.execute_input": "2023-03-04T10:10:49.945339Z",
     "iopub.status.busy": "2023-03-04T10:10:49.945030Z",
     "iopub.status.idle": "2023-03-04T10:10:54.631653Z",
     "shell.execute_reply": "2023-03-04T10:10:54.630443Z"
    },
    "papermill": {
     "duration": 4.69422,
     "end_time": "2023-03-04T10:10:54.634448",
     "exception": false,
     "start_time": "2023-03-04T10:10:49.940228",
     "status": "completed"
    },
    "tags": []
   },
   "outputs": [
    {
     "name": "stdout",
     "output_type": "stream",
     "text": [
      "2.7.11\n"
     ]
    }
   ],
   "source": [
    "import fastai\n",
    "print(fastai.__version__)\n",
    "\n",
    "from fastai.vision.all import *"
   ]
  },
  {
   "cell_type": "code",
   "execution_count": 3,
   "id": "c7e38e85",
   "metadata": {
    "execution": {
     "iopub.execute_input": "2023-03-04T10:10:54.643342Z",
     "iopub.status.busy": "2023-03-04T10:10:54.643041Z",
     "iopub.status.idle": "2023-03-04T10:11:13.698499Z",
     "shell.execute_reply": "2023-03-04T10:11:13.697485Z"
    },
    "papermill": {
     "duration": 19.062303,
     "end_time": "2023-03-04T10:11:13.700594",
     "exception": false,
     "start_time": "2023-03-04T10:10:54.638291",
     "status": "completed"
    },
    "tags": []
   },
   "outputs": [
    {
     "data": {
      "text/html": [
       "\n",
       "<style>\n",
       "    /* Turns off some styling */\n",
       "    progress {\n",
       "        /* gets rid of default border in Firefox and Opera. */\n",
       "        border: none;\n",
       "        /* Needs to be in here for Safari polyfill so background images work as expected. */\n",
       "        background-size: auto;\n",
       "    }\n",
       "    progress:not([value]), progress:not([value])::-webkit-progress-bar {\n",
       "        background: repeating-linear-gradient(45deg, #7e7e7e, #7e7e7e 10px, #5c5c5c 10px, #5c5c5c 20px);\n",
       "    }\n",
       "    .progress-bar-interrupted, .progress-bar-interrupted::-webkit-progress-bar {\n",
       "        background: #F44336;\n",
       "    }\n",
       "</style>\n"
      ],
      "text/plain": [
       "<IPython.core.display.HTML object>"
      ]
     },
     "metadata": {},
     "output_type": "display_data"
    },
    {
     "data": {
      "text/html": [
       "\n",
       "    <div>\n",
       "      <progress value='811712512' class='' max='811706944' style='width:300px; height:20px; vertical-align: middle;'></progress>\n",
       "      100.00% [811712512/811706944 00:08&lt;00:00]\n",
       "    </div>\n",
       "    "
      ],
      "text/plain": [
       "<IPython.core.display.HTML object>"
      ]
     },
     "metadata": {},
     "output_type": "display_data"
    },
    {
     "data": {
      "text/plain": [
       "(#7393) [Path('/root/.fastai/data/oxford-iiit-pet/images/beagle_115.jpg'),Path('/root/.fastai/data/oxford-iiit-pet/images/boxer_18.jpg'),Path('/root/.fastai/data/oxford-iiit-pet/images/Maine_Coon_157.jpg'),Path('/root/.fastai/data/oxford-iiit-pet/images/scottish_terrier_28.jpg'),Path('/root/.fastai/data/oxford-iiit-pet/images/english_setter_6.jpg'),Path('/root/.fastai/data/oxford-iiit-pet/images/american_pit_bull_terrier_79.jpg'),Path('/root/.fastai/data/oxford-iiit-pet/images/boxer_128.jpg'),Path('/root/.fastai/data/oxford-iiit-pet/images/Persian_265.jpg'),Path('/root/.fastai/data/oxford-iiit-pet/images/Maine_Coon_182.jpg'),Path('/root/.fastai/data/oxford-iiit-pet/images/keeshond_89.jpg')...]"
      ]
     },
     "execution_count": 3,
     "metadata": {},
     "output_type": "execute_result"
    }
   ],
   "source": [
    "path = untar_data(URLs.PETS)/'images'\n",
    "path.ls()"
   ]
  },
  {
   "cell_type": "code",
   "execution_count": 4,
   "id": "026087d8",
   "metadata": {
    "execution": {
     "iopub.execute_input": "2023-03-04T10:11:13.709846Z",
     "iopub.status.busy": "2023-03-04T10:11:13.709560Z",
     "iopub.status.idle": "2023-03-04T10:11:13.715818Z",
     "shell.execute_reply": "2023-03-04T10:11:13.714960Z"
    },
    "papermill": {
     "duration": 0.013032,
     "end_time": "2023-03-04T10:11:13.717846",
     "exception": false,
     "start_time": "2023-03-04T10:11:13.704814",
     "status": "completed"
    },
    "tags": []
   },
   "outputs": [],
   "source": [
    "def is_cat(x): return x[0].isupper()"
   ]
  },
  {
   "cell_type": "code",
   "execution_count": 5,
   "id": "69f6582f",
   "metadata": {
    "execution": {
     "iopub.execute_input": "2023-03-04T10:11:13.726351Z",
     "iopub.status.busy": "2023-03-04T10:11:13.726071Z",
     "iopub.status.idle": "2023-03-04T10:11:16.965934Z",
     "shell.execute_reply": "2023-03-04T10:11:16.963233Z"
    },
    "papermill": {
     "duration": 3.252487,
     "end_time": "2023-03-04T10:11:16.973886",
     "exception": false,
     "start_time": "2023-03-04T10:11:13.721399",
     "status": "completed"
    },
    "tags": []
   },
   "outputs": [],
   "source": [
    "dls = ImageDataLoaders.from_name_func(\n",
    "        path, get_image_files(path), valid_pct=0.2, seed=42,\n",
    "        label_func=is_cat, item_tfms=Resize(224))"
   ]
  },
  {
   "cell_type": "code",
   "execution_count": 6,
   "id": "a4a9d0f2",
   "metadata": {
    "execution": {
     "iopub.execute_input": "2023-03-04T10:11:16.993186Z",
     "iopub.status.busy": "2023-03-04T10:11:16.991619Z",
     "iopub.status.idle": "2023-03-04T10:13:26.992879Z",
     "shell.execute_reply": "2023-03-04T10:13:26.991655Z"
    },
    "papermill": {
     "duration": 130.01431,
     "end_time": "2023-03-04T10:13:26.995198",
     "exception": false,
     "start_time": "2023-03-04T10:11:16.980888",
     "status": "completed"
    },
    "tags": []
   },
   "outputs": [
    {
     "name": "stderr",
     "output_type": "stream",
     "text": [
      "/opt/conda/lib/python3.7/site-packages/torchvision/models/_utils.py:209: UserWarning: The parameter 'pretrained' is deprecated since 0.13 and will be removed in 0.15, please use 'weights' instead.\n",
      "  f\"The parameter '{pretrained_param}' is deprecated since 0.13 and will be removed in 0.15, \"\n",
      "/opt/conda/lib/python3.7/site-packages/torchvision/models/_utils.py:223: UserWarning: Arguments other than a weight enum or `None` for 'weights' are deprecated since 0.13 and will be removed in 0.15. The current behavior is equivalent to passing `weights=ResNet34_Weights.IMAGENET1K_V1`. You can also use `weights=ResNet34_Weights.DEFAULT` to get the most up-to-date weights.\n",
      "  warnings.warn(msg)\n",
      "Downloading: \"https://download.pytorch.org/models/resnet34-b627a593.pth\" to /root/.cache/torch/hub/checkpoints/resnet34-b627a593.pth\n"
     ]
    },
    {
     "data": {
      "application/vnd.jupyter.widget-view+json": {
       "model_id": "35fda19ca27d410ab9ee140d0e88dbe4",
       "version_major": 2,
       "version_minor": 0
      },
      "text/plain": [
       "  0%|          | 0.00/83.3M [00:00<?, ?B/s]"
      ]
     },
     "metadata": {},
     "output_type": "display_data"
    },
    {
     "data": {
      "text/html": [
       "\n",
       "<style>\n",
       "    /* Turns off some styling */\n",
       "    progress {\n",
       "        /* gets rid of default border in Firefox and Opera. */\n",
       "        border: none;\n",
       "        /* Needs to be in here for Safari polyfill so background images work as expected. */\n",
       "        background-size: auto;\n",
       "    }\n",
       "    progress:not([value]), progress:not([value])::-webkit-progress-bar {\n",
       "        background: repeating-linear-gradient(45deg, #7e7e7e, #7e7e7e 10px, #5c5c5c 10px, #5c5c5c 20px);\n",
       "    }\n",
       "    .progress-bar-interrupted, .progress-bar-interrupted::-webkit-progress-bar {\n",
       "        background: #F44336;\n",
       "    }\n",
       "</style>\n"
      ],
      "text/plain": [
       "<IPython.core.display.HTML object>"
      ]
     },
     "metadata": {},
     "output_type": "display_data"
    },
    {
     "data": {
      "text/html": [
       "<table border=\"1\" class=\"dataframe\">\n",
       "  <thead>\n",
       "    <tr style=\"text-align: left;\">\n",
       "      <th>epoch</th>\n",
       "      <th>train_loss</th>\n",
       "      <th>valid_loss</th>\n",
       "      <th>error_rate</th>\n",
       "      <th>time</th>\n",
       "    </tr>\n",
       "  </thead>\n",
       "  <tbody>\n",
       "    <tr>\n",
       "      <td>0</td>\n",
       "      <td>0.166081</td>\n",
       "      <td>0.021144</td>\n",
       "      <td>0.007442</td>\n",
       "      <td>01:03</td>\n",
       "    </tr>\n",
       "  </tbody>\n",
       "</table>"
      ],
      "text/plain": [
       "<IPython.core.display.HTML object>"
      ]
     },
     "metadata": {},
     "output_type": "display_data"
    },
    {
     "data": {
      "text/html": [
       "\n",
       "<style>\n",
       "    /* Turns off some styling */\n",
       "    progress {\n",
       "        /* gets rid of default border in Firefox and Opera. */\n",
       "        border: none;\n",
       "        /* Needs to be in here for Safari polyfill so background images work as expected. */\n",
       "        background-size: auto;\n",
       "    }\n",
       "    progress:not([value]), progress:not([value])::-webkit-progress-bar {\n",
       "        background: repeating-linear-gradient(45deg, #7e7e7e, #7e7e7e 10px, #5c5c5c 10px, #5c5c5c 20px);\n",
       "    }\n",
       "    .progress-bar-interrupted, .progress-bar-interrupted::-webkit-progress-bar {\n",
       "        background: #F44336;\n",
       "    }\n",
       "</style>\n"
      ],
      "text/plain": [
       "<IPython.core.display.HTML object>"
      ]
     },
     "metadata": {},
     "output_type": "display_data"
    },
    {
     "data": {
      "text/html": [
       "<table border=\"1\" class=\"dataframe\">\n",
       "  <thead>\n",
       "    <tr style=\"text-align: left;\">\n",
       "      <th>epoch</th>\n",
       "      <th>train_loss</th>\n",
       "      <th>valid_loss</th>\n",
       "      <th>error_rate</th>\n",
       "      <th>time</th>\n",
       "    </tr>\n",
       "  </thead>\n",
       "  <tbody>\n",
       "    <tr>\n",
       "      <td>0</td>\n",
       "      <td>0.070836</td>\n",
       "      <td>0.011372</td>\n",
       "      <td>0.005413</td>\n",
       "      <td>01:02</td>\n",
       "    </tr>\n",
       "  </tbody>\n",
       "</table>"
      ],
      "text/plain": [
       "<IPython.core.display.HTML object>"
      ]
     },
     "metadata": {},
     "output_type": "display_data"
    }
   ],
   "source": [
    "#downloads a statndard dataset\n",
    "learn = vision_learner(dls, resnet34, loss_func=F.cross_entropy, metrics=error_rate)\n",
    "learn.fine_tune(1)"
   ]
  },
  {
   "cell_type": "code",
   "execution_count": 7,
   "id": "6f2c1e55",
   "metadata": {
    "execution": {
     "iopub.execute_input": "2023-03-04T10:13:27.008072Z",
     "iopub.status.busy": "2023-03-04T10:13:27.007733Z",
     "iopub.status.idle": "2023-03-04T10:13:27.014573Z",
     "shell.execute_reply": "2023-03-04T10:13:27.013622Z"
    },
    "papermill": {
     "duration": 0.015453,
     "end_time": "2023-03-04T10:13:27.016593",
     "exception": false,
     "start_time": "2023-03-04T10:13:27.001140",
     "status": "completed"
    },
    "tags": []
   },
   "outputs": [
    {
     "data": {
      "text/plain": [
       "True"
      ]
     },
     "execution_count": 7,
     "metadata": {},
     "output_type": "execute_result"
    }
   ],
   "source": [
    "torch.cuda.is_available()"
   ]
  },
  {
   "cell_type": "code",
   "execution_count": 8,
   "id": "9e8d3066",
   "metadata": {
    "execution": {
     "iopub.execute_input": "2023-03-04T10:13:27.027657Z",
     "iopub.status.busy": "2023-03-04T10:13:27.026912Z",
     "iopub.status.idle": "2023-03-04T10:13:27.031115Z",
     "shell.execute_reply": "2023-03-04T10:13:27.030014Z"
    },
    "papermill": {
     "duration": 0.012401,
     "end_time": "2023-03-04T10:13:27.033655",
     "exception": false,
     "start_time": "2023-03-04T10:13:27.021254",
     "status": "completed"
    },
    "tags": []
   },
   "outputs": [],
   "source": [
    "# File Upload Widget is not working correctly or remote server so i have coomented out for now\n",
    "# import ipywidgets as widgets\n",
    "# uploader = widgets.FileUpload()\n",
    "# uploader"
   ]
  },
  {
   "cell_type": "code",
   "execution_count": 9,
   "id": "3b3f7757",
   "metadata": {
    "execution": {
     "iopub.execute_input": "2023-03-04T10:13:27.044793Z",
     "iopub.status.busy": "2023-03-04T10:13:27.043957Z",
     "iopub.status.idle": "2023-03-04T10:13:27.048510Z",
     "shell.execute_reply": "2023-03-04T10:13:27.047554Z"
    },
    "papermill": {
     "duration": 0.012092,
     "end_time": "2023-03-04T10:13:27.050464",
     "exception": false,
     "start_time": "2023-03-04T10:13:27.038372",
     "status": "completed"
    },
    "tags": []
   },
   "outputs": [],
   "source": [
    "# uploader = SimpleNamespace(data = [Path('/root/.fastai/data/oxford-iiit-pet/images/Abyssinian_1.jpg')])\n",
    "# uploader"
   ]
  },
  {
   "cell_type": "code",
   "execution_count": 10,
   "id": "bc4720c7",
   "metadata": {
    "execution": {
     "iopub.execute_input": "2023-03-04T10:13:27.061559Z",
     "iopub.status.busy": "2023-03-04T10:13:27.060726Z",
     "iopub.status.idle": "2023-03-04T10:13:27.065131Z",
     "shell.execute_reply": "2023-03-04T10:13:27.064206Z"
    },
    "papermill": {
     "duration": 0.01188,
     "end_time": "2023-03-04T10:13:27.067148",
     "exception": false,
     "start_time": "2023-03-04T10:13:27.055268",
     "status": "completed"
    },
    "tags": []
   },
   "outputs": [],
   "source": [
    "# img = PILImage.create(uploader.data[0])\n",
    "\n",
    "# img = Image.open(uploader.data[0])\n",
    "# img.show()"
   ]
  },
  {
   "cell_type": "code",
   "execution_count": 11,
   "id": "9edddee0",
   "metadata": {
    "execution": {
     "iopub.execute_input": "2023-03-04T10:13:27.078213Z",
     "iopub.status.busy": "2023-03-04T10:13:27.077304Z",
     "iopub.status.idle": "2023-03-04T10:13:27.278649Z",
     "shell.execute_reply": "2023-03-04T10:13:27.277612Z"
    },
    "papermill": {
     "duration": 0.209232,
     "end_time": "2023-03-04T10:13:27.281097",
     "exception": false,
     "start_time": "2023-03-04T10:13:27.071865",
     "status": "completed"
    },
    "tags": []
   },
   "outputs": [],
   "source": [
    "learn.export()"
   ]
  },
  {
   "cell_type": "code",
   "execution_count": 12,
   "id": "aeed0bf9",
   "metadata": {
    "execution": {
     "iopub.execute_input": "2023-03-04T10:13:27.291689Z",
     "iopub.status.busy": "2023-03-04T10:13:27.291092Z",
     "iopub.status.idle": "2023-03-04T10:13:27.295425Z",
     "shell.execute_reply": "2023-03-04T10:13:27.294375Z"
    },
    "papermill": {
     "duration": 0.012164,
     "end_time": "2023-03-04T10:13:27.297853",
     "exception": false,
     "start_time": "2023-03-04T10:13:27.285689",
     "status": "completed"
    },
    "tags": []
   },
   "outputs": [],
   "source": [
    "# path.ls(file_exts='.pkl')"
   ]
  },
  {
   "cell_type": "code",
   "execution_count": 13,
   "id": "fc21504d",
   "metadata": {
    "execution": {
     "iopub.execute_input": "2023-03-04T10:13:27.307956Z",
     "iopub.status.busy": "2023-03-04T10:13:27.307696Z",
     "iopub.status.idle": "2023-03-04T10:13:27.312644Z",
     "shell.execute_reply": "2023-03-04T10:13:27.311812Z"
    },
    "papermill": {
     "duration": 0.01229,
     "end_time": "2023-03-04T10:13:27.314452",
     "exception": false,
     "start_time": "2023-03-04T10:13:27.302162",
     "status": "completed"
    },
    "tags": []
   },
   "outputs": [],
   "source": [
    "# is_cat,_,probs = learn.predict(img)"
   ]
  },
  {
   "cell_type": "code",
   "execution_count": 14,
   "id": "d20e8d48",
   "metadata": {
    "execution": {
     "iopub.execute_input": "2023-03-04T10:13:27.324788Z",
     "iopub.status.busy": "2023-03-04T10:13:27.323980Z",
     "iopub.status.idle": "2023-03-04T10:13:27.328146Z",
     "shell.execute_reply": "2023-03-04T10:13:27.327333Z"
    },
    "papermill": {
     "duration": 0.011335,
     "end_time": "2023-03-04T10:13:27.330166",
     "exception": false,
     "start_time": "2023-03-04T10:13:27.318831",
     "status": "completed"
    },
    "tags": []
   },
   "outputs": [],
   "source": [
    "# print(f\"Is this a cat?:{is_cat}.\")\n",
    "# print(f\"Probability it's a cat:{probs[1].item():.6f}\")"
   ]
  }
 ],
 "metadata": {
  "kernelspec": {
   "display_name": "Python 3",
   "language": "python",
   "name": "python3"
  },
  "language_info": {
   "codemirror_mode": {
    "name": "ipython",
    "version": 3
   },
   "file_extension": ".py",
   "mimetype": "text/x-python",
   "name": "python",
   "nbconvert_exporter": "python",
   "pygments_lexer": "ipython3",
   "version": "3.7.12"
  },
  "papermill": {
   "default_parameters": {},
   "duration": 168.509332,
   "end_time": "2023-03-04T10:13:30.002765",
   "environment_variables": {},
   "exception": null,
   "input_path": "__notebook__.ipynb",
   "output_path": "__notebook__.ipynb",
   "parameters": {},
   "start_time": "2023-03-04T10:10:41.493433",
   "version": "2.3.4"
  },
  "widgets": {
   "application/vnd.jupyter.widget-state+json": {
    "state": {
     "0391c90f4ea54f10ad9c10e9f009dd4d": {
      "model_module": "@jupyter-widgets/base",
      "model_module_version": "1.2.0",
      "model_name": "LayoutModel",
      "state": {
       "_model_module": "@jupyter-widgets/base",
       "_model_module_version": "1.2.0",
       "_model_name": "LayoutModel",
       "_view_count": null,
       "_view_module": "@jupyter-widgets/base",
       "_view_module_version": "1.2.0",
       "_view_name": "LayoutView",
       "align_content": null,
       "align_items": null,
       "align_self": null,
       "border": null,
       "bottom": null,
       "display": null,
       "flex": null,
       "flex_flow": null,
       "grid_area": null,
       "grid_auto_columns": null,
       "grid_auto_flow": null,
       "grid_auto_rows": null,
       "grid_column": null,
       "grid_gap": null,
       "grid_row": null,
       "grid_template_areas": null,
       "grid_template_columns": null,
       "grid_template_rows": null,
       "height": null,
       "justify_content": null,
       "justify_items": null,
       "left": null,
       "margin": null,
       "max_height": null,
       "max_width": null,
       "min_height": null,
       "min_width": null,
       "object_fit": null,
       "object_position": null,
       "order": null,
       "overflow": null,
       "overflow_x": null,
       "overflow_y": null,
       "padding": null,
       "right": null,
       "top": null,
       "visibility": null,
       "width": null
      }
     },
     "30c8da2d04eb43feafc03197300b0022": {
      "model_module": "@jupyter-widgets/base",
      "model_module_version": "1.2.0",
      "model_name": "LayoutModel",
      "state": {
       "_model_module": "@jupyter-widgets/base",
       "_model_module_version": "1.2.0",
       "_model_name": "LayoutModel",
       "_view_count": null,
       "_view_module": "@jupyter-widgets/base",
       "_view_module_version": "1.2.0",
       "_view_name": "LayoutView",
       "align_content": null,
       "align_items": null,
       "align_self": null,
       "border": null,
       "bottom": null,
       "display": null,
       "flex": null,
       "flex_flow": null,
       "grid_area": null,
       "grid_auto_columns": null,
       "grid_auto_flow": null,
       "grid_auto_rows": null,
       "grid_column": null,
       "grid_gap": null,
       "grid_row": null,
       "grid_template_areas": null,
       "grid_template_columns": null,
       "grid_template_rows": null,
       "height": null,
       "justify_content": null,
       "justify_items": null,
       "left": null,
       "margin": null,
       "max_height": null,
       "max_width": null,
       "min_height": null,
       "min_width": null,
       "object_fit": null,
       "object_position": null,
       "order": null,
       "overflow": null,
       "overflow_x": null,
       "overflow_y": null,
       "padding": null,
       "right": null,
       "top": null,
       "visibility": null,
       "width": null
      }
     },
     "35fda19ca27d410ab9ee140d0e88dbe4": {
      "model_module": "@jupyter-widgets/controls",
      "model_module_version": "1.5.0",
      "model_name": "HBoxModel",
      "state": {
       "_dom_classes": [],
       "_model_module": "@jupyter-widgets/controls",
       "_model_module_version": "1.5.0",
       "_model_name": "HBoxModel",
       "_view_count": null,
       "_view_module": "@jupyter-widgets/controls",
       "_view_module_version": "1.5.0",
       "_view_name": "HBoxView",
       "box_style": "",
       "children": [
        "IPY_MODEL_511c204929484f8f9a6c9df0c1a72286",
        "IPY_MODEL_affabdc4a2914d42a481ad222077218a",
        "IPY_MODEL_b651540adbd846a8ab901981b7fe7577"
       ],
       "layout": "IPY_MODEL_601c5a3c07364c8893e32d6a7ae35e10"
      }
     },
     "3ada7fc3f6864ce6ba70af953af89462": {
      "model_module": "@jupyter-widgets/controls",
      "model_module_version": "1.5.0",
      "model_name": "ProgressStyleModel",
      "state": {
       "_model_module": "@jupyter-widgets/controls",
       "_model_module_version": "1.5.0",
       "_model_name": "ProgressStyleModel",
       "_view_count": null,
       "_view_module": "@jupyter-widgets/base",
       "_view_module_version": "1.2.0",
       "_view_name": "StyleView",
       "bar_color": null,
       "description_width": ""
      }
     },
     "511c204929484f8f9a6c9df0c1a72286": {
      "model_module": "@jupyter-widgets/controls",
      "model_module_version": "1.5.0",
      "model_name": "HTMLModel",
      "state": {
       "_dom_classes": [],
       "_model_module": "@jupyter-widgets/controls",
       "_model_module_version": "1.5.0",
       "_model_name": "HTMLModel",
       "_view_count": null,
       "_view_module": "@jupyter-widgets/controls",
       "_view_module_version": "1.5.0",
       "_view_name": "HTMLView",
       "description": "",
       "description_tooltip": null,
       "layout": "IPY_MODEL_934715b5d97644c2aeb6ba8213eebe1b",
       "placeholder": "​",
       "style": "IPY_MODEL_5968b39fa6e94a308e9bd3c384b3da69",
       "value": "100%"
      }
     },
     "5968b39fa6e94a308e9bd3c384b3da69": {
      "model_module": "@jupyter-widgets/controls",
      "model_module_version": "1.5.0",
      "model_name": "DescriptionStyleModel",
      "state": {
       "_model_module": "@jupyter-widgets/controls",
       "_model_module_version": "1.5.0",
       "_model_name": "DescriptionStyleModel",
       "_view_count": null,
       "_view_module": "@jupyter-widgets/base",
       "_view_module_version": "1.2.0",
       "_view_name": "StyleView",
       "description_width": ""
      }
     },
     "601c5a3c07364c8893e32d6a7ae35e10": {
      "model_module": "@jupyter-widgets/base",
      "model_module_version": "1.2.0",
      "model_name": "LayoutModel",
      "state": {
       "_model_module": "@jupyter-widgets/base",
       "_model_module_version": "1.2.0",
       "_model_name": "LayoutModel",
       "_view_count": null,
       "_view_module": "@jupyter-widgets/base",
       "_view_module_version": "1.2.0",
       "_view_name": "LayoutView",
       "align_content": null,
       "align_items": null,
       "align_self": null,
       "border": null,
       "bottom": null,
       "display": null,
       "flex": null,
       "flex_flow": null,
       "grid_area": null,
       "grid_auto_columns": null,
       "grid_auto_flow": null,
       "grid_auto_rows": null,
       "grid_column": null,
       "grid_gap": null,
       "grid_row": null,
       "grid_template_areas": null,
       "grid_template_columns": null,
       "grid_template_rows": null,
       "height": null,
       "justify_content": null,
       "justify_items": null,
       "left": null,
       "margin": null,
       "max_height": null,
       "max_width": null,
       "min_height": null,
       "min_width": null,
       "object_fit": null,
       "object_position": null,
       "order": null,
       "overflow": null,
       "overflow_x": null,
       "overflow_y": null,
       "padding": null,
       "right": null,
       "top": null,
       "visibility": null,
       "width": null
      }
     },
     "934715b5d97644c2aeb6ba8213eebe1b": {
      "model_module": "@jupyter-widgets/base",
      "model_module_version": "1.2.0",
      "model_name": "LayoutModel",
      "state": {
       "_model_module": "@jupyter-widgets/base",
       "_model_module_version": "1.2.0",
       "_model_name": "LayoutModel",
       "_view_count": null,
       "_view_module": "@jupyter-widgets/base",
       "_view_module_version": "1.2.0",
       "_view_name": "LayoutView",
       "align_content": null,
       "align_items": null,
       "align_self": null,
       "border": null,
       "bottom": null,
       "display": null,
       "flex": null,
       "flex_flow": null,
       "grid_area": null,
       "grid_auto_columns": null,
       "grid_auto_flow": null,
       "grid_auto_rows": null,
       "grid_column": null,
       "grid_gap": null,
       "grid_row": null,
       "grid_template_areas": null,
       "grid_template_columns": null,
       "grid_template_rows": null,
       "height": null,
       "justify_content": null,
       "justify_items": null,
       "left": null,
       "margin": null,
       "max_height": null,
       "max_width": null,
       "min_height": null,
       "min_width": null,
       "object_fit": null,
       "object_position": null,
       "order": null,
       "overflow": null,
       "overflow_x": null,
       "overflow_y": null,
       "padding": null,
       "right": null,
       "top": null,
       "visibility": null,
       "width": null
      }
     },
     "af23d76c83364a608e589a2202604885": {
      "model_module": "@jupyter-widgets/controls",
      "model_module_version": "1.5.0",
      "model_name": "DescriptionStyleModel",
      "state": {
       "_model_module": "@jupyter-widgets/controls",
       "_model_module_version": "1.5.0",
       "_model_name": "DescriptionStyleModel",
       "_view_count": null,
       "_view_module": "@jupyter-widgets/base",
       "_view_module_version": "1.2.0",
       "_view_name": "StyleView",
       "description_width": ""
      }
     },
     "affabdc4a2914d42a481ad222077218a": {
      "model_module": "@jupyter-widgets/controls",
      "model_module_version": "1.5.0",
      "model_name": "FloatProgressModel",
      "state": {
       "_dom_classes": [],
       "_model_module": "@jupyter-widgets/controls",
       "_model_module_version": "1.5.0",
       "_model_name": "FloatProgressModel",
       "_view_count": null,
       "_view_module": "@jupyter-widgets/controls",
       "_view_module_version": "1.5.0",
       "_view_name": "ProgressView",
       "bar_style": "success",
       "description": "",
       "description_tooltip": null,
       "layout": "IPY_MODEL_0391c90f4ea54f10ad9c10e9f009dd4d",
       "max": 87319819.0,
       "min": 0.0,
       "orientation": "horizontal",
       "style": "IPY_MODEL_3ada7fc3f6864ce6ba70af953af89462",
       "value": 87319819.0
      }
     },
     "b651540adbd846a8ab901981b7fe7577": {
      "model_module": "@jupyter-widgets/controls",
      "model_module_version": "1.5.0",
      "model_name": "HTMLModel",
      "state": {
       "_dom_classes": [],
       "_model_module": "@jupyter-widgets/controls",
       "_model_module_version": "1.5.0",
       "_model_name": "HTMLModel",
       "_view_count": null,
       "_view_module": "@jupyter-widgets/controls",
       "_view_module_version": "1.5.0",
       "_view_name": "HTMLView",
       "description": "",
       "description_tooltip": null,
       "layout": "IPY_MODEL_30c8da2d04eb43feafc03197300b0022",
       "placeholder": "​",
       "style": "IPY_MODEL_af23d76c83364a608e589a2202604885",
       "value": " 83.3M/83.3M [00:01&lt;00:00, 48.8MB/s]"
      }
     }
    },
    "version_major": 2,
    "version_minor": 0
   }
  }
 },
 "nbformat": 4,
 "nbformat_minor": 5
}
