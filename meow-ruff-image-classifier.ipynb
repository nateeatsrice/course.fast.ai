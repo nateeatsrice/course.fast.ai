{
 "cells": [
  {
   "cell_type": "code",
   "execution_count": 1,
   "id": "44e86564",
   "metadata": {
    "_cell_guid": "b1076dfc-b9ad-4769-8c92-a6c4dae69d19",
    "_uuid": "8f2839f25d086af736a60e9eeb907d3b93b6e0e5",
    "execution": {
     "iopub.execute_input": "2023-03-04T09:55:01.191449Z",
     "iopub.status.busy": "2023-03-04T09:55:01.190247Z",
     "iopub.status.idle": "2023-03-04T09:55:01.203007Z",
     "shell.execute_reply": "2023-03-04T09:55:01.202102Z"
    },
    "papermill": {
     "duration": 0.020914,
     "end_time": "2023-03-04T09:55:01.205223",
     "exception": false,
     "start_time": "2023-03-04T09:55:01.184309",
     "status": "completed"
    },
    "tags": []
   },
   "outputs": [],
   "source": [
    "# This Python 3 environment comes with many helpful analytics libraries installed\n",
    "# It is defined by the kaggle/python Docker image: https://github.com/kaggle/docker-python\n",
    "# For example, here's several helpful packages to load\n",
    "\n",
    "import numpy as np # linear algebra\n",
    "import pandas as pd # data processing, CSV file I/O (e.g. pd.read_csv)\n",
    "\n",
    "# Input data files are available in the read-only \"../input/\" directory\n",
    "# For example, running this (by clicking run or pressing Shift+Enter) will list all files under the input directory\n",
    "\n",
    "import os\n",
    "for dirname, _, filenames in os.walk('/kaggle/input'):\n",
    "    for filename in filenames:\n",
    "        print(os.path.join(dirname, filename))\n",
    "\n",
    "# You can write up to 20GB to the current directory (/kaggle/working/) that gets preserved as output when you create a version using \"Save & Run All\" \n",
    "# You can also write temporary files to /kaggle/temp/, but they won't be saved outside of the current session"
   ]
  },
  {
   "cell_type": "code",
   "execution_count": 2,
   "id": "b0153bd0",
   "metadata": {
    "execution": {
     "iopub.execute_input": "2023-03-04T09:55:01.216522Z",
     "iopub.status.busy": "2023-03-04T09:55:01.214969Z",
     "iopub.status.idle": "2023-03-04T09:55:05.844596Z",
     "shell.execute_reply": "2023-03-04T09:55:05.843475Z"
    },
    "papermill": {
     "duration": 4.636335,
     "end_time": "2023-03-04T09:55:05.847173",
     "exception": false,
     "start_time": "2023-03-04T09:55:01.210838",
     "status": "completed"
    },
    "tags": []
   },
   "outputs": [
    {
     "name": "stdout",
     "output_type": "stream",
     "text": [
      "2.7.11\n"
     ]
    }
   ],
   "source": [
    "import fastai\n",
    "print(fastai.__version__)\n",
    "\n",
    "from fastai.vision.all import *"
   ]
  },
  {
   "cell_type": "code",
   "execution_count": 3,
   "id": "31cac366",
   "metadata": {
    "execution": {
     "iopub.execute_input": "2023-03-04T09:55:05.857001Z",
     "iopub.status.busy": "2023-03-04T09:55:05.856672Z",
     "iopub.status.idle": "2023-03-04T09:55:25.306614Z",
     "shell.execute_reply": "2023-03-04T09:55:25.305646Z"
    },
    "papermill": {
     "duration": 19.457025,
     "end_time": "2023-03-04T09:55:25.308759",
     "exception": false,
     "start_time": "2023-03-04T09:55:05.851734",
     "status": "completed"
    },
    "tags": []
   },
   "outputs": [
    {
     "data": {
      "text/html": [
       "\n",
       "<style>\n",
       "    /* Turns off some styling */\n",
       "    progress {\n",
       "        /* gets rid of default border in Firefox and Opera. */\n",
       "        border: none;\n",
       "        /* Needs to be in here for Safari polyfill so background images work as expected. */\n",
       "        background-size: auto;\n",
       "    }\n",
       "    progress:not([value]), progress:not([value])::-webkit-progress-bar {\n",
       "        background: repeating-linear-gradient(45deg, #7e7e7e, #7e7e7e 10px, #5c5c5c 10px, #5c5c5c 20px);\n",
       "    }\n",
       "    .progress-bar-interrupted, .progress-bar-interrupted::-webkit-progress-bar {\n",
       "        background: #F44336;\n",
       "    }\n",
       "</style>\n"
      ],
      "text/plain": [
       "<IPython.core.display.HTML object>"
      ]
     },
     "metadata": {},
     "output_type": "display_data"
    },
    {
     "data": {
      "text/html": [
       "\n",
       "    <div>\n",
       "      <progress value='811712512' class='' max='811706944' style='width:300px; height:20px; vertical-align: middle;'></progress>\n",
       "      100.00% [811712512/811706944 00:08&lt;00:00]\n",
       "    </div>\n",
       "    "
      ],
      "text/plain": [
       "<IPython.core.display.HTML object>"
      ]
     },
     "metadata": {},
     "output_type": "display_data"
    },
    {
     "data": {
      "text/plain": [
       "(#7393) [Path('/root/.fastai/data/oxford-iiit-pet/images/beagle_115.jpg'),Path('/root/.fastai/data/oxford-iiit-pet/images/boxer_18.jpg'),Path('/root/.fastai/data/oxford-iiit-pet/images/Maine_Coon_157.jpg'),Path('/root/.fastai/data/oxford-iiit-pet/images/scottish_terrier_28.jpg'),Path('/root/.fastai/data/oxford-iiit-pet/images/english_setter_6.jpg'),Path('/root/.fastai/data/oxford-iiit-pet/images/american_pit_bull_terrier_79.jpg'),Path('/root/.fastai/data/oxford-iiit-pet/images/boxer_128.jpg'),Path('/root/.fastai/data/oxford-iiit-pet/images/Persian_265.jpg'),Path('/root/.fastai/data/oxford-iiit-pet/images/Maine_Coon_182.jpg'),Path('/root/.fastai/data/oxford-iiit-pet/images/keeshond_89.jpg')...]"
      ]
     },
     "execution_count": 3,
     "metadata": {},
     "output_type": "execute_result"
    }
   ],
   "source": [
    "path = untar_data(URLs.PETS)/'images'\n",
    "path.ls()"
   ]
  },
  {
   "cell_type": "code",
   "execution_count": 4,
   "id": "a642c71a",
   "metadata": {
    "execution": {
     "iopub.execute_input": "2023-03-04T09:55:25.317513Z",
     "iopub.status.busy": "2023-03-04T09:55:25.317161Z",
     "iopub.status.idle": "2023-03-04T09:55:25.322867Z",
     "shell.execute_reply": "2023-03-04T09:55:25.321408Z"
    },
    "papermill": {
     "duration": 0.012331,
     "end_time": "2023-03-04T09:55:25.324945",
     "exception": false,
     "start_time": "2023-03-04T09:55:25.312614",
     "status": "completed"
    },
    "tags": []
   },
   "outputs": [],
   "source": [
    "def is_cat(x): return x[0].isupper()"
   ]
  },
  {
   "cell_type": "code",
   "execution_count": 5,
   "id": "64ea544d",
   "metadata": {
    "execution": {
     "iopub.execute_input": "2023-03-04T09:55:25.335717Z",
     "iopub.status.busy": "2023-03-04T09:55:25.333848Z",
     "iopub.status.idle": "2023-03-04T09:55:28.407698Z",
     "shell.execute_reply": "2023-03-04T09:55:28.406691Z"
    },
    "papermill": {
     "duration": 3.081329,
     "end_time": "2023-03-04T09:55:28.410199",
     "exception": false,
     "start_time": "2023-03-04T09:55:25.328870",
     "status": "completed"
    },
    "tags": []
   },
   "outputs": [],
   "source": [
    "dls = ImageDataLoaders.from_name_func(\n",
    "        path, get_image_files(path), valid_pct=0.2, seed=42,\n",
    "        label_func=is_cat, item_tfms=Resize(224))"
   ]
  },
  {
   "cell_type": "code",
   "execution_count": 6,
   "id": "f22e358b",
   "metadata": {
    "execution": {
     "iopub.execute_input": "2023-03-04T09:55:28.419667Z",
     "iopub.status.busy": "2023-03-04T09:55:28.418910Z",
     "iopub.status.idle": "2023-03-04T09:57:34.813166Z",
     "shell.execute_reply": "2023-03-04T09:57:34.812012Z"
    },
    "papermill": {
     "duration": 126.401506,
     "end_time": "2023-03-04T09:57:34.815713",
     "exception": false,
     "start_time": "2023-03-04T09:55:28.414207",
     "status": "completed"
    },
    "tags": []
   },
   "outputs": [
    {
     "name": "stderr",
     "output_type": "stream",
     "text": [
      "/opt/conda/lib/python3.7/site-packages/torchvision/models/_utils.py:209: UserWarning: The parameter 'pretrained' is deprecated since 0.13 and will be removed in 0.15, please use 'weights' instead.\n",
      "  f\"The parameter '{pretrained_param}' is deprecated since 0.13 and will be removed in 0.15, \"\n",
      "/opt/conda/lib/python3.7/site-packages/torchvision/models/_utils.py:223: UserWarning: Arguments other than a weight enum or `None` for 'weights' are deprecated since 0.13 and will be removed in 0.15. The current behavior is equivalent to passing `weights=ResNet34_Weights.IMAGENET1K_V1`. You can also use `weights=ResNet34_Weights.DEFAULT` to get the most up-to-date weights.\n",
      "  warnings.warn(msg)\n",
      "Downloading: \"https://download.pytorch.org/models/resnet34-b627a593.pth\" to /root/.cache/torch/hub/checkpoints/resnet34-b627a593.pth\n"
     ]
    },
    {
     "data": {
      "application/vnd.jupyter.widget-view+json": {
       "model_id": "8ecac5206c3545d39accc7d9403e138a",
       "version_major": 2,
       "version_minor": 0
      },
      "text/plain": [
       "  0%|          | 0.00/83.3M [00:00<?, ?B/s]"
      ]
     },
     "metadata": {},
     "output_type": "display_data"
    },
    {
     "data": {
      "text/html": [
       "\n",
       "<style>\n",
       "    /* Turns off some styling */\n",
       "    progress {\n",
       "        /* gets rid of default border in Firefox and Opera. */\n",
       "        border: none;\n",
       "        /* Needs to be in here for Safari polyfill so background images work as expected. */\n",
       "        background-size: auto;\n",
       "    }\n",
       "    progress:not([value]), progress:not([value])::-webkit-progress-bar {\n",
       "        background: repeating-linear-gradient(45deg, #7e7e7e, #7e7e7e 10px, #5c5c5c 10px, #5c5c5c 20px);\n",
       "    }\n",
       "    .progress-bar-interrupted, .progress-bar-interrupted::-webkit-progress-bar {\n",
       "        background: #F44336;\n",
       "    }\n",
       "</style>\n"
      ],
      "text/plain": [
       "<IPython.core.display.HTML object>"
      ]
     },
     "metadata": {},
     "output_type": "display_data"
    },
    {
     "data": {
      "text/html": [
       "<table border=\"1\" class=\"dataframe\">\n",
       "  <thead>\n",
       "    <tr style=\"text-align: left;\">\n",
       "      <th>epoch</th>\n",
       "      <th>train_loss</th>\n",
       "      <th>valid_loss</th>\n",
       "      <th>error_rate</th>\n",
       "      <th>time</th>\n",
       "    </tr>\n",
       "  </thead>\n",
       "  <tbody>\n",
       "    <tr>\n",
       "      <td>0</td>\n",
       "      <td>0.154325</td>\n",
       "      <td>0.013100</td>\n",
       "      <td>0.005413</td>\n",
       "      <td>01:02</td>\n",
       "    </tr>\n",
       "  </tbody>\n",
       "</table>"
      ],
      "text/plain": [
       "<IPython.core.display.HTML object>"
      ]
     },
     "metadata": {},
     "output_type": "display_data"
    },
    {
     "data": {
      "text/html": [
       "\n",
       "<style>\n",
       "    /* Turns off some styling */\n",
       "    progress {\n",
       "        /* gets rid of default border in Firefox and Opera. */\n",
       "        border: none;\n",
       "        /* Needs to be in here for Safari polyfill so background images work as expected. */\n",
       "        background-size: auto;\n",
       "    }\n",
       "    progress:not([value]), progress:not([value])::-webkit-progress-bar {\n",
       "        background: repeating-linear-gradient(45deg, #7e7e7e, #7e7e7e 10px, #5c5c5c 10px, #5c5c5c 20px);\n",
       "    }\n",
       "    .progress-bar-interrupted, .progress-bar-interrupted::-webkit-progress-bar {\n",
       "        background: #F44336;\n",
       "    }\n",
       "</style>\n"
      ],
      "text/plain": [
       "<IPython.core.display.HTML object>"
      ]
     },
     "metadata": {},
     "output_type": "display_data"
    },
    {
     "data": {
      "text/html": [
       "<table border=\"1\" class=\"dataframe\">\n",
       "  <thead>\n",
       "    <tr style=\"text-align: left;\">\n",
       "      <th>epoch</th>\n",
       "      <th>train_loss</th>\n",
       "      <th>valid_loss</th>\n",
       "      <th>error_rate</th>\n",
       "      <th>time</th>\n",
       "    </tr>\n",
       "  </thead>\n",
       "  <tbody>\n",
       "    <tr>\n",
       "      <td>0</td>\n",
       "      <td>0.070713</td>\n",
       "      <td>0.008834</td>\n",
       "      <td>0.003383</td>\n",
       "      <td>01:01</td>\n",
       "    </tr>\n",
       "  </tbody>\n",
       "</table>"
      ],
      "text/plain": [
       "<IPython.core.display.HTML object>"
      ]
     },
     "metadata": {},
     "output_type": "display_data"
    }
   ],
   "source": [
    "#downloads a statndard dataset\n",
    "learn = vision_learner(dls, resnet34, loss_func=F.cross_entropy, metrics=error_rate)\n",
    "learn.fine_tune(1)"
   ]
  },
  {
   "cell_type": "code",
   "execution_count": 7,
   "id": "48893244",
   "metadata": {
    "execution": {
     "iopub.execute_input": "2023-03-04T09:57:34.827641Z",
     "iopub.status.busy": "2023-03-04T09:57:34.827242Z",
     "iopub.status.idle": "2023-03-04T09:57:34.834336Z",
     "shell.execute_reply": "2023-03-04T09:57:34.833421Z"
    },
    "papermill": {
     "duration": 0.015961,
     "end_time": "2023-03-04T09:57:34.836604",
     "exception": false,
     "start_time": "2023-03-04T09:57:34.820643",
     "status": "completed"
    },
    "tags": []
   },
   "outputs": [
    {
     "data": {
      "text/plain": [
       "True"
      ]
     },
     "execution_count": 7,
     "metadata": {},
     "output_type": "execute_result"
    }
   ],
   "source": [
    "torch.cuda.is_available()"
   ]
  },
  {
   "cell_type": "code",
   "execution_count": 8,
   "id": "a5fa49ad",
   "metadata": {
    "execution": {
     "iopub.execute_input": "2023-03-04T09:57:34.846901Z",
     "iopub.status.busy": "2023-03-04T09:57:34.846369Z",
     "iopub.status.idle": "2023-03-04T09:57:34.851402Z",
     "shell.execute_reply": "2023-03-04T09:57:34.850597Z"
    },
    "papermill": {
     "duration": 0.012332,
     "end_time": "2023-03-04T09:57:34.853529",
     "exception": false,
     "start_time": "2023-03-04T09:57:34.841197",
     "status": "completed"
    },
    "tags": []
   },
   "outputs": [],
   "source": [
    "# File Upload Widget is not working correctly or remote server so i have coomented out for now\n",
    "# import ipywidgets as widgets\n",
    "# uploader = widgets.FileUpload()\n",
    "# uploader"
   ]
  },
  {
   "cell_type": "code",
   "execution_count": 9,
   "id": "32e0f331",
   "metadata": {
    "execution": {
     "iopub.execute_input": "2023-03-04T09:57:34.863860Z",
     "iopub.status.busy": "2023-03-04T09:57:34.863087Z",
     "iopub.status.idle": "2023-03-04T09:57:34.868122Z",
     "shell.execute_reply": "2023-03-04T09:57:34.867273Z"
    },
    "papermill": {
     "duration": 0.012026,
     "end_time": "2023-03-04T09:57:34.869960",
     "exception": false,
     "start_time": "2023-03-04T09:57:34.857934",
     "status": "completed"
    },
    "tags": []
   },
   "outputs": [],
   "source": [
    "# uploader = SimpleNamespace(data = [Path('/root/.fastai/data/oxford-iiit-pet/images/Abyssinian_1.jpg')])\n",
    "# uploader"
   ]
  },
  {
   "cell_type": "code",
   "execution_count": 10,
   "id": "d2bf5f0e",
   "metadata": {
    "execution": {
     "iopub.execute_input": "2023-03-04T09:57:34.880548Z",
     "iopub.status.busy": "2023-03-04T09:57:34.879708Z",
     "iopub.status.idle": "2023-03-04T09:57:34.884034Z",
     "shell.execute_reply": "2023-03-04T09:57:34.883146Z"
    },
    "papermill": {
     "duration": 0.011783,
     "end_time": "2023-03-04T09:57:34.886039",
     "exception": false,
     "start_time": "2023-03-04T09:57:34.874256",
     "status": "completed"
    },
    "tags": []
   },
   "outputs": [],
   "source": [
    "# img = PILImage.create(uploader.data[0])\n",
    "\n",
    "# img = Image.open(uploader.data[0])\n",
    "# img.show()"
   ]
  },
  {
   "cell_type": "code",
   "execution_count": 11,
   "id": "e9e6915c",
   "metadata": {
    "execution": {
     "iopub.execute_input": "2023-03-04T09:57:34.896591Z",
     "iopub.status.busy": "2023-03-04T09:57:34.895672Z",
     "iopub.status.idle": "2023-03-04T09:57:35.096725Z",
     "shell.execute_reply": "2023-03-04T09:57:35.095518Z"
    },
    "papermill": {
     "duration": 0.209013,
     "end_time": "2023-03-04T09:57:35.099503",
     "exception": false,
     "start_time": "2023-03-04T09:57:34.890490",
     "status": "completed"
    },
    "tags": []
   },
   "outputs": [],
   "source": [
    "learn.export()"
   ]
  },
  {
   "cell_type": "code",
   "execution_count": 12,
   "id": "0ce33304",
   "metadata": {
    "execution": {
     "iopub.execute_input": "2023-03-04T09:57:35.110526Z",
     "iopub.status.busy": "2023-03-04T09:57:35.110164Z",
     "iopub.status.idle": "2023-03-04T09:57:35.114491Z",
     "shell.execute_reply": "2023-03-04T09:57:35.113399Z"
    },
    "papermill": {
     "duration": 0.012634,
     "end_time": "2023-03-04T09:57:35.116963",
     "exception": false,
     "start_time": "2023-03-04T09:57:35.104329",
     "status": "completed"
    },
    "tags": []
   },
   "outputs": [],
   "source": [
    "# path.ls(file_exts='.pkl')"
   ]
  },
  {
   "cell_type": "code",
   "execution_count": 13,
   "id": "54394202",
   "metadata": {
    "execution": {
     "iopub.execute_input": "2023-03-04T09:57:35.126843Z",
     "iopub.status.busy": "2023-03-04T09:57:35.126567Z",
     "iopub.status.idle": "2023-03-04T09:57:35.131573Z",
     "shell.execute_reply": "2023-03-04T09:57:35.130684Z"
    },
    "papermill": {
     "duration": 0.012365,
     "end_time": "2023-03-04T09:57:35.133657",
     "exception": false,
     "start_time": "2023-03-04T09:57:35.121292",
     "status": "completed"
    },
    "tags": []
   },
   "outputs": [],
   "source": [
    "# is_cat,_,probs = learn.predict(img)"
   ]
  },
  {
   "cell_type": "code",
   "execution_count": 14,
   "id": "b6d21216",
   "metadata": {
    "execution": {
     "iopub.execute_input": "2023-03-04T09:57:35.143720Z",
     "iopub.status.busy": "2023-03-04T09:57:35.143136Z",
     "iopub.status.idle": "2023-03-04T09:57:35.147881Z",
     "shell.execute_reply": "2023-03-04T09:57:35.147053Z"
    },
    "papermill": {
     "duration": 0.011773,
     "end_time": "2023-03-04T09:57:35.149725",
     "exception": false,
     "start_time": "2023-03-04T09:57:35.137952",
     "status": "completed"
    },
    "tags": []
   },
   "outputs": [],
   "source": [
    "# print(f\"Is this a cat?:{is_cat}.\")\n",
    "# print(f\"Probability it's a cat:{probs[1].item():.6f}\")"
   ]
  }
 ],
 "metadata": {
  "kernelspec": {
   "display_name": "Python 3",
   "language": "python",
   "name": "python3"
  },
  "language_info": {
   "codemirror_mode": {
    "name": "ipython",
    "version": 3
   },
   "file_extension": ".py",
   "mimetype": "text/x-python",
   "name": "python",
   "nbconvert_exporter": "python",
   "pygments_lexer": "ipython3",
   "version": "3.7.12"
  },
  "papermill": {
   "default_parameters": {},
   "duration": 165.460359,
   "end_time": "2023-03-04T09:57:38.335419",
   "environment_variables": {},
   "exception": null,
   "input_path": "__notebook__.ipynb",
   "output_path": "__notebook__.ipynb",
   "parameters": {},
   "start_time": "2023-03-04T09:54:52.875060",
   "version": "2.3.4"
  },
  "widgets": {
   "application/vnd.jupyter.widget-state+json": {
    "state": {
     "02993c2404e6484dbdd0179c9477bf7a": {
      "model_module": "@jupyter-widgets/base",
      "model_module_version": "1.2.0",
      "model_name": "LayoutModel",
      "state": {
       "_model_module": "@jupyter-widgets/base",
       "_model_module_version": "1.2.0",
       "_model_name": "LayoutModel",
       "_view_count": null,
       "_view_module": "@jupyter-widgets/base",
       "_view_module_version": "1.2.0",
       "_view_name": "LayoutView",
       "align_content": null,
       "align_items": null,
       "align_self": null,
       "border": null,
       "bottom": null,
       "display": null,
       "flex": null,
       "flex_flow": null,
       "grid_area": null,
       "grid_auto_columns": null,
       "grid_auto_flow": null,
       "grid_auto_rows": null,
       "grid_column": null,
       "grid_gap": null,
       "grid_row": null,
       "grid_template_areas": null,
       "grid_template_columns": null,
       "grid_template_rows": null,
       "height": null,
       "justify_content": null,
       "justify_items": null,
       "left": null,
       "margin": null,
       "max_height": null,
       "max_width": null,
       "min_height": null,
       "min_width": null,
       "object_fit": null,
       "object_position": null,
       "order": null,
       "overflow": null,
       "overflow_x": null,
       "overflow_y": null,
       "padding": null,
       "right": null,
       "top": null,
       "visibility": null,
       "width": null
      }
     },
     "07744ff557544c14bde48fce6b66c6c2": {
      "model_module": "@jupyter-widgets/controls",
      "model_module_version": "1.5.0",
      "model_name": "FloatProgressModel",
      "state": {
       "_dom_classes": [],
       "_model_module": "@jupyter-widgets/controls",
       "_model_module_version": "1.5.0",
       "_model_name": "FloatProgressModel",
       "_view_count": null,
       "_view_module": "@jupyter-widgets/controls",
       "_view_module_version": "1.5.0",
       "_view_name": "ProgressView",
       "bar_style": "success",
       "description": "",
       "description_tooltip": null,
       "layout": "IPY_MODEL_0da5bbf9296a48acb3fb9834c6e879f8",
       "max": 87319819.0,
       "min": 0.0,
       "orientation": "horizontal",
       "style": "IPY_MODEL_ef8e0464da424f8699080e1def443b10",
       "value": 87319819.0
      }
     },
     "0da5bbf9296a48acb3fb9834c6e879f8": {
      "model_module": "@jupyter-widgets/base",
      "model_module_version": "1.2.0",
      "model_name": "LayoutModel",
      "state": {
       "_model_module": "@jupyter-widgets/base",
       "_model_module_version": "1.2.0",
       "_model_name": "LayoutModel",
       "_view_count": null,
       "_view_module": "@jupyter-widgets/base",
       "_view_module_version": "1.2.0",
       "_view_name": "LayoutView",
       "align_content": null,
       "align_items": null,
       "align_self": null,
       "border": null,
       "bottom": null,
       "display": null,
       "flex": null,
       "flex_flow": null,
       "grid_area": null,
       "grid_auto_columns": null,
       "grid_auto_flow": null,
       "grid_auto_rows": null,
       "grid_column": null,
       "grid_gap": null,
       "grid_row": null,
       "grid_template_areas": null,
       "grid_template_columns": null,
       "grid_template_rows": null,
       "height": null,
       "justify_content": null,
       "justify_items": null,
       "left": null,
       "margin": null,
       "max_height": null,
       "max_width": null,
       "min_height": null,
       "min_width": null,
       "object_fit": null,
       "object_position": null,
       "order": null,
       "overflow": null,
       "overflow_x": null,
       "overflow_y": null,
       "padding": null,
       "right": null,
       "top": null,
       "visibility": null,
       "width": null
      }
     },
     "2bb7d13a1f3c4588b9bc0f11ea2ee0eb": {
      "model_module": "@jupyter-widgets/controls",
      "model_module_version": "1.5.0",
      "model_name": "DescriptionStyleModel",
      "state": {
       "_model_module": "@jupyter-widgets/controls",
       "_model_module_version": "1.5.0",
       "_model_name": "DescriptionStyleModel",
       "_view_count": null,
       "_view_module": "@jupyter-widgets/base",
       "_view_module_version": "1.2.0",
       "_view_name": "StyleView",
       "description_width": ""
      }
     },
     "30178dc700654236bc61a22ad94345f9": {
      "model_module": "@jupyter-widgets/controls",
      "model_module_version": "1.5.0",
      "model_name": "HTMLModel",
      "state": {
       "_dom_classes": [],
       "_model_module": "@jupyter-widgets/controls",
       "_model_module_version": "1.5.0",
       "_model_name": "HTMLModel",
       "_view_count": null,
       "_view_module": "@jupyter-widgets/controls",
       "_view_module_version": "1.5.0",
       "_view_name": "HTMLView",
       "description": "",
       "description_tooltip": null,
       "layout": "IPY_MODEL_02993c2404e6484dbdd0179c9477bf7a",
       "placeholder": "​",
       "style": "IPY_MODEL_2bb7d13a1f3c4588b9bc0f11ea2ee0eb",
       "value": " 83.3M/83.3M [00:01&lt;00:00, 63.3MB/s]"
      }
     },
     "4e6871a9954d495287b92436a8b95f53": {
      "model_module": "@jupyter-widgets/base",
      "model_module_version": "1.2.0",
      "model_name": "LayoutModel",
      "state": {
       "_model_module": "@jupyter-widgets/base",
       "_model_module_version": "1.2.0",
       "_model_name": "LayoutModel",
       "_view_count": null,
       "_view_module": "@jupyter-widgets/base",
       "_view_module_version": "1.2.0",
       "_view_name": "LayoutView",
       "align_content": null,
       "align_items": null,
       "align_self": null,
       "border": null,
       "bottom": null,
       "display": null,
       "flex": null,
       "flex_flow": null,
       "grid_area": null,
       "grid_auto_columns": null,
       "grid_auto_flow": null,
       "grid_auto_rows": null,
       "grid_column": null,
       "grid_gap": null,
       "grid_row": null,
       "grid_template_areas": null,
       "grid_template_columns": null,
       "grid_template_rows": null,
       "height": null,
       "justify_content": null,
       "justify_items": null,
       "left": null,
       "margin": null,
       "max_height": null,
       "max_width": null,
       "min_height": null,
       "min_width": null,
       "object_fit": null,
       "object_position": null,
       "order": null,
       "overflow": null,
       "overflow_x": null,
       "overflow_y": null,
       "padding": null,
       "right": null,
       "top": null,
       "visibility": null,
       "width": null
      }
     },
     "89f1f60637b641fbb979b95e1bb8e25c": {
      "model_module": "@jupyter-widgets/controls",
      "model_module_version": "1.5.0",
      "model_name": "HTMLModel",
      "state": {
       "_dom_classes": [],
       "_model_module": "@jupyter-widgets/controls",
       "_model_module_version": "1.5.0",
       "_model_name": "HTMLModel",
       "_view_count": null,
       "_view_module": "@jupyter-widgets/controls",
       "_view_module_version": "1.5.0",
       "_view_name": "HTMLView",
       "description": "",
       "description_tooltip": null,
       "layout": "IPY_MODEL_a9108a91010f421c96cee88290198f05",
       "placeholder": "​",
       "style": "IPY_MODEL_cd24382f7729450e8d5b635753c8faa5",
       "value": "100%"
      }
     },
     "8ecac5206c3545d39accc7d9403e138a": {
      "model_module": "@jupyter-widgets/controls",
      "model_module_version": "1.5.0",
      "model_name": "HBoxModel",
      "state": {
       "_dom_classes": [],
       "_model_module": "@jupyter-widgets/controls",
       "_model_module_version": "1.5.0",
       "_model_name": "HBoxModel",
       "_view_count": null,
       "_view_module": "@jupyter-widgets/controls",
       "_view_module_version": "1.5.0",
       "_view_name": "HBoxView",
       "box_style": "",
       "children": [
        "IPY_MODEL_89f1f60637b641fbb979b95e1bb8e25c",
        "IPY_MODEL_07744ff557544c14bde48fce6b66c6c2",
        "IPY_MODEL_30178dc700654236bc61a22ad94345f9"
       ],
       "layout": "IPY_MODEL_4e6871a9954d495287b92436a8b95f53"
      }
     },
     "a9108a91010f421c96cee88290198f05": {
      "model_module": "@jupyter-widgets/base",
      "model_module_version": "1.2.0",
      "model_name": "LayoutModel",
      "state": {
       "_model_module": "@jupyter-widgets/base",
       "_model_module_version": "1.2.0",
       "_model_name": "LayoutModel",
       "_view_count": null,
       "_view_module": "@jupyter-widgets/base",
       "_view_module_version": "1.2.0",
       "_view_name": "LayoutView",
       "align_content": null,
       "align_items": null,
       "align_self": null,
       "border": null,
       "bottom": null,
       "display": null,
       "flex": null,
       "flex_flow": null,
       "grid_area": null,
       "grid_auto_columns": null,
       "grid_auto_flow": null,
       "grid_auto_rows": null,
       "grid_column": null,
       "grid_gap": null,
       "grid_row": null,
       "grid_template_areas": null,
       "grid_template_columns": null,
       "grid_template_rows": null,
       "height": null,
       "justify_content": null,
       "justify_items": null,
       "left": null,
       "margin": null,
       "max_height": null,
       "max_width": null,
       "min_height": null,
       "min_width": null,
       "object_fit": null,
       "object_position": null,
       "order": null,
       "overflow": null,
       "overflow_x": null,
       "overflow_y": null,
       "padding": null,
       "right": null,
       "top": null,
       "visibility": null,
       "width": null
      }
     },
     "cd24382f7729450e8d5b635753c8faa5": {
      "model_module": "@jupyter-widgets/controls",
      "model_module_version": "1.5.0",
      "model_name": "DescriptionStyleModel",
      "state": {
       "_model_module": "@jupyter-widgets/controls",
       "_model_module_version": "1.5.0",
       "_model_name": "DescriptionStyleModel",
       "_view_count": null,
       "_view_module": "@jupyter-widgets/base",
       "_view_module_version": "1.2.0",
       "_view_name": "StyleView",
       "description_width": ""
      }
     },
     "ef8e0464da424f8699080e1def443b10": {
      "model_module": "@jupyter-widgets/controls",
      "model_module_version": "1.5.0",
      "model_name": "ProgressStyleModel",
      "state": {
       "_model_module": "@jupyter-widgets/controls",
       "_model_module_version": "1.5.0",
       "_model_name": "ProgressStyleModel",
       "_view_count": null,
       "_view_module": "@jupyter-widgets/base",
       "_view_module_version": "1.2.0",
       "_view_name": "StyleView",
       "bar_color": null,
       "description_width": ""
      }
     }
    },
    "version_major": 2,
    "version_minor": 0
   }
  }
 },
 "nbformat": 4,
 "nbformat_minor": 5
}
